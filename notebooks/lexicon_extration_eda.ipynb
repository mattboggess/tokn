{
 "cells": [
  {
   "cell_type": "markdown",
   "metadata": {},
   "source": [
    "# Lexicon Extraction\n",
    "\n",
    "When we extract a term, we want to extract a bunch of lexical information/attributes for each term, not just a single string. This notebook explores how we could automate extraction of all of the information we care about.\n",
    "\n",
    "High Level Workflow:\n",
    "- Get list of terms by applying classifier over text\n",
    "- Consolidate these terms by reducing on lemmatized version of word & matching acronyms\n",
    "- Go back through the text and find all matches for each lemmatized term\n",
    "- For each of these matches, use Spacy processing/other heuristics as described below to categorize plurals, conjugations, nominalizations, etc.\n",
    "- For any attributes still missing for terms, try to predict/guess these either using some algorithm or lookup resource (not sure best way to do this)\n",
    "- Result in a list of term objects that contain a whole set of lexicon information about the term"
   ]
  },
  {
   "cell_type": "code",
   "execution_count": 21,
   "metadata": {},
   "outputs": [
    {
     "name": "stdout",
     "output_type": "stream",
     "text": [
      "Use device: cpu\n",
      "---\n",
      "Loading: tokenize\n",
      "With settings: \n",
      "{'model_path': '/home/mattboggess7/stanfordnlp_resources/en_ewt_models/en_ewt_tokenizer.pt', 'lang': 'en', 'shorthand': 'en_ewt', 'mode': 'predict'}\n",
      "---\n",
      "Loading: pos\n",
      "With settings: \n",
      "{'model_path': '/home/mattboggess7/stanfordnlp_resources/en_ewt_models/en_ewt_tagger.pt', 'pretrain_path': '/home/mattboggess7/stanfordnlp_resources/en_ewt_models/en_ewt.pretrain.pt', 'lang': 'en', 'shorthand': 'en_ewt', 'mode': 'predict'}\n",
      "---\n",
      "Loading: lemma\n",
      "With settings: \n",
      "{'model_path': '/home/mattboggess7/stanfordnlp_resources/en_ewt_models/en_ewt_lemmatizer.pt', 'lang': 'en', 'shorthand': 'en_ewt', 'mode': 'predict'}\n",
      "Building an attentional Seq2Seq model...\n",
      "Using a Bi-LSTM encoder\n",
      "Using soft attention for LSTM.\n",
      "Finetune all embeddings.\n",
      "[Running seq2seq lemmatizer with edit classifier]\n",
      "---\n",
      "Loading: depparse\n",
      "With settings: \n",
      "{'model_path': '/home/mattboggess7/stanfordnlp_resources/en_ewt_models/en_ewt_parser.pt', 'pretrain_path': '/home/mattboggess7/stanfordnlp_resources/en_ewt_models/en_ewt.pretrain.pt', 'lang': 'en', 'shorthand': 'en_ewt', 'mode': 'predict'}\n",
      "Done loading processors!\n",
      "---\n"
     ]
    }
   ],
   "source": [
    "import warnings\n",
    "import spacy\n",
    "import stanfordnlp\n",
    "from spacy_stanfordnlp import StanfordNLPLanguage\n",
    "from nltk.stem import PorterStemmer\n",
    "\n",
    "ps = PorterStemmer()\n",
    "snlp = stanfordnlp.Pipeline(lang=\"en\")\n",
    "nlp = StanfordNLPLanguage(snlp)\n",
    "\n",
    "warnings.filterwarnings(\"ignore\")\n"
   ]
  },
  {
   "cell_type": "markdown",
   "metadata": {
    "toc-hr-collapsed": false
   },
   "source": [
    "# Noun Terms & Term Phrases"
   ]
  },
  {
   "cell_type": "markdown",
   "metadata": {
    "toc-hr-collapsed": true
   },
   "source": [
    "## Attributes to Extract\n",
    "\n",
    "* **lemmatized singular form**: \n",
    "  * token.lemma_ in Spacy preprocessing\n",
    "  * this will be used as base representation for matching and everything else\n",
    "* **acronym**: \n",
    "  * Extract from text where defined (e.g. deoxyribonucleic acid (DNA))\n",
    "* **plural form**: \n",
    "  * token.tag_ == NNS | NNPS in Spacy preprocessing when a lemmatized form matches \n",
    "  * If no plural match present for a singular lemma form try to directly predict using https://pypi.org/project/inflect/ or better tool (although see note on countability)\n",
    "* **proper vs. improper**: \n",
    "  * token.tag_ == NNP | NNPS in Spacy preprocessing\n",
    "* **indefinite determiner (a vs. an)**: \n",
    "  * Extract from text by looking for occurrences before matches in text \n",
    "* **countable vs. uncountable**: \n",
    "  * Not sure how to extract. May have to use heuristic where non-countable if no plural form detected in text."
   ]
  },
  {
   "cell_type": "markdown",
   "metadata": {
    "toc-hr-collapsed": false
   },
   "source": [
    "## Challenges \n",
    "\n",
    "* Predicting/matching plurals for non-standard terms will probably need to be handled manually on a case by case base (for example, mitochondria vs. mitochondrion)\n",
    "* Determining countability vs. missing plural form: It is difficult to determine countability of a term. One heuristic could be to see if noun appears at least X times. If so, and there is no plural form assume non-countable, otherwise try to predict?\n",
    "* Countable in acronym form (DNAs)"
   ]
  },
  {
   "cell_type": "markdown",
   "metadata": {
    "toc-hr-collapsed": true
   },
   "source": [
    "## Examples"
   ]
  },
  {
   "cell_type": "markdown",
   "metadata": {
    "toc-hr-collapsed": true
   },
   "source": [
    "### deoxyribonucleic acid (DNA)\n",
    "\n",
    "* **lemmatized singular form**: deoxyribonucleic acid\n",
    "* **acronym**: DNA\n",
    "  * Example Sentence: 'The two main types of nucleic acids are deoxyribonucleic acid (DNA) and ribonucleic acid (RNA)'\n",
    "* **plural form**: DNAs\n",
    "  * present in text, but fails to match on lemmatized version\n",
    "* **proper vs. improper**: improper\n",
    "* **indefinite determiner (a vs. an)**: \n",
    "  * uncountable... \n",
    "* **countable vs. uncountable**: \n",
    "  * Both countable and uncountable? \n",
    "* **parts of speech**: ['JJ', 'NN']"
   ]
  },
  {
   "cell_type": "code",
   "execution_count": 22,
   "metadata": {},
   "outputs": [
    {
     "name": "stdout",
     "output_type": "stream",
     "text": [
      "DNAs\n",
      "NNS\n",
      "\n",
      "JJ\n",
      "NN\n"
     ]
    }
   ],
   "source": [
    "# fails to correctly lemmatize plural though detects as plural\n",
    "for token in nlp(('The kinetoplastid subgroup is named after the kinetoplast, a large'\n",
    "                   'modified mitochondrion carrying multiple circular DNAs.')):\n",
    "    if token.text == 'DNAs':\n",
    "        print(token.lemma_)\n",
    "        print(token.tag_)\n",
    "\n",
    "print()\n",
    "# parts of speech for full phrase\n",
    "print(nlp('deoxyribonucleic acid')[0].tag_)\n",
    "print(nlp('deoxyribonucleic acid')[1].tag_)"
   ]
  },
  {
   "cell_type": "markdown",
   "metadata": {},
   "source": [
    "### mitochondrion\n",
    "\n",
    "* **lemmatized singular form**: mitochondrion \n",
    "* **acronym**: n/a\n",
    "* **plural form**: mitochondria\n",
    "  * present in text, but fails to match on lemmatized version or be detected\n",
    "* **proper vs. improper**: improper\n",
    "* **indefinite determiner (a vs. an)**: a \n",
    "  * uncountable... \n",
    "* **countable vs. uncountable**: countable\n",
    "* **parts of speech**: ['NN']"
   ]
  },
  {
   "cell_type": "code",
   "execution_count": 31,
   "metadata": {},
   "outputs": [
    {
     "name": "stdout",
     "output_type": "stream",
     "text": [
      "NN\n",
      "mitochondrion\n",
      "NN\n",
      "mitochondria\n"
     ]
    }
   ],
   "source": [
    "# doesn't detect plural form or correctly lemmatize\n",
    "print(nlp('there is a mitochondrion')[-1].tag_)\n",
    "print(nlp('mitochondrion')[0].lemma_)\n",
    "print(nlp('there are many mitochondria')[-1].tag_)\n",
    "print(nlp('mitochondria')[0].lemma_)"
   ]
  },
  {
   "cell_type": "markdown",
   "metadata": {},
   "source": [
    "# Verb Terms"
   ]
  },
  {
   "cell_type": "markdown",
   "metadata": {},
   "source": [
    "## Attributes to Extract\n",
    "\n",
    "* **infinitive (root form)**:\n",
    "  * token.lemma_ in Spacy preprocessing\n",
    "* **present participle/progressive**:\n",
    "  * token.tag_ == VBG\n",
    "  * how to extract if not present in text?\n",
    "* **past participle**:\n",
    "  * token.tag_ == VBN\n",
    "  * how to extract if not present in text?\n",
    "* **past tense**:\n",
    "  * token.tag_ == VBD\n",
    "  * how to extract if not present in text?\n",
    "* **3rd person singular**:\n",
    "  * token.tag_ == VBZ\n",
    "  * how to extract if not present in text?\n",
    "* **Nominalization(s)**:\n",
    "  * how to extract?\n",
    "  * one heuristic: look for nouns with matching stem (could additionally verify with common nominalization endings such as ion, ation, etc.)"
   ]
  },
  {
   "cell_type": "markdown",
   "metadata": {},
   "source": [
    "## Challenges\n",
    "\n",
    "* Extracting particular inflectional derivations if not present in text and Spacy taggable. Perhaps look for external site that could be used to look up? Lemmatization can also be imperfect across various conjugations\n",
    "* Matching nominalizations: not sure if there is a better tool than the hack I suggested above"
   ]
  },
  {
   "cell_type": "markdown",
   "metadata": {},
   "source": [
    "## Examples"
   ]
  },
  {
   "cell_type": "markdown",
   "metadata": {},
   "source": [
    "### diffuse/diffusion\n",
    "\n",
    "* **infinitive (root form)**: diffuse\n",
    "* **present participle/progressive**: diffusing (fails to match on lemma)\n",
    "* **past participle**: diffused\n",
    "* **past tense**: diffused\n",
    "* **3rd person singular**: diffuses\n",
    "* **Nominalization(s)**: diffusion\n"
   ]
  },
  {
   "cell_type": "code",
   "execution_count": 50,
   "metadata": {},
   "outputs": [
    {
     "name": "stdout",
     "output_type": "stream",
     "text": [
      "VBZ\n",
      "diffuse\n",
      "\n",
      "VBN\n",
      "VBD\n",
      "diffuse\n",
      "\n",
      "VBG\n",
      "diffusing\n"
     ]
    }
   ],
   "source": [
    "# 3rd person singular\n",
    "print(nlp('diffuses')[0].tag_)\n",
    "print(nlp('diffuses')[0].lemma_)\n",
    "print()\n",
    "# past tense/participle\n",
    "print(nlp('diffused')[0].tag_)\n",
    "print(nlp('it diffused')[1].tag_)\n",
    "print(nlp('diffused')[0].lemma_)\n",
    "print()\n",
    "# present participle\n",
    "print(nlp('it is diffusing')[-1].tag_)\n",
    "print(nlp('it is diffusing')[-1].lemma_)"
   ]
  },
  {
   "cell_type": "code",
   "execution_count": 40,
   "metadata": {},
   "outputs": [
    {
     "name": "stdout",
     "output_type": "stream",
     "text": [
      "diffus\n",
      "diffus\n"
     ]
    }
   ],
   "source": [
    "# can match on stem with different POS tags and key ending -ion\n",
    "print(ps.stem(\"diffusion\"))\n",
    "print(ps.stem(\"diffuses\"))"
   ]
  },
  {
   "cell_type": "markdown",
   "metadata": {},
   "source": [
    "# Adjective Terms"
   ]
  },
  {
   "cell_type": "markdown",
   "metadata": {},
   "source": [
    "## Attributes to Extract\n",
    "\n",
    "* **base form**:\n",
    "  * token.tag_ == JJ\n",
    "* **comparative**:\n",
    "  * token.tag_ == JJR\n",
    "  * How to extract/determine exists if not present?\n",
    "* **superlative**:\n",
    "  * token.tag_ == JJS\n",
    "  * How to extract/determine exists if not present?\n",
    "* **non-attributive vs. attributive**:\n",
    "  * ??? How to extract?\n"
   ]
  },
  {
   "cell_type": "markdown",
   "metadata": {},
   "source": [
    "## Challenges\n",
    "\n",
    "* How to determine attributiveness?\n",
    "* HOw to determine comparative & superlative forms if not present?"
   ]
  },
  {
   "cell_type": "markdown",
   "metadata": {},
   "source": [
    "## Examples"
   ]
  },
  {
   "cell_type": "markdown",
   "metadata": {},
   "source": [
    "### anabolic\n",
    "\n",
    "* base form: anabolic\n",
    "* comparative: more anabolic \n",
    "* superlative: most anabolic\n",
    "* non-attributive\n",
    "\n",
    "-> Would anabolism be separate? Or are there "
   ]
  },
  {
   "cell_type": "markdown",
   "metadata": {},
   "source": [
    "# Summary of Key Challenges\n",
    "\n",
    "* Even if present in text, inflections do not always match on lemmatized versions (mitochondria vs. mitochondrion, diffusing vs. diffuse)\n",
    "* If inflectional forms are not present, need way to predict or external lookup source (ideally)\n",
    "* Certain aspects are not easily extractable from common preprocessing (nominalizations, countability, etc.) "
   ]
  },
  {
   "cell_type": "code",
   "execution_count": null,
   "metadata": {},
   "outputs": [],
   "source": []
  }
 ],
 "metadata": {
  "kernelspec": {
   "display_name": "tokn",
   "language": "python",
   "name": "tokn"
  },
  "language_info": {
   "codemirror_mode": {
    "name": "ipython",
    "version": 3
   },
   "file_extension": ".py",
   "mimetype": "text/x-python",
   "name": "python",
   "nbconvert_exporter": "python",
   "pygments_lexer": "ipython3",
   "version": "3.7.4"
  }
 },
 "nbformat": 4,
 "nbformat_minor": 2
}
