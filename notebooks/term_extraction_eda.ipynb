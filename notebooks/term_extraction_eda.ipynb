{
 "cells": [
  {
   "cell_type": "code",
   "execution_count": 4,
   "metadata": {},
   "outputs": [],
   "source": [
    "import pandas as pd\n",
    "import json\n",
    "\n",
    "TEXTBOOKS = [\"anatomy\", \"astronomy\", \"biology\", \"chemistry\", \"microbiology\", \n",
    "             \"physicsv1\", \"physicsv2\", \"physicsv3\"]\n",
    "data_dir = \"../data/term_extraction/openstax_textbooks/data\"\n",
    "\n",
    "df = pd.DataFrame({\"textbook\": TEXTBOOKS})"
   ]
  },
  {
   "cell_type": "code",
   "execution_count": 5,
   "metadata": {},
   "outputs": [
    {
     "data": {
      "text/html": [
       "<div>\n",
       "<style scoped>\n",
       "    .dataframe tbody tr th:only-of-type {\n",
       "        vertical-align: middle;\n",
       "    }\n",
       "\n",
       "    .dataframe tbody tr th {\n",
       "        vertical-align: top;\n",
       "    }\n",
       "\n",
       "    .dataframe thead th {\n",
       "        text-align: right;\n",
       "    }\n",
       "</style>\n",
       "<table border=\"1\" class=\"dataframe\">\n",
       "  <thead>\n",
       "    <tr style=\"text-align: right;\">\n",
       "      <th></th>\n",
       "      <th>textbook</th>\n",
       "      <th>num_terms</th>\n",
       "      <th>num_sentences</th>\n",
       "    </tr>\n",
       "  </thead>\n",
       "  <tbody>\n",
       "    <tr>\n",
       "      <td>0</td>\n",
       "      <td>anatomy</td>\n",
       "      <td>3024</td>\n",
       "      <td>17333</td>\n",
       "    </tr>\n",
       "    <tr>\n",
       "      <td>1</td>\n",
       "      <td>astronomy</td>\n",
       "      <td>327</td>\n",
       "      <td>13498</td>\n",
       "    </tr>\n",
       "    <tr>\n",
       "      <td>2</td>\n",
       "      <td>biology</td>\n",
       "      <td>2292</td>\n",
       "      <td>19844</td>\n",
       "    </tr>\n",
       "    <tr>\n",
       "      <td>3</td>\n",
       "      <td>chemistry</td>\n",
       "      <td>747</td>\n",
       "      <td>10635</td>\n",
       "    </tr>\n",
       "    <tr>\n",
       "      <td>4</td>\n",
       "      <td>microbiology</td>\n",
       "      <td>1651</td>\n",
       "      <td>13750</td>\n",
       "    </tr>\n",
       "    <tr>\n",
       "      <td>5</td>\n",
       "      <td>physicsv1</td>\n",
       "      <td>315</td>\n",
       "      <td>7468</td>\n",
       "    </tr>\n",
       "    <tr>\n",
       "      <td>6</td>\n",
       "      <td>physicsv2</td>\n",
       "      <td>293</td>\n",
       "      <td>5387</td>\n",
       "    </tr>\n",
       "    <tr>\n",
       "      <td>7</td>\n",
       "      <td>physicsv3</td>\n",
       "      <td>397</td>\n",
       "      <td>4739</td>\n",
       "    </tr>\n",
       "  </tbody>\n",
       "</table>\n",
       "</div>"
      ],
      "text/plain": [
       "       textbook  num_terms  num_sentences\n",
       "0       anatomy       3024          17333\n",
       "1     astronomy        327          13498\n",
       "2       biology       2292          19844\n",
       "3     chemistry        747          10635\n",
       "4  microbiology       1651          13750\n",
       "5     physicsv1        315           7468\n",
       "6     physicsv2        293           5387\n",
       "7     physicsv3        397           4739"
      ]
     },
     "execution_count": 5,
     "metadata": {},
     "output_type": "execute_result"
    }
   ],
   "source": [
    "num_sentences = []\n",
    "num_terms = []\n",
    "for textbook in TEXTBOOKS:\n",
    "    with open(f\"{data_dir}/{textbook}_chapter_sentences.txt\", \"r\") as f:\n",
    "        num_sentences.append(len(f.readlines()))\n",
    "    with open(f\"{data_dir}/{textbook}_glossary.json\", \"r\") as f:\n",
    "        num_terms.append(len(json.load(f).keys()))\n",
    "        \n",
    "df['num_terms'] = num_terms\n",
    "df['num_sentences'] = num_sentences\n",
    "df"
   ]
  },
  {
   "cell_type": "code",
   "execution_count": null,
   "metadata": {},
   "outputs": [],
   "source": []
  }
 ],
 "metadata": {
  "kernelspec": {
   "display_name": "tokn",
   "language": "python",
   "name": "tokn"
  },
  "language_info": {
   "codemirror_mode": {
    "name": "ipython",
    "version": 3
   },
   "file_extension": ".py",
   "mimetype": "text/x-python",
   "name": "python",
   "nbconvert_exporter": "python",
   "pygments_lexer": "ipython3",
   "version": "3.7.4"
  }
 },
 "nbformat": 4,
 "nbformat_minor": 4
}
