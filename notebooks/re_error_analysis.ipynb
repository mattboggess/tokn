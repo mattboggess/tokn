{
 "cells": [
  {
   "cell_type": "code",
   "execution_count": 40,
   "metadata": {},
   "outputs": [],
   "source": [
    "import ipywidgets as widgets\n",
    "import json\n",
    "\n",
    "relations_db_file = \"../data/relation_extraction/relations_db.json\"\n",
    "with open(relations_db_file, \"r\") as f:\n",
    "    relations_db = json.load(f)\n",
    "\n",
    "# Modify these to look at different model results\n",
    "metrics_file = \"../../taxonomy_metrics.json\"\n",
    "with open(metrics_file, \"r\") as f:\n",
    "    metrics = json.load(f)\n",
    "errors_file = \"../../taxonomy_errors.json\"\n",
    "with open(errors_file, \"r\") as f:\n",
    "    errors = json.load(f)"
   ]
  },
  {
   "cell_type": "markdown",
   "metadata": {},
   "source": [
    "## Display Metrics"
   ]
  },
  {
   "cell_type": "code",
   "execution_count": 41,
   "metadata": {},
   "outputs": [
    {
     "data": {
      "text/plain": [
       "{'loss': 0.6371562875186404,\n",
       " 'accuracy': 0.7210526315789474,\n",
       " 'macro_f1': 0.7134238310708899,\n",
       " 'micro_f1': 0.7210526315789474,\n",
       " 'micro_precision': 0.7210526315789474,\n",
       " 'macro_precision': 0.7436923076923077,\n",
       " 'micro_recall': 0.7210526315789474,\n",
       " 'macro_recall': 0.7194148936170213}"
      ]
     },
     "execution_count": 41,
     "metadata": {},
     "output_type": "execute_result"
    }
   ],
   "source": [
    "metrics"
   ]
  },
  {
   "cell_type": "markdown",
   "metadata": {},
   "source": [
    "# Inspect Errors"
   ]
  },
  {
   "cell_type": "code",
   "execution_count": 42,
   "metadata": {},
   "outputs": [
    {
     "data": {
      "application/vnd.jupyter.widget-view+json": {
       "model_id": "7ccb26c7f0124d7287ac254edd36b702",
       "version_major": 2,
       "version_minor": 0
      },
      "text/plain": [
       "interactive(children=(Dropdown(description='Relation:', options=('no-relation', 'subclass-of'), value='no-rela…"
      ]
     },
     "metadata": {},
     "output_type": "display_data"
    }
   ],
   "source": [
    "relation = widgets.Dropdown(\n",
    "    options=list(errors.keys()),\n",
    "    description='Relation:',\n",
    "    disabled=False,\n",
    ")\n",
    "error_classes = widgets.Dropdown(\n",
    "    options=[\"true_positives\", \"false_positives\", \"false_negatives\", \"true_negatives\"],\n",
    "    description='Error Class:',\n",
    "    disabled=False,\n",
    ")\n",
    "word_pairs = widgets.Dropdown(\n",
    "    options=errors[relation.value][error_classes.value],\n",
    "    description='Term Pair:',\n",
    "    disabled=False,\n",
    ")\n",
    "def update_word_pairs(*args):\n",
    "    print(\"a\")\n",
    "    word_pairs.options = errors[relation.value][error_classes.value]\n",
    "relation.observe(update_word_pairs, 'value')\n",
    "error_classes.observe(update_word_pairs, 'value')\n",
    "\n",
    "def display_errors(relation, error_class, word_pair):\n",
    "    for relation in relations_db.keys():\n",
    "        if word_pair in relations_db[relation]:\n",
    "            for sent in relations_db[relation][word_pair][\"sentences\"]:\n",
    "                print(sent)\n",
    "                print()\n",
    "\n",
    "interact(display_errors, relation=relation, error_class=error_classes, word_pair=word_pairs);"
   ]
  },
  {
   "cell_type": "code",
   "execution_count": 32,
   "metadata": {},
   "outputs": [
    {
     "data": {
      "text/plain": [
       "{'no-relation': {'false_positives': ['desert -> ecosystem',\n",
       "   'water -> chemical',\n",
       "   'chemical -> substance',\n",
       "   'molecule -> chemical',\n",
       "   'dinosaur -> reptile',\n",
       "   'bean -> seed',\n",
       "   'ganglion -> met',\n",
       "   'astrocyte -> glial cell',\n",
       "   'branch -> stem',\n",
       "   'retinal -> visual pigment',\n",
       "   'carbohydrate -> experiment',\n",
       "   'lycophyte -> vascular plant'],\n",
       "  'true_positives': ['migrate -> flatworm',\n",
       "   'production -> neuron',\n",
       "   'space -> atom',\n",
       "   'end -> allosteric site',\n",
       "   'adult -> caterpillar',\n",
       "   'length -> plant',\n",
       "   'beetle -> caterpillar',\n",
       "   'fragment -> phosphate',\n",
       "   'information -> brainstem',\n",
       "   'lead -> prey',\n",
       "   'sex -> secrete',\n",
       "   'direction -> air sac',\n",
       "   'production -> mitochondria',\n",
       "   'information -> complex',\n",
       "   'retain -> peptidoglycan',\n",
       "   'substrate -> kinase',\n",
       "   'Na -> prostate gland',\n",
       "   'determine -> consumption',\n",
       "   'fruit -> distance',\n",
       "   'virus -> system',\n",
       "   'leg -> circulate',\n",
       "   'cycle -> group',\n",
       "   'milk -> surface',\n",
       "   'scientist -> human',\n",
       "   'lead -> people',\n",
       "   'shell -> produce',\n",
       "   'form -> influence',\n",
       "   'cavity -> gland',\n",
       "   'anatomy -> rotifer',\n",
       "   'kinase -> nucleus',\n",
       "   'shape -> feature',\n",
       "   'protein -> activate',\n",
       "   'if -> parent',\n",
       "   'concentration -> blood vessel',\n",
       "   'cytosine -> pyrimidine',\n",
       "   'stop -> lung',\n",
       "   'binary fission in prokaryote -> tubulin',\n",
       "   'production -> gluconeogenesis',\n",
       "   'membrane protein -> protein',\n",
       "   'diatom -> protist',\n",
       "   'spectrum -> wavelength',\n",
       "   'particle -> lipoprotein',\n",
       "   'homozygous dominant -> A',\n",
       "   'turbellarian -> flatworm',\n",
       "   'sugar -> carbohydrate',\n",
       "   'larva -> endoderm',\n",
       "   'carotenoid -> accessory pigment',\n",
       "   'aldose -> aldehyde',\n",
       "   'protein -> organic molecule',\n",
       "   'As -> voltage',\n",
       "   'earthworm -> oligochaete',\n",
       "   'influenza virus -> antibodies',\n",
       "   'food chain -> energy source']},\n",
       " 'subclass-of': {'false_positives': ['spindle -> person',\n",
       "   'climate change -> alter',\n",
       "   'cytochrome -> center',\n",
       "   'marine biome -> form',\n",
       "   'semipermeable -> region',\n",
       "   'synaptonemal complex -> nonsister chromatid',\n",
       "   'hydrolysis -> protein phosphatase',\n",
       "   'bacterial cell -> eukaryotic cell',\n",
       "   'mitochondria -> thylakoid lumen',\n",
       "   'wavelength -> water',\n",
       "   'vertebrate -> tapeworm',\n",
       "   'plant cell -> fatty acid',\n",
       "   'Cnidaria -> polyp',\n",
       "   'RNA primer -> extend',\n",
       "   'isotope -> detect',\n",
       "   'prokaryote -> culture',\n",
       "   'dissolve -> oxygen',\n",
       "   'B cell receptor -> cell',\n",
       "   'mycelium -> individual',\n",
       "   'nuclear envelope -> spindle',\n",
       "   'covalent bond -> condition',\n",
       "   'transport protein -> water',\n",
       "   'concentration of -> species',\n",
       "   'data -> mountain',\n",
       "   'make -> cilia',\n",
       "   'sarcoplasmic reticulum -> endoplasmic reticulum',\n",
       "   'incomplete flower -> flower',\n",
       "   'chimera -> organism',\n",
       "   'lactose -> disaccharide',\n",
       "   'membrane -> plant cell',\n",
       "   'bird -> pterosaur',\n",
       "   'fructose -> ketose',\n",
       "   'fat -> butter',\n",
       "   'intermediate filament -> fibrous protein',\n",
       "   'basophil -> leukocyte',\n",
       "   'seabird -> bird',\n",
       "   'aquatic ecosystem -> ecosystem',\n",
       "   'base -> home',\n",
       "   'yolk sac -> extraembryonic membrane',\n",
       "   'mineralocorticoid -> corticosteroid',\n",
       "   'carbon dioxide -> urea'],\n",
       "  'true_positives': ['photosystem I -> photosystem',\n",
       "   'microphyll -> leaf',\n",
       "   'amnion -> extraembryonic membrane',\n",
       "   'receptor protein -> protein',\n",
       "   'sister chromatid -> chromatid',\n",
       "   'hydrophilic end -> end',\n",
       "   'cartilage -> connective tissue',\n",
       "   'mite -> arachnid',\n",
       "   'RNA primer -> primer',\n",
       "   'natural family planning -> contraception',\n",
       "   'membrane potential -> voltage',\n",
       "   'wild - type -> phenotype',\n",
       "   'protein kinase -> kinase',\n",
       "   'Viagra -> drug',\n",
       "   'bryophyte -> plant',\n",
       "   'distal tubule -> tubule',\n",
       "   'lysosome -> organelle',\n",
       "   'unfertilized egg -> egg',\n",
       "   'trochophore larva -> larva',\n",
       "   'animal cell -> eukaryotic cell',\n",
       "   'aggregate fruit -> fruit',\n",
       "   'coral reef -> marine biome',\n",
       "   'octopus -> cephalopod',\n",
       "   'nematode -> ecdysozoan',\n",
       "   'krill -> crustacean',\n",
       "   'glyoxysome -> peroxisome',\n",
       "   'sex hormone -> steroid hormone',\n",
       "   'nervous tissue -> tissue',\n",
       "   'deoxyribose -> pentose',\n",
       "   'mucin -> glycoprotein',\n",
       "   'synaptic vesicle -> vesicle',\n",
       "   'lipid -> organic molecule',\n",
       "   'hexose -> monosaccharide',\n",
       "   'leech -> annelid',\n",
       "   'ovary -> gonad',\n",
       "   'ribose -> pentose',\n",
       "   'tendon -> fibrous connective tissue',\n",
       "   'open circulatory system -> circulatory system',\n",
       "   'pyloric sphincter -> sphincter',\n",
       "   'tundra -> terrestrial biome',\n",
       "   'pore -> region',\n",
       "   'flavoprotein -> protein',\n",
       "   'kelp -> brown alga',\n",
       "   'weak base -> base',\n",
       "   'brachiopod -> lophotrochozoan',\n",
       "   'phospholipid layer -> layer',\n",
       "   'phloem -> vascular tissue',\n",
       "   'pine -> conifer',\n",
       "   'tracheal system -> respiratory system',\n",
       "   'enhancer -> control element',\n",
       "   'goiter -> disease',\n",
       "   'pressure gradient -> gradient',\n",
       "   'reproduce -> create',\n",
       "   'embryo -> secrete',\n",
       "   'treat -> phage',\n",
       "   'phosphorylase kinase -> protein kinase',\n",
       "   'target cell -> influence',\n",
       "   'genome sequencing -> genome',\n",
       "   'CO -> bacteria',\n",
       "   'plankton -> aquatic organism',\n",
       "   'substrate -> reduce',\n",
       "   'phosphodiester linkage -> nucleic acid',\n",
       "   'plastocyanin -> protein',\n",
       "   'length of -> culture',\n",
       "   'endonuclease -> manner',\n",
       "   'reproductive cell -> organism',\n",
       "   'diameter -> increase',\n",
       "   'somite -> mesoderm',\n",
       "   'ice -> chemical',\n",
       "   'coenzyme -> hair',\n",
       "   'zoospore -> spore',\n",
       "   'evolution -> biology',\n",
       "   'pulmonary artery -> artery',\n",
       "   'dinosaur -> form',\n",
       "   'antigen -> domain',\n",
       "   'carrot -> root',\n",
       "   'vein -> connect',\n",
       "   'distinguish -> Squamata',\n",
       "   'concentration gradient -> gradient',\n",
       "   'amniote -> tetrapod',\n",
       "   'antibodies -> attract',\n",
       "   'semilunar valve -> valve',\n",
       "   'water -> membrane protein',\n",
       "   'electron -> subatomic particle']}}"
      ]
     },
     "execution_count": 32,
     "metadata": {},
     "output_type": "execute_result"
    }
   ],
   "source": [
    "errors"
   ]
  },
  {
   "cell_type": "code",
   "execution_count": 21,
   "metadata": {},
   "outputs": [
    {
     "data": {
      "application/vnd.jupyter.widget-view+json": {
       "model_id": "d8e94dad45844464b7900f029e1b7972",
       "version_major": 2,
       "version_minor": 0
      },
      "text/plain": [
       "Dropdown(description='Error Class:', options=('true_positives', 'false_positives', 'false_negatives', 'true_ne…"
      ]
     },
     "metadata": {},
     "output_type": "display_data"
    }
   ],
   "source": [
    "error_classes"
   ]
  },
  {
   "cell_type": "code",
   "execution_count": 22,
   "metadata": {},
   "outputs": [
    {
     "data": {
      "application/vnd.jupyter.widget-view+json": {
       "model_id": "49d820058f80429e9635f3746bdcead8",
       "version_major": 2,
       "version_minor": 0
      },
      "text/plain": [
       "Dropdown(description='Term Pair:', options=(), value=None)"
      ]
     },
     "metadata": {},
     "output_type": "display_data"
    }
   ],
   "source": [
    "word_pairs"
   ]
  },
  {
   "cell_type": "code",
   "execution_count": null,
   "metadata": {},
   "outputs": [],
   "source": []
  }
 ],
 "metadata": {
  "kernelspec": {
   "display_name": "Python 3",
   "language": "python",
   "name": "python3"
  },
  "language_info": {
   "codemirror_mode": {
    "name": "ipython",
    "version": 3
   },
   "file_extension": ".py",
   "mimetype": "text/x-python",
   "name": "python",
   "nbconvert_exporter": "python",
   "pygments_lexer": "ipython3",
   "version": "3.7.3"
  }
 },
 "nbformat": 4,
 "nbformat_minor": 4
}
