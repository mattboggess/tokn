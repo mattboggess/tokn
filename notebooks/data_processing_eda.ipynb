{
 "cells": [
  {
   "cell_type": "markdown",
   "metadata": {},
   "source": [
    "# Data Processing EDA\n",
    "\n",
    "This notebook computes summary statistics and performs sanity checks on the data processing pipelines (raw_data -> relations database and sentences tagged with key terms)."
   ]
  },
  {
   "cell_type": "code",
   "execution_count": 66,
   "metadata": {},
   "outputs": [
    {
     "ename": "SystemExit",
     "evalue": "1",
     "output_type": "error",
     "traceback": [
      "\u001b[0;31m---------------------------------------------------------------------------\u001b[0m",
      "\u001b[0;31mFileNotFoundError\u001b[0m                         Traceback (most recent call last)",
      "\u001b[0;32m~/anaconda3/envs/pytorch_p36/lib/python3.6/site-packages/stanfordnlp/models/tokenize/trainer.py\u001b[0m in \u001b[0;36mload\u001b[0;34m(self, filename)\u001b[0m\n\u001b[1;32m     81\u001b[0m         \u001b[0;32mtry\u001b[0m\u001b[0;34m:\u001b[0m\u001b[0;34m\u001b[0m\u001b[0m\n\u001b[0;32m---> 82\u001b[0;31m             \u001b[0mcheckpoint\u001b[0m \u001b[0;34m=\u001b[0m \u001b[0mtorch\u001b[0m\u001b[0;34m.\u001b[0m\u001b[0mload\u001b[0m\u001b[0;34m(\u001b[0m\u001b[0mfilename\u001b[0m\u001b[0;34m,\u001b[0m \u001b[0;32mlambda\u001b[0m \u001b[0mstorage\u001b[0m\u001b[0;34m,\u001b[0m \u001b[0mloc\u001b[0m\u001b[0;34m:\u001b[0m \u001b[0mstorage\u001b[0m\u001b[0;34m)\u001b[0m\u001b[0;34m\u001b[0m\u001b[0m\n\u001b[0m\u001b[1;32m     83\u001b[0m         \u001b[0;32mexcept\u001b[0m \u001b[0mBaseException\u001b[0m\u001b[0;34m:\u001b[0m\u001b[0;34m\u001b[0m\u001b[0m\n",
      "\u001b[0;32m~/anaconda3/envs/pytorch_p36/lib/python3.6/site-packages/torch/serialization.py\u001b[0m in \u001b[0;36mload\u001b[0;34m(f, map_location, pickle_module, **pickle_load_args)\u001b[0m\n\u001b[1;32m    380\u001b[0m         \u001b[0mnew_fd\u001b[0m \u001b[0;34m=\u001b[0m \u001b[0;32mTrue\u001b[0m\u001b[0;34m\u001b[0m\u001b[0m\n\u001b[0;32m--> 381\u001b[0;31m         \u001b[0mf\u001b[0m \u001b[0;34m=\u001b[0m \u001b[0mopen\u001b[0m\u001b[0;34m(\u001b[0m\u001b[0mf\u001b[0m\u001b[0;34m,\u001b[0m \u001b[0;34m'rb'\u001b[0m\u001b[0;34m)\u001b[0m\u001b[0;34m\u001b[0m\u001b[0m\n\u001b[0m\u001b[1;32m    382\u001b[0m     \u001b[0;32melif\u001b[0m \u001b[0;34m(\u001b[0m\u001b[0msys\u001b[0m\u001b[0;34m.\u001b[0m\u001b[0mversion_info\u001b[0m\u001b[0;34m[\u001b[0m\u001b[0;36m0\u001b[0m\u001b[0;34m]\u001b[0m \u001b[0;34m==\u001b[0m \u001b[0;36m3\u001b[0m \u001b[0;32mand\u001b[0m \u001b[0misinstance\u001b[0m\u001b[0;34m(\u001b[0m\u001b[0mf\u001b[0m\u001b[0;34m,\u001b[0m \u001b[0mpathlib\u001b[0m\u001b[0;34m.\u001b[0m\u001b[0mPath\u001b[0m\u001b[0;34m)\u001b[0m\u001b[0;34m)\u001b[0m\u001b[0;34m:\u001b[0m\u001b[0;34m\u001b[0m\u001b[0m\n",
      "\u001b[0;31mFileNotFoundError\u001b[0m: [Errno 2] No such file or directory: '/home/ubuntu/stanfordnlp_resources/en_ewt_models/en_ewt_tokenizer.pt'",
      "\nDuring handling of the above exception, another exception occurred:\n",
      "\u001b[0;31mSystemExit\u001b[0m                                Traceback (most recent call last)",
      "\u001b[0;32m<ipython-input-2-0cbe3e50d728>\u001b[0m in \u001b[0;36m<module>\u001b[0;34m()\u001b[0m\n\u001b[1;32m     10\u001b[0m \u001b[0;32mfrom\u001b[0m \u001b[0mspacy_stanfordnlp\u001b[0m \u001b[0;32mimport\u001b[0m \u001b[0mStanfordNLPLanguage\u001b[0m\u001b[0;34m\u001b[0m\u001b[0m\n\u001b[1;32m     11\u001b[0m \u001b[0;31m#stanfordnlp.download('en')\u001b[0m\u001b[0;34m\u001b[0m\u001b[0;34m\u001b[0m\u001b[0m\n\u001b[0;32m---> 12\u001b[0;31m \u001b[0msnlp\u001b[0m \u001b[0;34m=\u001b[0m \u001b[0mstanfordnlp\u001b[0m\u001b[0;34m.\u001b[0m\u001b[0mPipeline\u001b[0m\u001b[0;34m(\u001b[0m\u001b[0mlang\u001b[0m\u001b[0;34m=\u001b[0m\u001b[0;34m\"en\"\u001b[0m\u001b[0;34m)\u001b[0m\u001b[0;34m\u001b[0m\u001b[0m\n\u001b[0m\u001b[1;32m     13\u001b[0m \u001b[0mnlp\u001b[0m \u001b[0;34m=\u001b[0m \u001b[0mStanfordNLPLanguage\u001b[0m\u001b[0;34m(\u001b[0m\u001b[0msnlp\u001b[0m\u001b[0;34m)\u001b[0m\u001b[0;34m\u001b[0m\u001b[0m\n\u001b[1;32m     14\u001b[0m \u001b[0;34m\u001b[0m\u001b[0m\n",
      "\u001b[0;32m~/anaconda3/envs/pytorch_p36/lib/python3.6/site-packages/stanfordnlp/pipeline/core.py\u001b[0m in \u001b[0;36m__init__\u001b[0;34m(self, processors, lang, models_dir, treebank, use_gpu, **kwargs)\u001b[0m\n\u001b[1;32m    121\u001b[0m                 self.processors[processor_name] = NAME_TO_PROCESSOR_CLASS[processor_name](config=curr_processor_config,\n\u001b[1;32m    122\u001b[0m                                                                                           \u001b[0mpipeline\u001b[0m\u001b[0;34m=\u001b[0m\u001b[0mself\u001b[0m\u001b[0;34m,\u001b[0m\u001b[0;34m\u001b[0m\u001b[0m\n\u001b[0;32m--> 123\u001b[0;31m                                                                                           use_gpu=self.use_gpu)\n\u001b[0m\u001b[1;32m    124\u001b[0m             \u001b[0;32mexcept\u001b[0m \u001b[0mProcessorRequirementsException\u001b[0m \u001b[0;32mas\u001b[0m \u001b[0me\u001b[0m\u001b[0;34m:\u001b[0m\u001b[0;34m\u001b[0m\u001b[0m\n\u001b[1;32m    125\u001b[0m                 \u001b[0;31m# if there was a requirements issue, add it to list which will be printed at end\u001b[0m\u001b[0;34m\u001b[0m\u001b[0;34m\u001b[0m\u001b[0m\n",
      "\u001b[0;32m~/anaconda3/envs/pytorch_p36/lib/python3.6/site-packages/stanfordnlp/pipeline/processor.py\u001b[0m in \u001b[0;36m__init__\u001b[0;34m(self, config, pipeline, use_gpu)\u001b[0m\n\u001b[1;32m    100\u001b[0m         \u001b[0mself\u001b[0m\u001b[0;34m.\u001b[0m\u001b[0m_trainer\u001b[0m \u001b[0;34m=\u001b[0m \u001b[0;32mNone\u001b[0m\u001b[0;34m\u001b[0m\u001b[0m\n\u001b[1;32m    101\u001b[0m         \u001b[0mself\u001b[0m\u001b[0;34m.\u001b[0m\u001b[0m_vocab\u001b[0m \u001b[0;34m=\u001b[0m \u001b[0;32mNone\u001b[0m\u001b[0;34m\u001b[0m\u001b[0m\n\u001b[0;32m--> 102\u001b[0;31m         \u001b[0mself\u001b[0m\u001b[0;34m.\u001b[0m\u001b[0m_set_up_model\u001b[0m\u001b[0;34m(\u001b[0m\u001b[0mconfig\u001b[0m\u001b[0;34m,\u001b[0m \u001b[0muse_gpu\u001b[0m\u001b[0;34m)\u001b[0m\u001b[0;34m\u001b[0m\u001b[0m\n\u001b[0m\u001b[1;32m    103\u001b[0m         \u001b[0;31m# run set up process\u001b[0m\u001b[0;34m\u001b[0m\u001b[0;34m\u001b[0m\u001b[0m\n\u001b[1;32m    104\u001b[0m         \u001b[0;31m# build the final config for the processor\u001b[0m\u001b[0;34m\u001b[0m\u001b[0;34m\u001b[0m\u001b[0m\n",
      "\u001b[0;32m~/anaconda3/envs/pytorch_p36/lib/python3.6/site-packages/stanfordnlp/pipeline/tokenize_processor.py\u001b[0m in \u001b[0;36m_set_up_model\u001b[0;34m(self, config, use_gpu)\u001b[0m\n\u001b[1;32m     29\u001b[0m             \u001b[0mself\u001b[0m\u001b[0;34m.\u001b[0m\u001b[0m_trainer\u001b[0m \u001b[0;34m=\u001b[0m \u001b[0;32mNone\u001b[0m\u001b[0;34m\u001b[0m\u001b[0m\n\u001b[1;32m     30\u001b[0m         \u001b[0;32melse\u001b[0m\u001b[0;34m:\u001b[0m\u001b[0;34m\u001b[0m\u001b[0m\n\u001b[0;32m---> 31\u001b[0;31m             \u001b[0mself\u001b[0m\u001b[0;34m.\u001b[0m\u001b[0m_trainer\u001b[0m \u001b[0;34m=\u001b[0m \u001b[0mTrainer\u001b[0m\u001b[0;34m(\u001b[0m\u001b[0mmodel_file\u001b[0m\u001b[0;34m=\u001b[0m\u001b[0mconfig\u001b[0m\u001b[0;34m[\u001b[0m\u001b[0;34m'model_path'\u001b[0m\u001b[0;34m]\u001b[0m\u001b[0;34m,\u001b[0m \u001b[0muse_cuda\u001b[0m\u001b[0;34m=\u001b[0m\u001b[0muse_gpu\u001b[0m\u001b[0;34m)\u001b[0m\u001b[0;34m\u001b[0m\u001b[0m\n\u001b[0m\u001b[1;32m     32\u001b[0m \u001b[0;34m\u001b[0m\u001b[0m\n\u001b[1;32m     33\u001b[0m     \u001b[0;32mdef\u001b[0m \u001b[0mprocess_pre_tokenized_text\u001b[0m\u001b[0;34m(\u001b[0m\u001b[0mself\u001b[0m\u001b[0;34m,\u001b[0m \u001b[0mdoc\u001b[0m\u001b[0;34m)\u001b[0m\u001b[0;34m:\u001b[0m\u001b[0;34m\u001b[0m\u001b[0m\n",
      "\u001b[0;32m~/anaconda3/envs/pytorch_p36/lib/python3.6/site-packages/stanfordnlp/models/tokenize/trainer.py\u001b[0m in \u001b[0;36m__init__\u001b[0;34m(self, args, vocab, model_file, use_cuda)\u001b[0m\n\u001b[1;32m     14\u001b[0m         \u001b[0;32mif\u001b[0m \u001b[0mmodel_file\u001b[0m \u001b[0;32mis\u001b[0m \u001b[0;32mnot\u001b[0m \u001b[0;32mNone\u001b[0m\u001b[0;34m:\u001b[0m\u001b[0;34m\u001b[0m\u001b[0m\n\u001b[1;32m     15\u001b[0m             \u001b[0;31m# load everything from file\u001b[0m\u001b[0;34m\u001b[0m\u001b[0;34m\u001b[0m\u001b[0m\n\u001b[0;32m---> 16\u001b[0;31m             \u001b[0mself\u001b[0m\u001b[0;34m.\u001b[0m\u001b[0mload\u001b[0m\u001b[0;34m(\u001b[0m\u001b[0mmodel_file\u001b[0m\u001b[0;34m)\u001b[0m\u001b[0;34m\u001b[0m\u001b[0m\n\u001b[0m\u001b[1;32m     17\u001b[0m         \u001b[0;32melse\u001b[0m\u001b[0;34m:\u001b[0m\u001b[0;34m\u001b[0m\u001b[0m\n\u001b[1;32m     18\u001b[0m             \u001b[0;31m# build model from scratch\u001b[0m\u001b[0;34m\u001b[0m\u001b[0;34m\u001b[0m\u001b[0m\n",
      "\u001b[0;32m~/anaconda3/envs/pytorch_p36/lib/python3.6/site-packages/stanfordnlp/models/tokenize/trainer.py\u001b[0m in \u001b[0;36mload\u001b[0;34m(self, filename)\u001b[0m\n\u001b[1;32m     83\u001b[0m         \u001b[0;32mexcept\u001b[0m \u001b[0mBaseException\u001b[0m\u001b[0;34m:\u001b[0m\u001b[0;34m\u001b[0m\u001b[0m\n\u001b[1;32m     84\u001b[0m             \u001b[0mprint\u001b[0m\u001b[0;34m(\u001b[0m\u001b[0;34m\"Cannot load model from {}\"\u001b[0m\u001b[0;34m.\u001b[0m\u001b[0mformat\u001b[0m\u001b[0;34m(\u001b[0m\u001b[0mfilename\u001b[0m\u001b[0;34m)\u001b[0m\u001b[0;34m)\u001b[0m\u001b[0;34m\u001b[0m\u001b[0m\n\u001b[0;32m---> 85\u001b[0;31m             \u001b[0msys\u001b[0m\u001b[0;34m.\u001b[0m\u001b[0mexit\u001b[0m\u001b[0;34m(\u001b[0m\u001b[0;36m1\u001b[0m\u001b[0;34m)\u001b[0m\u001b[0;34m\u001b[0m\u001b[0m\n\u001b[0m\u001b[1;32m     86\u001b[0m         \u001b[0mself\u001b[0m\u001b[0;34m.\u001b[0m\u001b[0margs\u001b[0m \u001b[0;34m=\u001b[0m \u001b[0mcheckpoint\u001b[0m\u001b[0;34m[\u001b[0m\u001b[0;34m'config'\u001b[0m\u001b[0;34m]\u001b[0m\u001b[0;34m\u001b[0m\u001b[0m\n\u001b[1;32m     87\u001b[0m         \u001b[0mself\u001b[0m\u001b[0;34m.\u001b[0m\u001b[0mmodel\u001b[0m \u001b[0;34m=\u001b[0m \u001b[0mTokenizer\u001b[0m\u001b[0;34m(\u001b[0m\u001b[0mself\u001b[0m\u001b[0;34m.\u001b[0m\u001b[0margs\u001b[0m\u001b[0;34m,\u001b[0m \u001b[0mself\u001b[0m\u001b[0;34m.\u001b[0m\u001b[0margs\u001b[0m\u001b[0;34m[\u001b[0m\u001b[0;34m'vocab_size'\u001b[0m\u001b[0;34m]\u001b[0m\u001b[0;34m,\u001b[0m \u001b[0mself\u001b[0m\u001b[0;34m.\u001b[0m\u001b[0margs\u001b[0m\u001b[0;34m[\u001b[0m\u001b[0;34m'emb_dim'\u001b[0m\u001b[0;34m]\u001b[0m\u001b[0;34m,\u001b[0m \u001b[0mself\u001b[0m\u001b[0;34m.\u001b[0m\u001b[0margs\u001b[0m\u001b[0;34m[\u001b[0m\u001b[0;34m'hidden_dim'\u001b[0m\u001b[0;34m]\u001b[0m\u001b[0;34m,\u001b[0m \u001b[0mdropout\u001b[0m\u001b[0;34m=\u001b[0m\u001b[0mself\u001b[0m\u001b[0;34m.\u001b[0m\u001b[0margs\u001b[0m\u001b[0;34m[\u001b[0m\u001b[0;34m'dropout'\u001b[0m\u001b[0;34m]\u001b[0m\u001b[0;34m)\u001b[0m\u001b[0;34m\u001b[0m\u001b[0m\n",
      "\u001b[0;31mSystemExit\u001b[0m: 1"
     ]
    },
    {
     "name": "stdout",
     "output_type": "stream",
     "text": [
      "Using the default treebank \"en_ewt\" for language \"en\".\n",
      "Would you like to download the models for: en_ewt now? (Y/n)\n",
      "\n",
      "Default download directory: /home/ubuntu/stanfordnlp_resources\n",
      "Hit enter to continue or type an alternate directory.\n",
      "\n",
      "Downloading models for: en_ewt\n",
      "Download location: /home/ubuntu/stanfordnlp_resources/en_ewt_models.zip\n"
     ]
    },
    {
     "name": "stderr",
     "output_type": "stream",
     "text": [
      " 29%|██▊       | 67.1M/235M [00:20<00:50, 3.32MB/s]\n"
     ]
    },
    {
     "ename": "KeyboardInterrupt",
     "evalue": "",
     "output_type": "error",
     "traceback": [
      "\u001b[0;31m---------------------------------------------------------------------------\u001b[0m",
      "\u001b[0;31mKeyboardInterrupt\u001b[0m                         Traceback (most recent call last)",
      "\u001b[0;32m<ipython-input-3-359a6d077fd1>\u001b[0m in \u001b[0;36m<module>\u001b[0;34m()\u001b[0m\n\u001b[1;32m      9\u001b[0m \u001b[0;32mimport\u001b[0m \u001b[0mstanfordnlp\u001b[0m\u001b[0;34m\u001b[0m\u001b[0m\n\u001b[1;32m     10\u001b[0m \u001b[0;32mfrom\u001b[0m \u001b[0mspacy_stanfordnlp\u001b[0m \u001b[0;32mimport\u001b[0m \u001b[0mStanfordNLPLanguage\u001b[0m\u001b[0;34m\u001b[0m\u001b[0m\n\u001b[0;32m---> 11\u001b[0;31m \u001b[0mstanfordnlp\u001b[0m\u001b[0;34m.\u001b[0m\u001b[0mdownload\u001b[0m\u001b[0;34m(\u001b[0m\u001b[0;34m'en'\u001b[0m\u001b[0;34m)\u001b[0m\u001b[0;34m\u001b[0m\u001b[0m\n\u001b[0m\u001b[1;32m     12\u001b[0m \u001b[0msnlp\u001b[0m \u001b[0;34m=\u001b[0m \u001b[0mstanfordnlp\u001b[0m\u001b[0;34m.\u001b[0m\u001b[0mPipeline\u001b[0m\u001b[0;34m(\u001b[0m\u001b[0mlang\u001b[0m\u001b[0;34m=\u001b[0m\u001b[0;34m\"en\"\u001b[0m\u001b[0;34m)\u001b[0m\u001b[0;34m\u001b[0m\u001b[0m\n\u001b[1;32m     13\u001b[0m \u001b[0mnlp\u001b[0m \u001b[0;34m=\u001b[0m \u001b[0mStanfordNLPLanguage\u001b[0m\u001b[0;34m(\u001b[0m\u001b[0msnlp\u001b[0m\u001b[0;34m)\u001b[0m\u001b[0;34m\u001b[0m\u001b[0m\n",
      "\u001b[0;32m~/anaconda3/envs/pytorch_p36/lib/python3.6/site-packages/stanfordnlp/utils/resources.py\u001b[0m in \u001b[0;36mdownload\u001b[0;34m(download_label, resource_dir, confirm_if_exists, force, version)\u001b[0m\n\u001b[1;32m    135\u001b[0m         \u001b[0mprint\u001b[0m\u001b[0;34m(\u001b[0m\u001b[0;34mf'Using the default treebank \"{default_treebanks[download_label]}\" for language \"{download_label}\".'\u001b[0m\u001b[0;34m)\u001b[0m\u001b[0;34m\u001b[0m\u001b[0m\n\u001b[1;32m    136\u001b[0m         download_ud_model(default_treebanks[download_label], resource_dir=resource_dir,\n\u001b[0;32m--> 137\u001b[0;31m                           confirm_if_exists=confirm_if_exists, force=force, version=version)\n\u001b[0m\u001b[1;32m    138\u001b[0m     \u001b[0;32melse\u001b[0m\u001b[0;34m:\u001b[0m\u001b[0;34m\u001b[0m\u001b[0m\n\u001b[1;32m    139\u001b[0m         \u001b[0;32mraise\u001b[0m \u001b[0mValueError\u001b[0m\u001b[0;34m(\u001b[0m\u001b[0;34mf'The language or treebank \"{download_label}\" is not currently supported by this function. Please try again with other languages or treebanks.'\u001b[0m\u001b[0;34m)\u001b[0m\u001b[0;34m\u001b[0m\u001b[0m\n",
      "\u001b[0;32m~/anaconda3/envs/pytorch_p36/lib/python3.6/site-packages/stanfordnlp/utils/resources.py\u001b[0m in \u001b[0;36mdownload_ud_model\u001b[0;34m(lang_name, resource_dir, should_unzip, confirm_if_exists, force, version)\u001b[0m\n\u001b[1;32m    104\u001b[0m             \u001b[0mdefault_chunk_size\u001b[0m \u001b[0;34m=\u001b[0m \u001b[0;36m67108864\u001b[0m\u001b[0;34m\u001b[0m\u001b[0m\n\u001b[1;32m    105\u001b[0m             \u001b[0;32mwith\u001b[0m \u001b[0mtqdm\u001b[0m\u001b[0;34m(\u001b[0m\u001b[0mtotal\u001b[0m\u001b[0;34m=\u001b[0m\u001b[0mfile_size\u001b[0m\u001b[0;34m,\u001b[0m \u001b[0munit\u001b[0m\u001b[0;34m=\u001b[0m\u001b[0;34m'B'\u001b[0m\u001b[0;34m,\u001b[0m \u001b[0munit_scale\u001b[0m\u001b[0;34m=\u001b[0m\u001b[0;32mTrue\u001b[0m\u001b[0;34m)\u001b[0m \u001b[0;32mas\u001b[0m \u001b[0mpbar\u001b[0m\u001b[0;34m:\u001b[0m\u001b[0;34m\u001b[0m\u001b[0m\n\u001b[0;32m--> 106\u001b[0;31m                 \u001b[0;32mfor\u001b[0m \u001b[0mchunk\u001b[0m \u001b[0;32min\u001b[0m \u001b[0mr\u001b[0m\u001b[0;34m.\u001b[0m\u001b[0miter_content\u001b[0m\u001b[0;34m(\u001b[0m\u001b[0mchunk_size\u001b[0m\u001b[0;34m=\u001b[0m\u001b[0mdefault_chunk_size\u001b[0m\u001b[0;34m)\u001b[0m\u001b[0;34m:\u001b[0m\u001b[0;34m\u001b[0m\u001b[0m\n\u001b[0m\u001b[1;32m    107\u001b[0m                     \u001b[0;32mif\u001b[0m \u001b[0mchunk\u001b[0m\u001b[0;34m:\u001b[0m\u001b[0;34m\u001b[0m\u001b[0m\n\u001b[1;32m    108\u001b[0m                         \u001b[0mf\u001b[0m\u001b[0;34m.\u001b[0m\u001b[0mwrite\u001b[0m\u001b[0;34m(\u001b[0m\u001b[0mchunk\u001b[0m\u001b[0;34m)\u001b[0m\u001b[0;34m\u001b[0m\u001b[0m\n",
      "\u001b[0;32m~/anaconda3/envs/pytorch_p36/lib/python3.6/site-packages/requests/models.py\u001b[0m in \u001b[0;36mgenerate\u001b[0;34m()\u001b[0m\n\u001b[1;32m    748\u001b[0m             \u001b[0;32mif\u001b[0m \u001b[0mhasattr\u001b[0m\u001b[0;34m(\u001b[0m\u001b[0mself\u001b[0m\u001b[0;34m.\u001b[0m\u001b[0mraw\u001b[0m\u001b[0;34m,\u001b[0m \u001b[0;34m'stream'\u001b[0m\u001b[0;34m)\u001b[0m\u001b[0;34m:\u001b[0m\u001b[0;34m\u001b[0m\u001b[0m\n\u001b[1;32m    749\u001b[0m                 \u001b[0;32mtry\u001b[0m\u001b[0;34m:\u001b[0m\u001b[0;34m\u001b[0m\u001b[0m\n\u001b[0;32m--> 750\u001b[0;31m                     \u001b[0;32mfor\u001b[0m \u001b[0mchunk\u001b[0m \u001b[0;32min\u001b[0m \u001b[0mself\u001b[0m\u001b[0;34m.\u001b[0m\u001b[0mraw\u001b[0m\u001b[0;34m.\u001b[0m\u001b[0mstream\u001b[0m\u001b[0;34m(\u001b[0m\u001b[0mchunk_size\u001b[0m\u001b[0;34m,\u001b[0m \u001b[0mdecode_content\u001b[0m\u001b[0;34m=\u001b[0m\u001b[0;32mTrue\u001b[0m\u001b[0;34m)\u001b[0m\u001b[0;34m:\u001b[0m\u001b[0;34m\u001b[0m\u001b[0m\n\u001b[0m\u001b[1;32m    751\u001b[0m                         \u001b[0;32myield\u001b[0m \u001b[0mchunk\u001b[0m\u001b[0;34m\u001b[0m\u001b[0m\n\u001b[1;32m    752\u001b[0m                 \u001b[0;32mexcept\u001b[0m \u001b[0mProtocolError\u001b[0m \u001b[0;32mas\u001b[0m \u001b[0me\u001b[0m\u001b[0;34m:\u001b[0m\u001b[0;34m\u001b[0m\u001b[0m\n",
      "\u001b[0;32m~/anaconda3/envs/pytorch_p36/lib/python3.6/site-packages/urllib3/response.py\u001b[0m in \u001b[0;36mstream\u001b[0;34m(self, amt, decode_content)\u001b[0m\n\u001b[1;32m    463\u001b[0m         \u001b[0;32melse\u001b[0m\u001b[0;34m:\u001b[0m\u001b[0;34m\u001b[0m\u001b[0m\n\u001b[1;32m    464\u001b[0m             \u001b[0;32mwhile\u001b[0m \u001b[0;32mnot\u001b[0m \u001b[0mis_fp_closed\u001b[0m\u001b[0;34m(\u001b[0m\u001b[0mself\u001b[0m\u001b[0;34m.\u001b[0m\u001b[0m_fp\u001b[0m\u001b[0;34m)\u001b[0m\u001b[0;34m:\u001b[0m\u001b[0;34m\u001b[0m\u001b[0m\n\u001b[0;32m--> 465\u001b[0;31m                 \u001b[0mdata\u001b[0m \u001b[0;34m=\u001b[0m \u001b[0mself\u001b[0m\u001b[0;34m.\u001b[0m\u001b[0mread\u001b[0m\u001b[0;34m(\u001b[0m\u001b[0mamt\u001b[0m\u001b[0;34m=\u001b[0m\u001b[0mamt\u001b[0m\u001b[0;34m,\u001b[0m \u001b[0mdecode_content\u001b[0m\u001b[0;34m=\u001b[0m\u001b[0mdecode_content\u001b[0m\u001b[0;34m)\u001b[0m\u001b[0;34m\u001b[0m\u001b[0m\n\u001b[0m\u001b[1;32m    466\u001b[0m \u001b[0;34m\u001b[0m\u001b[0m\n\u001b[1;32m    467\u001b[0m                 \u001b[0;32mif\u001b[0m \u001b[0mdata\u001b[0m\u001b[0;34m:\u001b[0m\u001b[0;34m\u001b[0m\u001b[0m\n",
      "\u001b[0;32m~/anaconda3/envs/pytorch_p36/lib/python3.6/site-packages/urllib3/response.py\u001b[0m in \u001b[0;36mread\u001b[0;34m(self, amt, decode_content, cache_content)\u001b[0m\n\u001b[1;32m    411\u001b[0m             \u001b[0;32melse\u001b[0m\u001b[0;34m:\u001b[0m\u001b[0;34m\u001b[0m\u001b[0m\n\u001b[1;32m    412\u001b[0m                 \u001b[0mcache_content\u001b[0m \u001b[0;34m=\u001b[0m \u001b[0;32mFalse\u001b[0m\u001b[0;34m\u001b[0m\u001b[0m\n\u001b[0;32m--> 413\u001b[0;31m                 \u001b[0mdata\u001b[0m \u001b[0;34m=\u001b[0m \u001b[0mself\u001b[0m\u001b[0;34m.\u001b[0m\u001b[0m_fp\u001b[0m\u001b[0;34m.\u001b[0m\u001b[0mread\u001b[0m\u001b[0;34m(\u001b[0m\u001b[0mamt\u001b[0m\u001b[0;34m)\u001b[0m\u001b[0;34m\u001b[0m\u001b[0m\n\u001b[0m\u001b[1;32m    414\u001b[0m                 \u001b[0;32mif\u001b[0m \u001b[0mamt\u001b[0m \u001b[0;34m!=\u001b[0m \u001b[0;36m0\u001b[0m \u001b[0;32mand\u001b[0m \u001b[0;32mnot\u001b[0m \u001b[0mdata\u001b[0m\u001b[0;34m:\u001b[0m  \u001b[0;31m# Platform-specific: Buggy versions of Python.\u001b[0m\u001b[0;34m\u001b[0m\u001b[0m\n\u001b[1;32m    415\u001b[0m                     \u001b[0;31m# Close the connection when no data is returned\u001b[0m\u001b[0;34m\u001b[0m\u001b[0;34m\u001b[0m\u001b[0m\n",
      "\u001b[0;32m~/anaconda3/envs/pytorch_p36/lib/python3.6/http/client.py\u001b[0m in \u001b[0;36mread\u001b[0;34m(self, amt)\u001b[0m\n\u001b[1;32m    447\u001b[0m             \u001b[0;31m# Amount is given, implement using readinto\u001b[0m\u001b[0;34m\u001b[0m\u001b[0;34m\u001b[0m\u001b[0m\n\u001b[1;32m    448\u001b[0m             \u001b[0mb\u001b[0m \u001b[0;34m=\u001b[0m \u001b[0mbytearray\u001b[0m\u001b[0;34m(\u001b[0m\u001b[0mamt\u001b[0m\u001b[0;34m)\u001b[0m\u001b[0;34m\u001b[0m\u001b[0m\n\u001b[0;32m--> 449\u001b[0;31m             \u001b[0mn\u001b[0m \u001b[0;34m=\u001b[0m \u001b[0mself\u001b[0m\u001b[0;34m.\u001b[0m\u001b[0mreadinto\u001b[0m\u001b[0;34m(\u001b[0m\u001b[0mb\u001b[0m\u001b[0;34m)\u001b[0m\u001b[0;34m\u001b[0m\u001b[0m\n\u001b[0m\u001b[1;32m    450\u001b[0m             \u001b[0;32mreturn\u001b[0m \u001b[0mmemoryview\u001b[0m\u001b[0;34m(\u001b[0m\u001b[0mb\u001b[0m\u001b[0;34m)\u001b[0m\u001b[0;34m[\u001b[0m\u001b[0;34m:\u001b[0m\u001b[0mn\u001b[0m\u001b[0;34m]\u001b[0m\u001b[0;34m.\u001b[0m\u001b[0mtobytes\u001b[0m\u001b[0;34m(\u001b[0m\u001b[0;34m)\u001b[0m\u001b[0;34m\u001b[0m\u001b[0m\n\u001b[1;32m    451\u001b[0m         \u001b[0;32melse\u001b[0m\u001b[0;34m:\u001b[0m\u001b[0;34m\u001b[0m\u001b[0m\n",
      "\u001b[0;32m~/anaconda3/envs/pytorch_p36/lib/python3.6/http/client.py\u001b[0m in \u001b[0;36mreadinto\u001b[0;34m(self, b)\u001b[0m\n\u001b[1;32m    491\u001b[0m         \u001b[0;31m# connection, and the user is reading more bytes than will be provided\u001b[0m\u001b[0;34m\u001b[0m\u001b[0;34m\u001b[0m\u001b[0m\n\u001b[1;32m    492\u001b[0m         \u001b[0;31m# (for example, reading in 1k chunks)\u001b[0m\u001b[0;34m\u001b[0m\u001b[0;34m\u001b[0m\u001b[0m\n\u001b[0;32m--> 493\u001b[0;31m         \u001b[0mn\u001b[0m \u001b[0;34m=\u001b[0m \u001b[0mself\u001b[0m\u001b[0;34m.\u001b[0m\u001b[0mfp\u001b[0m\u001b[0;34m.\u001b[0m\u001b[0mreadinto\u001b[0m\u001b[0;34m(\u001b[0m\u001b[0mb\u001b[0m\u001b[0;34m)\u001b[0m\u001b[0;34m\u001b[0m\u001b[0m\n\u001b[0m\u001b[1;32m    494\u001b[0m         \u001b[0;32mif\u001b[0m \u001b[0;32mnot\u001b[0m \u001b[0mn\u001b[0m \u001b[0;32mand\u001b[0m \u001b[0mb\u001b[0m\u001b[0;34m:\u001b[0m\u001b[0;34m\u001b[0m\u001b[0m\n\u001b[1;32m    495\u001b[0m             \u001b[0;31m# Ideally, we would raise IncompleteRead if the content-length\u001b[0m\u001b[0;34m\u001b[0m\u001b[0;34m\u001b[0m\u001b[0m\n",
      "\u001b[0;32m~/anaconda3/envs/pytorch_p36/lib/python3.6/socket.py\u001b[0m in \u001b[0;36mreadinto\u001b[0;34m(self, b)\u001b[0m\n\u001b[1;32m    584\u001b[0m         \u001b[0;32mwhile\u001b[0m \u001b[0;32mTrue\u001b[0m\u001b[0;34m:\u001b[0m\u001b[0;34m\u001b[0m\u001b[0m\n\u001b[1;32m    585\u001b[0m             \u001b[0;32mtry\u001b[0m\u001b[0;34m:\u001b[0m\u001b[0;34m\u001b[0m\u001b[0m\n\u001b[0;32m--> 586\u001b[0;31m                 \u001b[0;32mreturn\u001b[0m \u001b[0mself\u001b[0m\u001b[0;34m.\u001b[0m\u001b[0m_sock\u001b[0m\u001b[0;34m.\u001b[0m\u001b[0mrecv_into\u001b[0m\u001b[0;34m(\u001b[0m\u001b[0mb\u001b[0m\u001b[0;34m)\u001b[0m\u001b[0;34m\u001b[0m\u001b[0m\n\u001b[0m\u001b[1;32m    587\u001b[0m             \u001b[0;32mexcept\u001b[0m \u001b[0mtimeout\u001b[0m\u001b[0;34m:\u001b[0m\u001b[0;34m\u001b[0m\u001b[0m\n\u001b[1;32m    588\u001b[0m                 \u001b[0mself\u001b[0m\u001b[0;34m.\u001b[0m\u001b[0m_timeout_occurred\u001b[0m \u001b[0;34m=\u001b[0m \u001b[0;32mTrue\u001b[0m\u001b[0;34m\u001b[0m\u001b[0m\n",
      "\u001b[0;32m~/anaconda3/envs/pytorch_p36/lib/python3.6/site-packages/urllib3/contrib/pyopenssl.py\u001b[0m in \u001b[0;36mrecv_into\u001b[0;34m(self, *args, **kwargs)\u001b[0m\n\u001b[1;32m    283\u001b[0m     \u001b[0;32mdef\u001b[0m \u001b[0mrecv_into\u001b[0m\u001b[0;34m(\u001b[0m\u001b[0mself\u001b[0m\u001b[0;34m,\u001b[0m \u001b[0;34m*\u001b[0m\u001b[0margs\u001b[0m\u001b[0;34m,\u001b[0m \u001b[0;34m**\u001b[0m\u001b[0mkwargs\u001b[0m\u001b[0;34m)\u001b[0m\u001b[0;34m:\u001b[0m\u001b[0;34m\u001b[0m\u001b[0m\n\u001b[1;32m    284\u001b[0m         \u001b[0;32mtry\u001b[0m\u001b[0;34m:\u001b[0m\u001b[0;34m\u001b[0m\u001b[0m\n\u001b[0;32m--> 285\u001b[0;31m             \u001b[0;32mreturn\u001b[0m \u001b[0mself\u001b[0m\u001b[0;34m.\u001b[0m\u001b[0mconnection\u001b[0m\u001b[0;34m.\u001b[0m\u001b[0mrecv_into\u001b[0m\u001b[0;34m(\u001b[0m\u001b[0;34m*\u001b[0m\u001b[0margs\u001b[0m\u001b[0;34m,\u001b[0m \u001b[0;34m**\u001b[0m\u001b[0mkwargs\u001b[0m\u001b[0;34m)\u001b[0m\u001b[0;34m\u001b[0m\u001b[0m\n\u001b[0m\u001b[1;32m    286\u001b[0m         \u001b[0;32mexcept\u001b[0m \u001b[0mOpenSSL\u001b[0m\u001b[0;34m.\u001b[0m\u001b[0mSSL\u001b[0m\u001b[0;34m.\u001b[0m\u001b[0mSysCallError\u001b[0m \u001b[0;32mas\u001b[0m \u001b[0me\u001b[0m\u001b[0;34m:\u001b[0m\u001b[0;34m\u001b[0m\u001b[0m\n\u001b[1;32m    287\u001b[0m             \u001b[0;32mif\u001b[0m \u001b[0mself\u001b[0m\u001b[0;34m.\u001b[0m\u001b[0msuppress_ragged_eofs\u001b[0m \u001b[0;32mand\u001b[0m \u001b[0me\u001b[0m\u001b[0;34m.\u001b[0m\u001b[0margs\u001b[0m \u001b[0;34m==\u001b[0m \u001b[0;34m(\u001b[0m\u001b[0;34m-\u001b[0m\u001b[0;36m1\u001b[0m\u001b[0;34m,\u001b[0m \u001b[0;34m'Unexpected EOF'\u001b[0m\u001b[0;34m)\u001b[0m\u001b[0;34m:\u001b[0m\u001b[0;34m\u001b[0m\u001b[0m\n",
      "\u001b[0;32m~/anaconda3/envs/pytorch_p36/lib/python3.6/site-packages/OpenSSL/SSL.py\u001b[0m in \u001b[0;36mrecv_into\u001b[0;34m(self, buffer, nbytes, flags)\u001b[0m\n\u001b[1;32m   1811\u001b[0m             \u001b[0mresult\u001b[0m \u001b[0;34m=\u001b[0m \u001b[0m_lib\u001b[0m\u001b[0;34m.\u001b[0m\u001b[0mSSL_peek\u001b[0m\u001b[0;34m(\u001b[0m\u001b[0mself\u001b[0m\u001b[0;34m.\u001b[0m\u001b[0m_ssl\u001b[0m\u001b[0;34m,\u001b[0m \u001b[0mbuf\u001b[0m\u001b[0;34m,\u001b[0m \u001b[0mnbytes\u001b[0m\u001b[0;34m)\u001b[0m\u001b[0;34m\u001b[0m\u001b[0m\n\u001b[1;32m   1812\u001b[0m         \u001b[0;32melse\u001b[0m\u001b[0;34m:\u001b[0m\u001b[0;34m\u001b[0m\u001b[0m\n\u001b[0;32m-> 1813\u001b[0;31m             \u001b[0mresult\u001b[0m \u001b[0;34m=\u001b[0m \u001b[0m_lib\u001b[0m\u001b[0;34m.\u001b[0m\u001b[0mSSL_read\u001b[0m\u001b[0;34m(\u001b[0m\u001b[0mself\u001b[0m\u001b[0;34m.\u001b[0m\u001b[0m_ssl\u001b[0m\u001b[0;34m,\u001b[0m \u001b[0mbuf\u001b[0m\u001b[0;34m,\u001b[0m \u001b[0mnbytes\u001b[0m\u001b[0;34m)\u001b[0m\u001b[0;34m\u001b[0m\u001b[0m\n\u001b[0m\u001b[1;32m   1814\u001b[0m         \u001b[0mself\u001b[0m\u001b[0;34m.\u001b[0m\u001b[0m_raise_ssl_error\u001b[0m\u001b[0;34m(\u001b[0m\u001b[0mself\u001b[0m\u001b[0;34m.\u001b[0m\u001b[0m_ssl\u001b[0m\u001b[0;34m,\u001b[0m \u001b[0mresult\u001b[0m\u001b[0;34m)\u001b[0m\u001b[0;34m\u001b[0m\u001b[0m\n\u001b[1;32m   1815\u001b[0m \u001b[0;34m\u001b[0m\u001b[0m\n",
      "\u001b[0;31mKeyboardInterrupt\u001b[0m: "
     ]
    }
   ],
   "source": [
    "%tb\n",
    "import pandas as pd\n",
    "import pickle\n",
    "import json\n",
    "\n",
    "from collections import defaultdict\n",
    "import spacy\n",
    "\n",
    "import stanfordnlp\n",
    "from spacy_stanfordnlp import StanfordNLPLanguage\n",
    "stanfordnlp.download('en')\n",
    "snlp = stanfordnlp.Pipeline(lang=\"en\")\n",
    "nlp = StanfordNLPLanguage(snlp)\n",
    "\n",
    "import warnings\n",
    "warnings.filterwarnings('ignore')\n",
    "\n",
    "import matplotlib.pyplot as plt",
    "\n",
    "%load_ext autoreload\n",
    "%autoreload 2\n",
    "\n",
    "# fix for importing utils\n",
    "import os\n",
    "import sys\n",
    "module_path = os.path.abspath(os.path.join('../utils'))\n",
    "if module_path not in sys.path:\n",
    "    sys.path.append(module_path)\n",
    "\n",
    "data_dir = '../data/relation_extraction'"
   ]
  },
  {
   "cell_type": "markdown",
   "metadata": {},
   "source": [
    "Relation EDA:\n",
    "- Programmatically ensure there are no sentences that contain a term pair that weren't tagged\n",
    "- Determine any multi-labels\n",
    "\n",
    "Double Check:\n",
    "- Bi-directionality of relations\n",
    "- Way that text representations are being collected"
   ]
  },
  {
   "cell_type": "markdown",
   "metadata": {},
   "source": [
    "# Relations Database"
   ]
  },
  {
   "cell_type": "code",
   "execution_count": 67,
   "metadata": {},
   "outputs": [],
   "source": [
    "with open(\"../data/relation_extraction/relations_db.json\", \"r\") as f:\n",
    "    rdb = json.load(f)"
   ]
  },
  {
   "cell_type": "markdown",
   "metadata": {},
   "source": [
    "## Summary Statistics"
   ]
  },
  {
   "cell_type": "code",
   "execution_count": 68,
   "metadata": {},
   "outputs": [],
   "source": [
    "long_df = {\"relation\": [], \"term_pair\": [], \"count_sentences\": [], \"found_sentence\": []}\n",
    "for relation in rdb:\n",
    "    for term_pair in rdb[relation]: \n",
    "        long_df[\"relation\"].append(relation)\n",
    "        long_df[\"term_pair\"].append(term_pair)\n",
    "        long_df[\"count_sentences\"].append(len(rdb[relation][term_pair][\"sentences\"]))\n",
    "        long_df[\"found_sentence\"].append(len(rdb[relation][term_pair][\"sentences\"]) > 0)\n",
    "long_df = pd.DataFrame(long_df)"
   ]
  },
  {
   "cell_type": "code",
   "execution_count": 69,
   "metadata": {},
   "outputs": [
    {
     "data": {
      "text/html": [
       "<div>\n",
       "<style scoped>\n",
       "    .dataframe tbody tr th:only-of-type {\n",
       "        vertical-align: middle;\n",
       "    }\n",
       "\n",
       "    .dataframe tbody tr th {\n",
       "        vertical-align: top;\n",
       "    }\n",
       "\n",
       "    .dataframe thead tr th {\n",
       "        text-align: left;\n",
       "    }\n",
       "\n",
       "    .dataframe thead tr:last-of-type th {\n",
       "        text-align: right;\n",
       "    }\n",
       "</style>\n",
       "<table border=\"1\" class=\"dataframe\">\n",
       "  <thead>\n",
       "    <tr>\n",
       "      <th></th>\n",
       "      <th></th>\n",
       "      <th>term_pair</th>\n",
       "      <th colspan=\"2\" halign=\"left\">count_sentences</th>\n",
       "    </tr>\n",
       "    <tr>\n",
       "      <th></th>\n",
       "      <th></th>\n",
       "      <th>count</th>\n",
       "      <th>sum</th>\n",
       "      <th>mean</th>\n",
       "    </tr>\n",
       "    <tr>\n",
       "      <th>relation</th>\n",
       "      <th>found_sentence</th>\n",
       "      <th></th>\n",
       "      <th></th>\n",
       "      <th></th>\n",
       "    </tr>\n",
       "  </thead>\n",
       "  <tbody>\n",
       "    <tr>\n",
       "      <td rowspan=\"2\" valign=\"top\">abuts</td>\n",
       "      <td>False</td>\n",
       "      <td>82</td>\n",
       "      <td>0</td>\n",
       "      <td>0.000000</td>\n",
       "    </tr>\n",
       "    <tr>\n",
       "      <td>True</td>\n",
       "      <td>28</td>\n",
       "      <td>172</td>\n",
       "      <td>6.142857</td>\n",
       "    </tr>\n",
       "    <tr>\n",
       "      <td rowspan=\"2\" valign=\"top\">element</td>\n",
       "      <td>False</td>\n",
       "      <td>408</td>\n",
       "      <td>0</td>\n",
       "      <td>0.000000</td>\n",
       "    </tr>\n",
       "    <tr>\n",
       "      <td>True</td>\n",
       "      <td>89</td>\n",
       "      <td>624</td>\n",
       "      <td>7.011236</td>\n",
       "    </tr>\n",
       "    <tr>\n",
       "      <td rowspan=\"2\" valign=\"top\">has-part</td>\n",
       "      <td>False</td>\n",
       "      <td>3701</td>\n",
       "      <td>0</td>\n",
       "      <td>0.000000</td>\n",
       "    </tr>\n",
       "    <tr>\n",
       "      <td>True</td>\n",
       "      <td>580</td>\n",
       "      <td>4639</td>\n",
       "      <td>7.998276</td>\n",
       "    </tr>\n",
       "    <tr>\n",
       "      <td rowspan=\"2\" valign=\"top\">has-region</td>\n",
       "      <td>False</td>\n",
       "      <td>1415</td>\n",
       "      <td>0</td>\n",
       "      <td>0.000000</td>\n",
       "    </tr>\n",
       "    <tr>\n",
       "      <td>True</td>\n",
       "      <td>146</td>\n",
       "      <td>936</td>\n",
       "      <td>6.410959</td>\n",
       "    </tr>\n",
       "    <tr>\n",
       "      <td rowspan=\"2\" valign=\"top\">is-at</td>\n",
       "      <td>False</td>\n",
       "      <td>202</td>\n",
       "      <td>0</td>\n",
       "      <td>0.000000</td>\n",
       "    </tr>\n",
       "    <tr>\n",
       "      <td>True</td>\n",
       "      <td>44</td>\n",
       "      <td>308</td>\n",
       "      <td>7.000000</td>\n",
       "    </tr>\n",
       "    <tr>\n",
       "      <td rowspan=\"2\" valign=\"top\">is-inside</td>\n",
       "      <td>False</td>\n",
       "      <td>494</td>\n",
       "      <td>0</td>\n",
       "      <td>0.000000</td>\n",
       "    </tr>\n",
       "    <tr>\n",
       "      <td>True</td>\n",
       "      <td>110</td>\n",
       "      <td>822</td>\n",
       "      <td>7.472727</td>\n",
       "    </tr>\n",
       "    <tr>\n",
       "      <td rowspan=\"2\" valign=\"top\">is-outside</td>\n",
       "      <td>False</td>\n",
       "      <td>143</td>\n",
       "      <td>0</td>\n",
       "      <td>0.000000</td>\n",
       "    </tr>\n",
       "    <tr>\n",
       "      <td>True</td>\n",
       "      <td>23</td>\n",
       "      <td>185</td>\n",
       "      <td>8.043478</td>\n",
       "    </tr>\n",
       "    <tr>\n",
       "      <td>no-relation</td>\n",
       "      <td>True</td>\n",
       "      <td>340878</td>\n",
       "      <td>836918</td>\n",
       "      <td>2.455183</td>\n",
       "    </tr>\n",
       "    <tr>\n",
       "      <td rowspan=\"2\" valign=\"top\">possesses</td>\n",
       "      <td>False</td>\n",
       "      <td>741</td>\n",
       "      <td>0</td>\n",
       "      <td>0.000000</td>\n",
       "    </tr>\n",
       "    <tr>\n",
       "      <td>True</td>\n",
       "      <td>43</td>\n",
       "      <td>245</td>\n",
       "      <td>5.697674</td>\n",
       "    </tr>\n",
       "    <tr>\n",
       "      <td rowspan=\"2\" valign=\"top\">subclass-of</td>\n",
       "      <td>False</td>\n",
       "      <td>6078</td>\n",
       "      <td>0</td>\n",
       "      <td>0.000000</td>\n",
       "    </tr>\n",
       "    <tr>\n",
       "      <td>True</td>\n",
       "      <td>663</td>\n",
       "      <td>2149</td>\n",
       "      <td>3.241327</td>\n",
       "    </tr>\n",
       "  </tbody>\n",
       "</table>\n",
       "</div>"
      ],
      "text/plain": [
       "                           term_pair count_sentences          \n",
       "                               count             sum      mean\n",
       "relation    found_sentence                                    \n",
       "abuts       False                 82               0  0.000000\n",
       "            True                  28             172  6.142857\n",
       "element     False                408               0  0.000000\n",
       "            True                  89             624  7.011236\n",
       "has-part    False               3701               0  0.000000\n",
       "            True                 580            4639  7.998276\n",
       "has-region  False               1415               0  0.000000\n",
       "            True                 146             936  6.410959\n",
       "is-at       False                202               0  0.000000\n",
       "            True                  44             308  7.000000\n",
       "is-inside   False                494               0  0.000000\n",
       "            True                 110             822  7.472727\n",
       "is-outside  False                143               0  0.000000\n",
       "            True                  23             185  8.043478\n",
       "no-relation True              340878          836918  2.455183\n",
       "possesses   False                741               0  0.000000\n",
       "            True                  43             245  5.697674\n",
       "subclass-of False               6078               0  0.000000\n",
       "            True                 663            2149  3.241327"
      ]
     },
     "execution_count": 69,
     "metadata": {},
     "output_type": "execute_result"
    }
   ],
   "source": [
    "summary_df = long_df.groupby([\"relation\", \"found_sentence\"]).agg({\"term_pair\": \"count\",\n",
    "                                                                  \"count_sentences\": [\"sum\", \"mean\"]})\n",
    "summary_df"
   ]
  },
  {
   "cell_type": "code",
   "execution_count": 7,
   "metadata": {},
   "outputs": [
    {
     "name": "stdout",
     "output_type": "stream",
     "text": [
      "Relation:  no-relation\n"
     ]
    },
    {
     "data": {
      "image/png": "[encoded data removed]",
      "text/plain": [
       "<Figure size 432x288 with 1 Axes>"
      ]
     },
     "metadata": {
      "needs_background": "light"
     },
     "output_type": "display_data"
    },
    {
     "name": "stdout",
     "output_type": "stream",
     "text": [
      "Relation:  subclass-of\n"
     ]
    },
    {
     "data": {
      "image/png": "[encoded data removed]",
      "text/plain": [
       "<Figure size 432x288 with 1 Axes>"
      ]
     },
     "metadata": {
      "needs_background": "light"
     },
     "output_type": "display_data"
    },
    {
     "name": "stdout",
     "output_type": "stream",
     "text": [
      "Relation:  has-part\n"
     ]
    },
    {
     "data": {
      "image/png": "[encoded data removed]",
      "text/plain": [
       "<Figure size 432x288 with 1 Axes>"
      ]
     },
     "metadata": {
      "needs_background": "light"
     },
     "output_type": "display_data"
    },
    {
     "name": "stdout",
     "output_type": "stream",
     "text": [
      "Relation:  possesses\n"
     ]
    },
    {
     "data": {
      "image/png": "[encoded data removed]",
      "text/plain": [
       "<Figure size 432x288 with 1 Axes>"
      ]
     },
     "metadata": {
      "needs_background": "light"
     },
     "output_type": "display_data"
    },
    {
     "name": "stdout",
     "output_type": "stream",
     "text": [
      "Relation:  has-region\n"
     ]
    },
    {
     "data": {
      "image/png": "[encoded data removed]",
      "text/plain": [
       "<Figure size 432x288 with 1 Axes>"
      ]
     },
     "metadata": {
      "needs_background": "light"
     },
     "output_type": "display_data"
    },
    {
     "name": "stdout",
     "output_type": "stream",
     "text": [
      "Relation:  is-inside\n"
     ]
    },
    {
     "data": {
      "image/png": "[encoded data removed]",
      "text/plain": [
       "<Figure size 432x288 with 1 Axes>"
      ]
     },
     "metadata": {
      "needs_background": "light"
     },
     "output_type": "display_data"
    },
    {
     "name": "stdout",
     "output_type": "stream",
     "text": [
      "Relation:  is-at\n"
     ]
    },
    {
     "data": {
      "image/png": "[encoded data removed]",
      "text/plain": [
       "<Figure size 432x288 with 1 Axes>"
      ]
     },
     "metadata": {
      "needs_background": "light"
     },
     "output_type": "display_data"
    },
    {
     "name": "stdout",
     "output_type": "stream",
     "text": [
      "Relation:  element\n"
     ]
    },
    {
     "data": {
      "image/png": "[encoded data removed]",
      "text/plain": [
       "<Figure size 432x288 with 1 Axes>"
      ]
     },
     "metadata": {
      "needs_background": "light"
     },
     "output_type": "display_data"
    },
    {
     "name": "stdout",
     "output_type": "stream",
     "text": [
      "Relation:  abuts\n"
     ]
    },
    {
     "data": {
      "image/png": "[encoded data removed]",
      "text/plain": [
       "<Figure size 432x288 with 1 Axes>"
      ]
     },
     "metadata": {
      "needs_background": "light"
     },
     "output_type": "display_data"
    },
    {
     "name": "stdout",
     "output_type": "stream",
     "text": [
      "Relation:  is-outside\n"
     ]
    },
    {
     "data": {
      "image/png": "[encoded data removed]",
      "text/plain": [
       "<Figure size 432x288 with 1 Axes>"
      ]
     },
     "metadata": {
      "needs_background": "light"
     },
     "output_type": "display_data"
    },
    {
     "name": "stdout",
     "output_type": "stream",
     "text": [
      "Overall\n"
     ]
    },
    {
     "data": {
      "image/png": "[encoded data removed]",
      "text/plain": [
       "<Figure size 432x288 with 1 Axes>"
      ]
     },
     "metadata": {
      "needs_background": "light"
     },
     "output_type": "display_data"
    }
   ],
   "source": [
    "# Plot histogram for each relation for all word pairs\n",
    "relation_grouped_df = long_df.groupby([\"relation\"])\n",
    "for relation in rdb:\n",
    "    sentences_count = relation_grouped_df.get_group(relation)[\"count_sentences\"]\n",
    "    print(\"Relation: \", relation)\n",
    "    plt.hist(list(sentences_count))\n",
    "    plt.show()\n",
    "    \n",
    "# Overall histogram distribution\n",
    "print(\"Overall\")\n",
    "plt.hist(list(long_df[\"count_sentences\"]))\n",
    "plt.show()"
   ]
  },
  {
   "cell_type": "code",
   "execution_count": 5,
   "metadata": {},
   "outputs": [
    {
     "name": "stdout",
     "output_type": "stream",
     "text": [
      "Relation:  no-relation\n"
     ]
    },
    {
     "data": {
      "image/png": "[encoded data removed]",
      "text/plain": [
       "<Figure size 432x288 with 1 Axes>"
      ]
     },
     "metadata": {
      "needs_background": "light"
     },
     "output_type": "display_data"
    },
    {
     "name": "stdout",
     "output_type": "stream",
     "text": [
      "Relation:  subclass-of\n"
     ]
    },
    {
     "data": {
      "image/png": "[encoded data removed]",
      "text/plain": [
       "<Figure size 432x288 with 1 Axes>"
      ]
     },
     "metadata": {
      "needs_background": "light"
     },
     "output_type": "display_data"
    },
    {
     "name": "stdout",
     "output_type": "stream",
     "text": [
      "Relation:  has-part\n"
     ]
    },
    {
     "data": {
      "image/png": "[encoded data removed]",
      "text/plain": [
       "<Figure size 432x288 with 1 Axes>"
      ]
     },
     "metadata": {
      "needs_background": "light"
     },
     "output_type": "display_data"
    },
    {
     "name": "stdout",
     "output_type": "stream",
     "text": [
      "Relation:  possesses\n"
     ]
    },
    {
     "data": {
      "image/png": "[encoded data removed]",
      "text/plain": [
       "<Figure size 432x288 with 1 Axes>"
      ]
     },
     "metadata": {
      "needs_background": "light"
     },
     "output_type": "display_data"
    },
    {
     "name": "stdout",
     "output_type": "stream",
     "text": [
      "Relation:  has-region\n"
     ]
    },
    {
     "data": {
      "image/png": "[encoded data removed]",
      "text/plain": [
       "<Figure size 432x288 with 1 Axes>"
      ]
     },
     "metadata": {
      "needs_background": "light"
     },
     "output_type": "display_data"
    },
    {
     "name": "stdout",
     "output_type": "stream",
     "text": [
      "Relation:  is-inside\n"
     ]
    },
    {
     "data": {
      "image/png": "[encoded data removed]",
      "text/plain": [
       "<Figure size 432x288 with 1 Axes>"
      ]
     },
     "metadata": {
      "needs_background": "light"
     },
     "output_type": "display_data"
    },
    {
     "name": "stdout",
     "output_type": "stream",
     "text": [
      "Relation:  is-at\n"
     ]
    },
    {
     "data": {
      "image/png": "[encoded data removed]",
      "text/plain": [
       "<Figure size 432x288 with 1 Axes>"
      ]
     },
     "metadata": {
      "needs_background": "light"
     },
     "output_type": "display_data"
    },
    {
     "name": "stdout",
     "output_type": "stream",
     "text": [
      "Relation:  element\n"
     ]
    },
    {
     "data": {
      "image/png": "[encoded data removed]",
      "text/plain": [
       "<Figure size 432x288 with 1 Axes>"
      ]
     },
     "metadata": {
      "needs_background": "light"
     },
     "output_type": "display_data"
    },
    {
     "name": "stdout",
     "output_type": "stream",
     "text": [
      "Relation:  abuts\n"
     ]
    },
    {
     "data": {
      "image/png": "[encoded data removed]",
      "text/plain": [
       "<Figure size 432x288 with 1 Axes>"
      ]
     },
     "metadata": {
      "needs_background": "light"
     },
     "output_type": "display_data"
    },
    {
     "name": "stdout",
     "output_type": "stream",
     "text": [
      "Relation:  is-outside\n"
     ]
    },
    {
     "data": {
      "image/png": "[encoded data removed]",
      "text/plain": [
       "<Figure size 432x288 with 1 Axes>"
      ]
     },
     "metadata": {
      "needs_background": "light"
     },
     "output_type": "display_data"
    }
   ],
   "source": [
    "# Plot histogram for each relation for only found sentences\n",
    "relation_grouped_df = long_df.groupby([\"relation\", \"found_sentence\"])\n",
    "for relation in rdb:\n",
    "    sentences_count = relation_grouped_df.get_group((relation, True))[\"count_sentences\"]\n",
    "    print(\"Relation: \", relation)\n",
    "    plt.hist(list(sentences_count))\n",
    "    plt.show()"
   ]
  },
  {
   "cell_type": "markdown",
   "metadata": {},
   "source": [
    "## Multi-Label Term Pairs"
   ]
  },
  {
   "cell_type": "code",
   "execution_count": 70,
   "metadata": {},
   "outputs": [
    {
     "name": "stdout",
     "output_type": "stream",
     "text": [
      "87\n"
     ]
    },
    {
     "data": {
      "text/plain": [
       "{'mixture -> substance': ['subclass-of', 'has-part'],\n",
       " 'membrane -> membrane': ['subclass-of', 'is-at'],\n",
       " 'segment of body -> anatomical structure': ['subclass-of', 'has-part'],\n",
       " 'bone -> connective tissue': ['subclass-of', 'has-part'],\n",
       " 'CDNA -> dna': ['subclass-of', 'abuts'],\n",
       " 'circular dna -> dna': ['subclass-of', 'has-part'],\n",
       " 'diet -> object': ['subclass-of', 'element'],\n",
       " 'gene -> dna sequence': ['subclass-of', 'has-part'],\n",
       " 'glycosidic linkage -> polar covalent bond': ['subclass-of', 'element'],\n",
       " 'homeodomain -> protein domain': ['subclass-of', 'has-region'],\n",
       " 'hydrophobic core -> hydrophobic region': ['subclass-of', 'abuts'],\n",
       " 'nucleic acid probe -> nucleic acid strand': ['subclass-of', 'has-part'],\n",
       " 'polymer -> chemical': ['subclass-of', 'has-part'],\n",
       " 'proteasome -> protein': ['subclass-of', 'has-part'],\n",
       " 'seed -> tissue': ['subclass-of', 'has-part'],\n",
       " 'substance -> object': ['subclass-of', 'has-part'],\n",
       " 'trimer -> molecule': ['subclass-of', 'has-part'],\n",
       " 'variable domain -> protein domain': ['subclass-of', 'has-region'],\n",
       " 'visible light -> green light': ['has-part', 'element'],\n",
       " 'visible light -> blue light': ['has-part', 'element'],\n",
       " 'visible light -> yellow light': ['has-part', 'element'],\n",
       " 'visible light -> orange light': ['has-part', 'element'],\n",
       " 'visible light -> red light': ['has-part', 'element'],\n",
       " 'visible light -> violet light': ['has-part', 'element'],\n",
       " 'mitotic spindle -> microtubule': ['has-part', 'element'],\n",
       " 'heterozygous -> allele': ['has-part', 'element'],\n",
       " 'dna sequence -> dna strand': ['has-part', 'is-at'],\n",
       " 'electron microscope -> electromagnet': ['has-part', 'abuts'],\n",
       " 'prophage -> gene': ['has-part', 'element'],\n",
       " 'water molecule -> chemical': ['has-part', 'abuts'],\n",
       " 'object -> membrane': ['has-part', 'is-inside'],\n",
       " 'atp synthase -> stator': ['has-part', 'element'],\n",
       " 'transcription unit -> terminator sequence': ['has-part', 'abuts'],\n",
       " 'transcription unit -> promoter': ['has-part', 'abuts'],\n",
       " 'atp synthase -> rod': ['has-part', 'element'],\n",
       " 'atp synthase -> rotor': ['has-part', 'element'],\n",
       " 'gene -> repetitive dna': ['has-part', 'element'],\n",
       " 'epidermis -> outer layer': ['has-region', 'is-inside'],\n",
       " 'water -> surface': ['has-region', 'is-at'],\n",
       " 'hydrophobic amino acid -> hydrophobic region': ['has-region', 'is-inside'],\n",
       " 'protein enzyme -> er membrane': ['is-inside', 'is-at'],\n",
       " 'aqueous solution -> er membrane': ['is-inside', 'is-outside'],\n",
       " 'sodium - potassium pump -> phospholipid bilayer': ['is-inside', 'is-at'],\n",
       " 'hydrophilic end -> outside face': ['is-inside', 'is-at'],\n",
       " 'transport membrane protein -> phospholipid bilayer': ['is-inside', 'is-at'],\n",
       " 'phospholipid -> phospholipid layer': ['is-inside', 'is-at'],\n",
       " 'object -> mitochondrion': ['is-inside', 'is-outside'],\n",
       " 'object -> central vacuole': ['is-inside', 'is-outside'],\n",
       " 'hydrophilic face -> aqueous solution': ['is-inside', 'is-outside'],\n",
       " 'hydrophilic face -> cell-membrane': ['is-inside', 'is-outside'],\n",
       " 'hydrophilic face -> nuclear-envelope': ['is-inside', 'is-outside'],\n",
       " 'object -> Platyhelminthes': ['is-inside', 'is-outside'],\n",
       " 'object -> pancrea cell': ['is-inside', 'is-outside'],\n",
       " 'membrane protein -> phospholipid bilayer': ['is-inside',\n",
       "  'is-at',\n",
       "  'is-outside'],\n",
       " 'object -> biologist': ['is-inside', 'is-outside'],\n",
       " 'object -> liver cell': ['is-inside', 'is-outside'],\n",
       " 'object -> trachea': ['is-inside', 'is-outside'],\n",
       " 'hydrophilic face -> cytosol': ['is-inside', 'is-outside'],\n",
       " 'hydrophobic face -> hydrophobic core': ['is-inside', 'is-at'],\n",
       " 'hydrophilic head -> hydrophilic face': ['is-inside', 'is-at'],\n",
       " 'object -> rotor': ['is-inside', 'is-outside'],\n",
       " 'polypeptide -> cytoplasm': ['is-inside', 'is-at'],\n",
       " 'cytosol -> er membrane': ['is-inside', 'is-outside'],\n",
       " 'hydrophilic end -> inside face': ['is-inside', 'is-at'],\n",
       " 'hydrophilic face -> membrane': ['is-inside', 'is-outside'],\n",
       " 'hydrophilic face -> thylakoid membrane': ['is-inside', 'is-outside'],\n",
       " 'hydrophilic region -> carbonyl group': ['is-inside', 'is-at'],\n",
       " 'object -> membrane , which be mitochondrion': ['is-inside', 'is-outside'],\n",
       " 'object -> chlorophyll B': ['is-inside', 'is-outside'],\n",
       " 'object -> nucleus': ['is-inside', 'is-outside'],\n",
       " 'object -> arthropo': ['is-inside', 'is-outside'],\n",
       " 'hydrophilic face -> animal plasma membrane': ['is-inside', 'is-outside'],\n",
       " 'object -> glucose': ['is-inside', 'is-outside'],\n",
       " 'object -> tropical sea': ['is-inside', 'is-outside'],\n",
       " 'object -> object': ['is-inside', 'is-outside'],\n",
       " 'object -> organism': ['is-inside', 'is-outside'],\n",
       " 'hydrophilic face -> chloroplast membrane': ['is-inside', 'is-outside'],\n",
       " 'object -> acoela': ['is-inside', 'is-outside'],\n",
       " 'object -> protist': ['is-inside', 'is-outside'],\n",
       " 'object -> flatworm': ['is-inside', 'is-outside'],\n",
       " 'object -> termite': ['is-inside', 'is-outside'],\n",
       " 'hydrophilic face -> mitochondrial membrane': ['is-inside', 'is-outside'],\n",
       " 'biological region -> organism': ['is-inside', 'is-outside'],\n",
       " 'hydrophilic face -> er membrane': ['is-inside', 'is-outside'],\n",
       " 'object -> sunlight': ['is-inside', 'is-outside'],\n",
       " 'epinephrine -> extracellular side': ['is-at', 'is-outside'],\n",
       " 'aqueous solution -> hydrophilic head': ['abuts', 'is-outside']}"
      ]
     },
     "execution_count": 70,
     "metadata": {},
     "output_type": "execute_result"
    }
   ],
   "source": [
    "term_relation_mapping = {}\n",
    "for relation in rdb:\n",
    "    for tp in rdb[relation]:\n",
    "        if tp in term_relation_mapping:\n",
    "            term_relation_mapping[tp].append(relation)\n",
    "        else:\n",
    "            term_relation_mapping[tp] = [relation]\n",
    "multi_label = {tp:r for tp, r in term_relation_mapping.items() if len(r) > 1}\n",
    "print(len(multi_label))\n",
    "multi_label"
   ]
  },
  {
   "cell_type": "markdown",
   "metadata": {},
   "source": [
    "**Plot distribution of sentences**"
   ]
  },
  {
   "cell_type": "markdown",
   "metadata": {},
   "source": [
    "## Sanity Checks\n",
    "\n",
    "- How many word-pairs match the text on regex, but we don't match in the pipeline?\n",
    "- How many word-pairs don't match sentences? Do these seem reasonable?\n",
    "- Word-pairs with too many matches?\n",
    "\n",
    "\n",
    "How many terms actually match the text?"
   ]
  },
  {
   "cell_type": "code",
   "execution_count": 71,
   "metadata": {},
   "outputs": [],
   "source": [
    "bio_sentences = pd.read_csv(\"../data/raw_data/openstax/sentences_Biology_2e_parsed.csv\")\n",
    "EXCLUDE_SECTIONS = [\n",
    "    \"Preface\", \"Chapter Outline\", \"Index\", \"Chapter Outline\", \"Summary\", \"Multiple Choice\",\n",
    "    \"Fill in the Blank\", \"short Answer\", \"Critical Thinking\", \"References\", \n",
    "    \"Units\", \"Conversion Factors\", \"Fundamental Constants\", \"Astronomical Data\",\n",
    "    \"Mathematical Formulas\", \"The Greek Alphabet\", \"Chapter 1\", \"Chapter 2\",\n",
    "    \"Chapter 3\", \"Chapter 4\", \"Chapter 5\", \"Chapter 6\", \"Chapter 7\", \"Chapter 8\"\n",
    "    \"Chapter 9\", \"Chapter 10\", \"Chapter 11\", \"Chapter 12\", \"Chapter 13\", \"Chapter 14\", \n",
    "    \"Chapter 15\", \"Chapter 16\", \"Chapter 17\", \"Critical Thinking Questions\", \n",
    "    \"Visual Connection Questions\", \"Key Terms\", \"Review Questions\", \n",
    "    \"The Periodic Table of Elements\", \"Measurements and the Metric System\"]\n",
    "bio_sentences = bio_sentences[~bio_sentences.section_name.isin(EXCLUDE_SECTIONS)]\n",
    "\n",
    "count = 0\n",
    "\n",
    "high_matches = {}\n",
    "no_match_in_text = {}\n",
    "no_match_not_in_text = {}\n",
    "\n",
    "for relation in rdb:\n",
    "    if relation == \"no-relation\":\n",
    "        continue\n",
    "    for term_pair in rdb[relation]:\n",
    "        \n",
    "        count_sentences = len(rdb[relation][term_pair][\"sentences\"])\n",
    "        \n",
    "        if count_sentences > 10:\n",
    "            high_matches[term_pair] = rdb[relation][term_pair]\n",
    "            high_matches[term_pair][\"relation\"] = relation\n",
    "        if not count_sentences:\n",
    "            terms = term_pair.split(\" -> \")\n",
    "            # exclude terms that are subsets of one another\n",
    "            if terms[0] in terms[1] or terms[1] in terms[0]:\n",
    "                continue\n",
    "            term_sentences = list(bio_sentences[(bio_sentences.sentence.str.contains(terms[0])) & \n",
    "                                                (bio_sentences.sentence.str.contains(terms[1]))].sentence)\n",
    "            if len(term_sentences):\n",
    "                no_match_in_text[term_pair] = rdb[relation][term_pair]\n",
    "                no_match_in_text[term_pair][\"textbook_sentences\"] = term_sentences\n",
    "                no_match_in_text[term_pair][\"relation\"] = relation \n",
    "            else:\n",
    "                no_match_not_in_text[term_pair] = rdb[relation][term_pair]\n",
    "                no_match_not_in_text[term_pair][\"relation\"] = relation "
   ]
  },
  {
   "cell_type": "code",
   "execution_count": 72,
   "metadata": {},
   "outputs": [
    {
     "name": "stdout",
     "output_type": "stream",
     "text": [
      "355 term pairs had no tagged relations but matched text\n",
      "11462 term pairs had no tagged relations and no matched text\n",
      "176 term pairs had more than 10 matched sentences\n"
     ]
    }
   ],
   "source": [
    "print(f\"{len(no_match_in_text)} term pairs had no tagged relations but matched text\")\n",
    "print(f\"{len(no_match_not_in_text)} term pairs had no tagged relations and no matched text\")\n",
    "print(f\"{len(high_matches)} term pairs had more than 10 matched sentences\")"
   ]
  },
  {
   "cell_type": "code",
   "execution_count": 57,
   "metadata": {
    "collapsed": true,
    "jupyter": {
     "outputs_hidden": true
    }
   },
   "outputs": [
    {
     "name": "stdout",
     "output_type": "stream",
     "text": [
      "{'sentences': [], 'e1_representations': ['chemical'], 'e2_representations': ['object'], 'relation': 'subclass-of'}\n",
      "{'sentences': [], 'e1_representations': ['mixture'], 'e2_representations': ['substance'], 'relation': 'has-part'}\n",
      "{'sentences': [], 'e1_representations': ['aggregate'], 'e2_representations': ['object'], 'relation': 'subclass-of'}\n",
      "{'sentences': [], 'e1_representations': ['region'], 'e2_representations': ['object'], 'relation': 'subclass-of'}\n",
      "{'sentences': [], 'e1_representations': ['community'], 'e2_representations': ['aggregate'], 'relation': 'subclass-of'}\n",
      "{'sentences': [], 'e1_representations': ['animate thing'], 'e2_representations': ['object'], 'relation': 'subclass-of'}\n",
      "{'sentences': [], 'e1_representations': ['animate thing'], 'e2_representations': ['organic entity'], 'relation': 'subclass-of'}\n",
      "{'sentences': [], 'e1_representations': ['information'], 'e2_representations': ['conceptual entity'], 'relation': 'subclass-of'}\n",
      "{'sentences': [], 'e1_representations': ['conceptual entity'], 'e2_representations': ['intangible entity'], 'relation': 'subclass-of'}\n",
      "{'sentences': [], 'e1_representations': ['VIIA'], 'e2_representations': ['chemical element'], 'relation': 'subclass-of'}\n",
      "{'sentences': [], 'e1_representations': ['PGAP'], 'e2_representations': ['phosphorylated intermediate'], 'relation': 'subclass-of'}\n",
      "{'sentences': [], 'e1_representations': ['3-prime carbon'], 'e2_representations': ['carbon atom'], 'relation': 'subclass-of'}\n",
      "{'sentences': [], 'e1_representations': ['3 prime end'], 'e2_representations': ['nucleic acid region'], 'relation': 'subclass-of'}\n",
      "{'sentences': [], 'e1_representations': ['3-prime region'], 'e2_representations': ['nucleic acid region'], 'relation': 'subclass-of'}\n",
      "{'sentences': [], 'e1_representations': ['5-prime carbon'], 'e2_representations': ['carbon atom'], 'relation': 'subclass-of'}\n",
      "{'sentences': [], 'e1_representations': ['5 prime end'], 'e2_representations': ['nucleic acid region'], 'relation': 'subclass-of'}\n",
      "{'sentences': [], 'e1_representations': ['5-prime region'], 'e2_representations': ['nucleic acid region'], 'relation': 'subclass-of'}\n",
      "{'sentences': [], 'e1_representations': ['A antigen'], 'e2_representations': ['blood carbohydrate'], 'relation': 'subclass-of'}\n",
      "{'sentences': [], 'e1_representations': ['A band'], 'e2_representations': ['biological region'], 'relation': 'subclass-of'}\n",
      "{'sentences': [], 'e1_representations': ['A-Site'], 'e2_representations': ['ribosome region'], 'relation': 'subclass-of'}\n"
     ]
    }
   ],
   "source": [
    "for term in list(no_match_not_in_text.keys())[:20]:\n",
    "    print(no_match_not_in_text[term])"
   ]
  },
  {
   "cell_type": "code",
   "execution_count": 73,
   "metadata": {},
   "outputs": [
    {
     "name": "stdout",
     "output_type": "stream",
     "text": [
      "role -> thing\n",
      "['By the end of this section, you will be able to do the following:    Describe the role of cells in organisms   Compare and contrast light microscopy and electron microscopy   Summarize cell theory       A cell is the smallest unit of a living thing.']\n",
      "\n",
      "active transport -> transport work\n",
      "['Recall the active transport work of the sodium-potassium pump in cell membranes.']\n",
      "\n",
      "adaptive immunity -> immune response\n",
      "['By the end of this section, you will be able to do the following:    Explain adaptive immunity   Compare and contrast adaptive and innate immunity   Describe cell-mediated immune response and humoral immune response   Describe immune tolerance       The adaptive, or acquired, immune response takes days or even weeks to become established—much longer than the innate response; however, adaptive immunity is more specific to pathogens and has memory.']\n",
      "\n",
      "alga -> Streptophyta\n",
      "['The Major Divisions of Land Plants   The green algae and land plants are grouped together into a subphylum called the Streptophyta, and thus are called Streptophytes.']\n",
      "\n",
      "allergy -> immune response\n",
      "['Allergies   The immune reaction that results from immediate hypersensitivities in which an antibody-mediated immune response occurs within minutes of exposure to a harmless antigen is called an  allergy .']\n",
      "\n",
      "alter -> action\n",
      "['Often during cellular metabolic reactions, such as nutrient synthesis and breakdown, certain molecules must alter slightly in their conformation to become substrates for the next step in the reaction series.', \"This alteration of the protein's (the enzyme's) structure either increases or decreases its affinity for its substrate, with the effect of increasing or decreasing the rate of the reaction.\", 'For example, earthworms move by waves of muscular contractions of the skeletal muscle of the body wall hydrostatic skeleton, called peristalsis, which alternately shorten and lengthen the body.', \"Neurotransmitter release occurs when an action potential travels down the motor neuron's axon, resulting in altered permeability of the synaptic terminal membrane and an influx of calcium.\"]\n",
      "\n",
      "ammonification -> decomposition\n",
      "['Another source of ammonia is  ammonification , the process by which ammonia is released during the decomposition of nitrogen-containing organic compounds.']\n",
      "\n",
      "amphibian -> ectotherm\n",
      "['In general, cold-blooded animals (ectotherms), such as invertebrates, fish, amphibians, and reptiles, use less of the energy they obtain for respiration and heat than warm-blooded animals (endotherms), such as birds and mammals.']\n",
      "\n",
      "anabolism -> metabolism\n",
      "['Consequently, building (anabolism) and degradation (catabolism) comprise metabolism.']\n",
      "\n",
      "antenna -> sensory organ\n",
      "['The head also has one pair of sensory antennae, as well as sensory organs such as a pair of compound eyes, ocelli (simple eyes), and numerous sensory hairs.']\n",
      "\n",
      "arthropo -> ecdysozoan\n",
      "['Molecular research similar to the discoveries that brought about the distinction of the lophotrochozoan clade has also revealed a dramatic rearrangement of the relationships between mollusks, annelids, arthropods, and nematodes, and as a result, a new ecdysozoan clade was formed.', 'However, molecular evidence has revealed that arthropods are actually more closely related to nematodes, now comprising the ecdysozoan clade, and annelids are more closely related to mollusks, brachiopods, and other phyla in the lophotrochozoan clade.']\n",
      "\n",
      "asexual reproduction -> reproduce\n",
      "['An additional advantage of asexual reproduction is that colonization of new habitats may be easier when an individual does not need to find a mate to reproduce.']\n",
      "\n",
      "attract -> interact\n",
      "['Like hydrogen bonds,  van der Waals interactions  are weak attractions or interactions between molecules.']\n",
      "\n",
      "AUG -> start codon\n",
      "[\"The  reading frame  for translation is set by the AUG start codon near the 5' end of the mRNA.\", 'The initiator tRNA then interacts with the  start codon  AUG (or rarely, GUG).', \"Once at the cap, the initiation complex tracks along the mRNA in the 5' to 3' direction, searching for the AUG start codon.\", \"According to  Kozak's rules , the nucleotides around the AUG indicate whether it is the correct start codon.\", 'The ribosome then scans along the mRNA until it finds a start codon AUG.']\n",
      "\n",
      "autocrine -> hormone\n",
      "['Endocrine signals are carried long distances through the bloodstream by hormones, and autocrine signals are received by the same cell that sent the signal or other nearby cells of the same kind.']\n",
      "\n",
      "autopolyploid -> polyploidy\n",
      "['In some cases, a polyploid individual will have two or more complete sets of chromosomes from its own species in a condition that we call  autopolyploidy  ( Figure 18.15 ).']\n",
      "\n",
      "binary fission -> asexual reproduction\n",
      "['Most undergo some form of  asexual reproduction , such as binary fission, to produce two daughter cells.']\n",
      "\n",
      "biotechnology -> engineering\n",
      "['Genetic engineering, artificial selection, antibiotic production, and cell culture are current topics of study in biotechnology and will be described in later chapters.']\n",
      "\n",
      "bird -> endotherm\n",
      "['However, given that modern birds are endothermic, the dinosaurs that were the immediate ancestors to birds likely were endothermic as well.', 'Like mammals (which are also endothermic and homeothermic and covered with an insulating pelage), birds have several different types of feathers that together keep \"heat\" (infrared energy) within the core of the body, away from the surface where it can be lost by radiation and convection to the environment.', 'Although we have a good understanding of how feathers and flight may have evolved, the question of how endothermy evolved in birds (and other lineages) remains unanswered.', 'In general, cold-blooded animals (ectotherms), such as invertebrates, fish, amphibians, and reptiles, use less of the energy they obtain for respiration and heat than warm-blooded animals (endotherms), such as birds and mammals.']\n",
      "\n",
      "blood -> bodily fluid\n",
      "['-->     Humoral Stimuli   The term \"humoral\" is derived from the term \"humor,\" which refers to bodily fluids such as blood.']\n",
      "\n"
     ]
    }
   ],
   "source": [
    "for term in list(no_match_in_text.keys())[:20]:\n",
    "    print(term)\n",
    "    print(no_match_in_text[term][\"textbook_sentences\"])\n",
    "    print()"
   ]
  },
  {
   "cell_type": "code",
   "execution_count": 58,
   "metadata": {},
   "outputs": [
    {
     "name": "stdout",
     "output_type": "stream",
     "text": [
      "['chemical', 'chemicals']\n",
      "['substance', 'substances']\n",
      "\n",
      "['activation energy']\n",
      "['energy']\n",
      "\n",
      "['allele', 'alleles']\n",
      "['gene', 'genes']\n",
      "\n",
      "['atom', 'atoms']\n",
      "['chemical']\n",
      "\n",
      "['bird', 'birds']\n",
      "['vertebrate', 'vertebrates']\n",
      "\n",
      "['blood']\n",
      "['connective tissue', 'connective tissues']\n",
      "\n",
      "['bone', 'bones']\n",
      "['connective tissue', 'connective tissues']\n",
      "\n",
      "['cancer', 'cancers']\n",
      "['disease', 'diseases']\n",
      "\n",
      "['compound', 'compounds']\n",
      "['chemical', 'chemicals']\n",
      "\n",
      "['concentration gradient', 'concentration gradients']\n",
      "['gradient', 'gradients']\n",
      "\n",
      "['connective tissue', 'connective tissues']\n",
      "['tissue', 'tissues']\n",
      "\n",
      "['ectoderm']\n",
      "['germ layer', 'germ layers']\n",
      "\n",
      "['endoskeleton', 'endoskeletons']\n",
      "['skeleton', 'skeletons']\n",
      "\n",
      "['glycoprotein', 'glycoproteins']\n",
      "['protein', 'proteins']\n",
      "\n",
      "['molecule', 'molecules']\n",
      "['chemical', 'chemicals']\n",
      "\n",
      "['monomer', 'monomers']\n",
      "['molecule', 'molecules']\n",
      "\n",
      "['nucleus']\n",
      "['organelle', 'organelles']\n",
      "\n",
      "['outer membrane', 'outer membranes']\n",
      "['membrane', 'membranes']\n",
      "\n",
      "['plant', 'plants']\n",
      "['eukaryote', 'eukaryotes']\n",
      "\n",
      "['potential energy']\n",
      "['energy']\n",
      "\n"
     ]
    }
   ],
   "source": [
    "for term in list(high_matches.keys())[:20]:\n",
    "    print(high_matches[term][\"e1_representations\"])\n",
    "    print(high_matches[term][\"e2_representations\"])\n",
    "    print()"
   ]
  },
  {
   "cell_type": "code",
   "execution_count": null,
   "metadata": {},
   "outputs": [],
   "source": []
  }
 ],
 "metadata": {
  "kernelspec": {
   "display_name": "Environment (conda_pytorch_p36)",
   "language": "python",
   "name": "conda_pytorch_p36"
  },
  "language_info": {
   "codemirror_mode": {
    "name": "ipython",
    "version": 3
   },
   "file_extension": ".py",
   "mimetype": "text/x-python",
   "name": "python",
   "nbconvert_exporter": "python",
   "pygments_lexer": "ipython3",
   "version": "3.6.5"
  },
  "toc-autonumbering": false
 },
 "nbformat": 4,
 "nbformat_minor": 4
}
