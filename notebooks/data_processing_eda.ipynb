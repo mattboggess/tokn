{
 "cells": [
  {
   "cell_type": "markdown",
   "metadata": {},
   "source": [
    "# Data Processing EDA\n",
    "\n",
    "This notebook computes summary statistics and performs sanity checks on the data processing pipelines (raw_data -> relations database and sentences tagged with key terms)."
   ]
  },
  {
   "cell_type": "code",
   "execution_count": 66,
   "metadata": {},
   "outputs": [
    {
     "name": "stdout",
     "output_type": "stream",
     "text": [
      "Use device: cpu\n",
      "---\n",
      "Loading: tokenize\n",
      "With settings: \n",
      "{'model_path': '/Users/mattboggess/stanfordnlp_resources/en_ewt_models/en_ewt_tokenizer.pt', 'lang': 'en', 'shorthand': 'en_ewt', 'mode': 'predict'}\n",
      "---\n",
      "Loading: pos\n",
      "With settings: \n",
      "{'model_path': '/Users/mattboggess/stanfordnlp_resources/en_ewt_models/en_ewt_tagger.pt', 'pretrain_path': '/Users/mattboggess/stanfordnlp_resources/en_ewt_models/en_ewt.pretrain.pt', 'lang': 'en', 'shorthand': 'en_ewt', 'mode': 'predict'}\n",
      "---\n",
      "Loading: lemma\n",
      "With settings: \n",
      "{'model_path': '/Users/mattboggess/stanfordnlp_resources/en_ewt_models/en_ewt_lemmatizer.pt', 'lang': 'en', 'shorthand': 'en_ewt', 'mode': 'predict'}\n",
      "Building an attentional Seq2Seq model...\n",
      "Using a Bi-LSTM encoder\n",
      "Using soft attention for LSTM.\n",
      "Finetune all embeddings.\n",
      "[Running seq2seq lemmatizer with edit classifier]\n",
      "---\n",
      "Loading: depparse\n",
      "With settings: \n",
      "{'model_path': '/Users/mattboggess/stanfordnlp_resources/en_ewt_models/en_ewt_parser.pt', 'pretrain_path': '/Users/mattboggess/stanfordnlp_resources/en_ewt_models/en_ewt.pretrain.pt', 'lang': 'en', 'shorthand': 'en_ewt', 'mode': 'predict'}\n",
      "Done loading processors!\n",
      "---\n",
      "The autoreload extension is already loaded. To reload it, use:\n",
      "  %reload_ext autoreload\n"
     ]
    }
   ],
   "source": [
    "import pandas as pd\n",
    "import pickle\n",
    "import json\n",
    "\n",
    "from collections import defaultdict\n",
    "import spacy\n",
    "\n",
    "import stanfordnlp\n",
    "from spacy_stanfordnlp import StanfordNLPLanguage\n",
    "#stanfordnlp.download('en')\n",
    "snlp = stanfordnlp.Pipeline(lang=\"en\")\n",
    "nlp = StanfordNLPLanguage(snlp)\n",
    "\n",
    "import warnings\n",
    "warnings.filterwarnings('ignore')\n",
    "\n",
    "%load_ext autoreload\n",
    "%autoreload 2\n",
    "\n",
    "# fix for importing utils\n",
    "import os\n",
    "import sys\n",
    "module_path = os.path.abspath(os.path.join('../utils'))\n",
    "if module_path not in sys.path:\n",
    "    sys.path.append(module_path)\n",
    "\n",
    "data_dir = '../data/relation_extraction'"
   ]
  },
  {
   "cell_type": "markdown",
   "metadata": {},
   "source": [
    "Relation EDA:\n",
    "- Programmatically ensure there are no sentences that contain a term pair that weren't tagged\n",
    "- Determine any multi-labels\n",
    "\n",
    "Double Check:\n",
    "- Bi-directionality of relations\n",
    "- Way that text representations are being collected"
   ]
  },
  {
   "cell_type": "markdown",
   "metadata": {},
   "source": [
    "# Relations Database"
   ]
  },
  {
   "cell_type": "code",
   "execution_count": 67,
   "metadata": {},
   "outputs": [],
   "source": [
    "with open(\"../data/relation_extraction/relations_db.json\", \"r\") as f:\n",
    "    rdb = json.load(f)"
   ]
  },
  {
   "cell_type": "markdown",
   "metadata": {},
   "source": [
    "## Summary Statistics"
   ]
  },
  {
   "cell_type": "code",
   "execution_count": 68,
   "metadata": {},
   "outputs": [],
   "source": [
    "long_df = {\"relation\": [], \"term_pair\": [], \"count_sentences\": [], \"found_sentence\": []}\n",
    "for relation in rdb:\n",
    "    for term_pair in rdb[relation]: \n",
    "        long_df[\"relation\"].append(relation)\n",
    "        long_df[\"term_pair\"].append(term_pair)\n",
    "        long_df[\"count_sentences\"].append(len(rdb[relation][term_pair][\"sentences\"]))\n",
    "        long_df[\"found_sentence\"].append(len(rdb[relation][term_pair][\"sentences\"]) > 0)\n",
    "long_df = pd.DataFrame(long_df)"
   ]
  },
  {
   "cell_type": "code",
   "execution_count": 69,
   "metadata": {},
   "outputs": [
    {
     "data": {
      "text/html": [
       "<div>\n",
       "<style scoped>\n",
       "    .dataframe tbody tr th:only-of-type {\n",
       "        vertical-align: middle;\n",
       "    }\n",
       "\n",
       "    .dataframe tbody tr th {\n",
       "        vertical-align: top;\n",
       "    }\n",
       "\n",
       "    .dataframe thead tr th {\n",
       "        text-align: left;\n",
       "    }\n",
       "\n",
       "    .dataframe thead tr:last-of-type th {\n",
       "        text-align: right;\n",
       "    }\n",
       "</style>\n",
       "<table border=\"1\" class=\"dataframe\">\n",
       "  <thead>\n",
       "    <tr>\n",
       "      <th></th>\n",
       "      <th></th>\n",
       "      <th>term_pair</th>\n",
       "      <th colspan=\"2\" halign=\"left\">count_sentences</th>\n",
       "    </tr>\n",
       "    <tr>\n",
       "      <th></th>\n",
       "      <th></th>\n",
       "      <th>count</th>\n",
       "      <th>sum</th>\n",
       "      <th>mean</th>\n",
       "    </tr>\n",
       "    <tr>\n",
       "      <th>relation</th>\n",
       "      <th>found_sentence</th>\n",
       "      <th></th>\n",
       "      <th></th>\n",
       "      <th></th>\n",
       "    </tr>\n",
       "  </thead>\n",
       "  <tbody>\n",
       "    <tr>\n",
       "      <td rowspan=\"2\" valign=\"top\">abuts</td>\n",
       "      <td>False</td>\n",
       "      <td>82</td>\n",
       "      <td>0</td>\n",
       "      <td>0.000000</td>\n",
       "    </tr>\n",
       "    <tr>\n",
       "      <td>True</td>\n",
       "      <td>28</td>\n",
       "      <td>172</td>\n",
       "      <td>6.142857</td>\n",
       "    </tr>\n",
       "    <tr>\n",
       "      <td rowspan=\"2\" valign=\"top\">element</td>\n",
       "      <td>False</td>\n",
       "      <td>408</td>\n",
       "      <td>0</td>\n",
       "      <td>0.000000</td>\n",
       "    </tr>\n",
       "    <tr>\n",
       "      <td>True</td>\n",
       "      <td>89</td>\n",
       "      <td>624</td>\n",
       "      <td>7.011236</td>\n",
       "    </tr>\n",
       "    <tr>\n",
       "      <td rowspan=\"2\" valign=\"top\">has-part</td>\n",
       "      <td>False</td>\n",
       "      <td>3701</td>\n",
       "      <td>0</td>\n",
       "      <td>0.000000</td>\n",
       "    </tr>\n",
       "    <tr>\n",
       "      <td>True</td>\n",
       "      <td>580</td>\n",
       "      <td>4639</td>\n",
       "      <td>7.998276</td>\n",
       "    </tr>\n",
       "    <tr>\n",
       "      <td rowspan=\"2\" valign=\"top\">has-region</td>\n",
       "      <td>False</td>\n",
       "      <td>1415</td>\n",
       "      <td>0</td>\n",
       "      <td>0.000000</td>\n",
       "    </tr>\n",
       "    <tr>\n",
       "      <td>True</td>\n",
       "      <td>146</td>\n",
       "      <td>936</td>\n",
       "      <td>6.410959</td>\n",
       "    </tr>\n",
       "    <tr>\n",
       "      <td rowspan=\"2\" valign=\"top\">is-at</td>\n",
       "      <td>False</td>\n",
       "      <td>202</td>\n",
       "      <td>0</td>\n",
       "      <td>0.000000</td>\n",
       "    </tr>\n",
       "    <tr>\n",
       "      <td>True</td>\n",
       "      <td>44</td>\n",
       "      <td>308</td>\n",
       "      <td>7.000000</td>\n",
       "    </tr>\n",
       "    <tr>\n",
       "      <td rowspan=\"2\" valign=\"top\">is-inside</td>\n",
       "      <td>False</td>\n",
       "      <td>494</td>\n",
       "      <td>0</td>\n",
       "      <td>0.000000</td>\n",
       "    </tr>\n",
       "    <tr>\n",
       "      <td>True</td>\n",
       "      <td>110</td>\n",
       "      <td>822</td>\n",
       "      <td>7.472727</td>\n",
       "    </tr>\n",
       "    <tr>\n",
       "      <td rowspan=\"2\" valign=\"top\">is-outside</td>\n",
       "      <td>False</td>\n",
       "      <td>143</td>\n",
       "      <td>0</td>\n",
       "      <td>0.000000</td>\n",
       "    </tr>\n",
       "    <tr>\n",
       "      <td>True</td>\n",
       "      <td>23</td>\n",
       "      <td>185</td>\n",
       "      <td>8.043478</td>\n",
       "    </tr>\n",
       "    <tr>\n",
       "      <td>no-relation</td>\n",
       "      <td>True</td>\n",
       "      <td>340878</td>\n",
       "      <td>836918</td>\n",
       "      <td>2.455183</td>\n",
       "    </tr>\n",
       "    <tr>\n",
       "      <td rowspan=\"2\" valign=\"top\">possesses</td>\n",
       "      <td>False</td>\n",
       "      <td>741</td>\n",
       "      <td>0</td>\n",
       "      <td>0.000000</td>\n",
       "    </tr>\n",
       "    <tr>\n",
       "      <td>True</td>\n",
       "      <td>43</td>\n",
       "      <td>245</td>\n",
       "      <td>5.697674</td>\n",
       "    </tr>\n",
       "    <tr>\n",
       "      <td rowspan=\"2\" valign=\"top\">subclass-of</td>\n",
       "      <td>False</td>\n",
       "      <td>6078</td>\n",
       "      <td>0</td>\n",
       "      <td>0.000000</td>\n",
       "    </tr>\n",
       "    <tr>\n",
       "      <td>True</td>\n",
       "      <td>663</td>\n",
       "      <td>2149</td>\n",
       "      <td>3.241327</td>\n",
       "    </tr>\n",
       "  </tbody>\n",
       "</table>\n",
       "</div>"
      ],
      "text/plain": [
       "                           term_pair count_sentences          \n",
       "                               count             sum      mean\n",
       "relation    found_sentence                                    \n",
       "abuts       False                 82               0  0.000000\n",
       "            True                  28             172  6.142857\n",
       "element     False                408               0  0.000000\n",
       "            True                  89             624  7.011236\n",
       "has-part    False               3701               0  0.000000\n",
       "            True                 580            4639  7.998276\n",
       "has-region  False               1415               0  0.000000\n",
       "            True                 146             936  6.410959\n",
       "is-at       False                202               0  0.000000\n",
       "            True                  44             308  7.000000\n",
       "is-inside   False                494               0  0.000000\n",
       "            True                 110             822  7.472727\n",
       "is-outside  False                143               0  0.000000\n",
       "            True                  23             185  8.043478\n",
       "no-relation True              340878          836918  2.455183\n",
       "possesses   False                741               0  0.000000\n",
       "            True                  43             245  5.697674\n",
       "subclass-of False               6078               0  0.000000\n",
       "            True                 663            2149  3.241327"
      ]
     },
     "execution_count": 69,
     "metadata": {},
     "output_type": "execute_result"
    }
   ],
   "source": [
    "summary_df = long_df.groupby([\"relation\", \"found_sentence\"]).agg({\"term_pair\": \"count\",\n",
    "                                                                  \"count_sentences\": [\"sum\", \"mean\"]})\n",
    "summary_df"
   ]
  },
  {
   "cell_type": "code",
   "execution_count": 7,
   "metadata": {},
   "outputs": [
    {
     "name": "stdout",
     "output_type": "stream",
     "text": [
      "Relation:  no-relation\n"
     ]
    },
    {
     "data": {
      "image/png": "[encoded data removed]",
      "text/plain": [
       "<Figure size 432x288 with 1 Axes>"
      ]
     },
     "metadata": {
      "needs_background": "light"
     },
     "output_type": "display_data"
    },
    {
     "name": "stdout",
     "output_type": "stream",
     "text": [
      "Relation:  subclass-of\n"
     ]
    },
    {
     "data": {
      "image/png": "[encoded data removed]",
      "text/plain": [
       "<Figure size 432x288 with 1 Axes>"
      ]
     },
     "metadata": {
      "needs_background": "light"
     },
     "output_type": "display_data"
    },
    {
     "name": "stdout",
     "output_type": "stream",
     "text": [
      "Relation:  has-part\n"
     ]
    },
    {
     "data": {
      "image/png": "[encoded data removed]",
      "text/plain": [
       "<Figure size 432x288 with 1 Axes>"
      ]
     },
     "metadata": {
      "needs_background": "light"
     },
     "output_type": "display_data"
    },
    {
     "name": "stdout",
     "output_type": "stream",
     "text": [
      "Relation:  possesses\n"
     ]
    },
    {
     "data": {
      "image/png": "[encoded data removed]",
      "text/plain": [
       "<Figure size 432x288 with 1 Axes>"
      ]
     },
     "metadata": {
      "needs_background": "light"
     },
     "output_type": "display_data"
    },
    {
     "name": "stdout",
     "output_type": "stream",
     "text": [
      "Relation:  has-region\n"
     ]
    },
    {
     "data": {
      "image/png": "[encoded data removed]",
      "text/plain": [
       "<Figure size 432x288 with 1 Axes>"
      ]
     },
     "metadata": {
      "needs_background": "light"
     },
     "output_type": "display_data"
    },
    {
     "name": "stdout",
     "output_type": "stream",
     "text": [
      "Relation:  is-inside\n"
     ]
    },
    {
     "data": {
      "image/png": "[encoded data removed]",
      "text/plain": [
       "<Figure size 432x288 with 1 Axes>"
      ]
     },
     "metadata": {
      "needs_background": "light"
     },
     "output_type": "display_data"
    },
    {
     "name": "stdout",
     "output_type": "stream",
     "text": [
      "Relation:  is-at\n"
     ]
    },
    {
     "data": {
      "image/png": "[encoded data removed]",
      "text/plain": [
       "<Figure size 432x288 with 1 Axes>"
      ]
     },
     "metadata": {
      "needs_background": "light"
     },
     "output_type": "display_data"
    },
    {
     "name": "stdout",
     "output_type": "stream",
     "text": [
      "Relation:  element\n"
     ]
    },
    {
     "data": {
      "image/png": "[encoded data removed]",
      "text/plain": [
       "<Figure size 432x288 with 1 Axes>"
      ]
     },
     "metadata": {
      "needs_background": "light"
     },
     "output_type": "display_data"
    },
    {
     "name": "stdout",
     "output_type": "stream",
     "text": [
      "Relation:  abuts\n"
     ]
    },
    {
     "data": {
      "image/png": "[encoded data removed]",
      "text/plain": [
       "<Figure size 432x288 with 1 Axes>"
      ]
     },
     "metadata": {
      "needs_background": "light"
     },
     "output_type": "display_data"
    },
    {
     "name": "stdout",
     "output_type": "stream",
     "text": [
      "Relation:  is-outside\n"
     ]
    },
    {
     "data": {
      "image/png": "[encoded data removed]",
      "text/plain": [
       "<Figure size 432x288 with 1 Axes>"
      ]
     },
     "metadata": {
      "needs_background": "light"
     },
     "output_type": "display_data"
    },
    {
     "name": "stdout",
     "output_type": "stream",
     "text": [
      "Overall\n"
     ]
    },
    {
     "data": {
      "image/png": "[encoded data removed]",
      "text/plain": [
       "<Figure size 432x288 with 1 Axes>"
      ]
     },
     "metadata": {
      "needs_background": "light"
     },
     "output_type": "display_data"
    }
   ],
   "source": [
    "import matplotlib.pyplot as plt\n",
    "grouped = long_df.groupby([\"relation\"])\n",
    "for relation in rdb:\n",
    "    grouped_relation = grouped.get_group(relation)[\"count_sentences\"]\n",
    "    print(\"Relation: \", relation)\n",
    "    plt.hist(list(grouped_relation))\n",
    "    plt.show()\n",
    "    \n",
    "# Overall histogram distribution\n",
    "print(\"Overall\")\n",
    "plt.hist(list(long_df[\"count_sentences\"]))\n",
    "plt.show()"
   ]
  },
  {
   "cell_type": "markdown",
   "metadata": {},
   "source": [
    "## Multi-Label Term Pairs"
   ]
  },
  {
   "cell_type": "code",
   "execution_count": 70,
   "metadata": {},
   "outputs": [
    {
     "name": "stdout",
     "output_type": "stream",
     "text": [
      "87\n"
     ]
    },
    {
     "data": {
      "text/plain": [
       "{'mixture -> substance': ['subclass-of', 'has-part'],\n",
       " 'membrane -> membrane': ['subclass-of', 'is-at'],\n",
       " 'segment of body -> anatomical structure': ['subclass-of', 'has-part'],\n",
       " 'bone -> connective tissue': ['subclass-of', 'has-part'],\n",
       " 'CDNA -> dna': ['subclass-of', 'abuts'],\n",
       " 'circular dna -> dna': ['subclass-of', 'has-part'],\n",
       " 'diet -> object': ['subclass-of', 'element'],\n",
       " 'gene -> dna sequence': ['subclass-of', 'has-part'],\n",
       " 'glycosidic linkage -> polar covalent bond': ['subclass-of', 'element'],\n",
       " 'homeodomain -> protein domain': ['subclass-of', 'has-region'],\n",
       " 'hydrophobic core -> hydrophobic region': ['subclass-of', 'abuts'],\n",
       " 'nucleic acid probe -> nucleic acid strand': ['subclass-of', 'has-part'],\n",
       " 'polymer -> chemical': ['subclass-of', 'has-part'],\n",
       " 'proteasome -> protein': ['subclass-of', 'has-part'],\n",
       " 'seed -> tissue': ['subclass-of', 'has-part'],\n",
       " 'substance -> object': ['subclass-of', 'has-part'],\n",
       " 'trimer -> molecule': ['subclass-of', 'has-part'],\n",
       " 'variable domain -> protein domain': ['subclass-of', 'has-region'],\n",
       " 'visible light -> green light': ['has-part', 'element'],\n",
       " 'visible light -> blue light': ['has-part', 'element'],\n",
       " 'visible light -> yellow light': ['has-part', 'element'],\n",
       " 'visible light -> orange light': ['has-part', 'element'],\n",
       " 'visible light -> red light': ['has-part', 'element'],\n",
       " 'visible light -> violet light': ['has-part', 'element'],\n",
       " 'mitotic spindle -> microtubule': ['has-part', 'element'],\n",
       " 'heterozygous -> allele': ['has-part', 'element'],\n",
       " 'dna sequence -> dna strand': ['has-part', 'is-at'],\n",
       " 'electron microscope -> electromagnet': ['has-part', 'abuts'],\n",
       " 'prophage -> gene': ['has-part', 'element'],\n",
       " 'water molecule -> chemical': ['has-part', 'abuts'],\n",
       " 'object -> membrane': ['has-part', 'is-inside'],\n",
       " 'atp synthase -> stator': ['has-part', 'element'],\n",
       " 'transcription unit -> terminator sequence': ['has-part', 'abuts'],\n",
       " 'transcription unit -> promoter': ['has-part', 'abuts'],\n",
       " 'atp synthase -> rod': ['has-part', 'element'],\n",
       " 'atp synthase -> rotor': ['has-part', 'element'],\n",
       " 'gene -> repetitive dna': ['has-part', 'element'],\n",
       " 'epidermis -> outer layer': ['has-region', 'is-inside'],\n",
       " 'water -> surface': ['has-region', 'is-at'],\n",
       " 'hydrophobic amino acid -> hydrophobic region': ['has-region', 'is-inside'],\n",
       " 'protein enzyme -> er membrane': ['is-inside', 'is-at'],\n",
       " 'aqueous solution -> er membrane': ['is-inside', 'is-outside'],\n",
       " 'sodium - potassium pump -> phospholipid bilayer': ['is-inside', 'is-at'],\n",
       " 'hydrophilic end -> outside face': ['is-inside', 'is-at'],\n",
       " 'transport membrane protein -> phospholipid bilayer': ['is-inside', 'is-at'],\n",
       " 'phospholipid -> phospholipid layer': ['is-inside', 'is-at'],\n",
       " 'object -> mitochondrion': ['is-inside', 'is-outside'],\n",
       " 'object -> central vacuole': ['is-inside', 'is-outside'],\n",
       " 'hydrophilic face -> aqueous solution': ['is-inside', 'is-outside'],\n",
       " 'hydrophilic face -> cell-membrane': ['is-inside', 'is-outside'],\n",
       " 'hydrophilic face -> nuclear-envelope': ['is-inside', 'is-outside'],\n",
       " 'object -> Platyhelminthes': ['is-inside', 'is-outside'],\n",
       " 'object -> pancrea cell': ['is-inside', 'is-outside'],\n",
       " 'membrane protein -> phospholipid bilayer': ['is-inside',\n",
       "  'is-at',\n",
       "  'is-outside'],\n",
       " 'object -> biologist': ['is-inside', 'is-outside'],\n",
       " 'object -> liver cell': ['is-inside', 'is-outside'],\n",
       " 'object -> trachea': ['is-inside', 'is-outside'],\n",
       " 'hydrophilic face -> cytosol': ['is-inside', 'is-outside'],\n",
       " 'hydrophobic face -> hydrophobic core': ['is-inside', 'is-at'],\n",
       " 'hydrophilic head -> hydrophilic face': ['is-inside', 'is-at'],\n",
       " 'object -> rotor': ['is-inside', 'is-outside'],\n",
       " 'polypeptide -> cytoplasm': ['is-inside', 'is-at'],\n",
       " 'cytosol -> er membrane': ['is-inside', 'is-outside'],\n",
       " 'hydrophilic end -> inside face': ['is-inside', 'is-at'],\n",
       " 'hydrophilic face -> membrane': ['is-inside', 'is-outside'],\n",
       " 'hydrophilic face -> thylakoid membrane': ['is-inside', 'is-outside'],\n",
       " 'hydrophilic region -> carbonyl group': ['is-inside', 'is-at'],\n",
       " 'object -> membrane , which be mitochondrion': ['is-inside', 'is-outside'],\n",
       " 'object -> chlorophyll B': ['is-inside', 'is-outside'],\n",
       " 'object -> nucleus': ['is-inside', 'is-outside'],\n",
       " 'object -> arthropo': ['is-inside', 'is-outside'],\n",
       " 'hydrophilic face -> animal plasma membrane': ['is-inside', 'is-outside'],\n",
       " 'object -> glucose': ['is-inside', 'is-outside'],\n",
       " 'object -> tropical sea': ['is-inside', 'is-outside'],\n",
       " 'object -> object': ['is-inside', 'is-outside'],\n",
       " 'object -> organism': ['is-inside', 'is-outside'],\n",
       " 'hydrophilic face -> chloroplast membrane': ['is-inside', 'is-outside'],\n",
       " 'object -> acoela': ['is-inside', 'is-outside'],\n",
       " 'object -> protist': ['is-inside', 'is-outside'],\n",
       " 'object -> flatworm': ['is-inside', 'is-outside'],\n",
       " 'object -> termite': ['is-inside', 'is-outside'],\n",
       " 'hydrophilic face -> mitochondrial membrane': ['is-inside', 'is-outside'],\n",
       " 'biological region -> organism': ['is-inside', 'is-outside'],\n",
       " 'hydrophilic face -> er membrane': ['is-inside', 'is-outside'],\n",
       " 'object -> sunlight': ['is-inside', 'is-outside'],\n",
       " 'epinephrine -> extracellular side': ['is-at', 'is-outside'],\n",
       " 'aqueous solution -> hydrophilic head': ['abuts', 'is-outside']}"
      ]
     },
     "execution_count": 70,
     "metadata": {},
     "output_type": "execute_result"
    }
   ],
   "source": [
    "term_relation_mapping = {}\n",
    "for relation in rdb:\n",
    "    for tp in rdb[relation]:\n",
    "        if tp in term_relation_mapping:\n",
    "            term_relation_mapping[tp].append(relation)\n",
    "        else:\n",
    "            term_relation_mapping[tp] = [relation]\n",
    "multi_label = {tp:r for tp, r in term_relation_mapping.items() if len(r) > 1}\n",
    "print(len(multi_label))\n",
    "multi_label"
   ]
  },
  {
   "cell_type": "markdown",
   "metadata": {},
   "source": [
    "**Plot distribution of sentences**"
   ]
  },
  {
   "cell_type": "markdown",
   "metadata": {},
   "source": [
    "## Sanity Checks\n",
    "\n",
    "- How many word-pairs match the text on regex, but we don't match in the pipeline?\n",
    "- How many word-pairs don't match sentences? Do these seem reasonable?\n",
    "- Word-pairs with too many matches?"
   ]
  },
  {
   "cell_type": "code",
   "execution_count": 71,
   "metadata": {},
   "outputs": [],
   "source": [
    "bio_sentences = pd.read_csv(\"../data/raw_data/openstax/sentences_Biology_2e_parsed.csv\")\n",
    "EXCLUDE_SECTIONS = [\n",
    "    \"Preface\", \"Chapter Outline\", \"Index\", \"Chapter Outline\", \"Summary\", \"Multiple Choice\",\n",
    "    \"Fill in the Blank\", \"short Answer\", \"Critical Thinking\", \"References\", \n",
    "    \"Units\", \"Conversion Factors\", \"Fundamental Constants\", \"Astronomical Data\",\n",
    "    \"Mathematical Formulas\", \"The Greek Alphabet\", \"Chapter 1\", \"Chapter 2\",\n",
    "    \"Chapter 3\", \"Chapter 4\", \"Chapter 5\", \"Chapter 6\", \"Chapter 7\", \"Chapter 8\"\n",
    "    \"Chapter 9\", \"Chapter 10\", \"Chapter 11\", \"Chapter 12\", \"Chapter 13\", \"Chapter 14\", \n",
    "    \"Chapter 15\", \"Chapter 16\", \"Chapter 17\", \"Critical Thinking Questions\", \n",
    "    \"Visual Connection Questions\", \"Key Terms\", \"Review Questions\", \n",
    "    \"The Periodic Table of Elements\", \"Measurements and the Metric System\"]\n",
    "bio_sentences = bio_sentences[~bio_sentences.section_name.isin(EXCLUDE_SECTIONS)]\n",
    "\n",
    "count = 0\n",
    "\n",
    "high_matches = {}\n",
    "no_match_in_text = {}\n",
    "no_match_not_in_text = {}\n",
    "\n",
    "for relation in rdb:\n",
    "    if relation == \"no-relation\":\n",
    "        continue\n",
    "    for term_pair in rdb[relation]:\n",
    "        \n",
    "        count_sentences = len(rdb[relation][term_pair][\"sentences\"])\n",
    "        \n",
    "        if count_sentences > 10:\n",
    "            high_matches[term_pair] = rdb[relation][term_pair]\n",
    "            high_matches[term_pair][\"relation\"] = relation\n",
    "        if not count_sentences:\n",
    "            terms = term_pair.split(\" -> \")\n",
    "            # exclude terms that are subsets of one another\n",
    "            if terms[0] in terms[1] or terms[1] in terms[0]:\n",
    "                continue\n",
    "            term_sentences = list(bio_sentences[(bio_sentences.sentence.str.contains(terms[0])) & \n",
    "                                                (bio_sentences.sentence.str.contains(terms[1]))].sentence)\n",
    "            if len(term_sentences):\n",
    "                no_match_in_text[term_pair] = rdb[relation][term_pair]\n",
    "                no_match_in_text[term_pair][\"textbook_sentences\"] = term_sentences\n",
    "                no_match_in_text[term_pair][\"relation\"] = relation \n",
    "            else:\n",
    "                no_match_not_in_text[term_pair] = rdb[relation][term_pair]\n",
    "                no_match_not_in_text[term_pair][\"relation\"] = relation "
   ]
  },
  {
   "cell_type": "code",
   "execution_count": 72,
   "metadata": {},
   "outputs": [
    {
     "name": "stdout",
     "output_type": "stream",
     "text": [
      "355 term pairs had no tagged relations but matched text\n",
      "11462 term pairs had no tagged relations and no matched text\n",
      "176 term pairs had more than 10 matched sentences\n"
     ]
    }
   ],
   "source": [
    "print(f\"{len(no_match_in_text)} term pairs had no tagged relations but matched text\")\n",
    "print(f\"{len(no_match_not_in_text)} term pairs had no tagged relations and no matched text\")\n",
    "print(f\"{len(high_matches)} term pairs had more than 10 matched sentences\")"
   ]
  },
  {
   "cell_type": "code",
   "execution_count": 57,
   "metadata": {
    "collapsed": true,
    "jupyter": {
     "outputs_hidden": true
    }
   },
   "outputs": [
    {
     "name": "stdout",
     "output_type": "stream",
     "text": [
      "{'sentences': [], 'e1_representations': ['chemical'], 'e2_representations': ['object'], 'relation': 'subclass-of'}\n",
      "{'sentences': [], 'e1_representations': ['mixture'], 'e2_representations': ['substance'], 'relation': 'has-part'}\n",
      "{'sentences': [], 'e1_representations': ['aggregate'], 'e2_representations': ['object'], 'relation': 'subclass-of'}\n",
      "{'sentences': [], 'e1_representations': ['region'], 'e2_representations': ['object'], 'relation': 'subclass-of'}\n",
      "{'sentences': [], 'e1_representations': ['community'], 'e2_representations': ['aggregate'], 'relation': 'subclass-of'}\n",
      "{'sentences': [], 'e1_representations': ['animate thing'], 'e2_representations': ['object'], 'relation': 'subclass-of'}\n",
      "{'sentences': [], 'e1_representations': ['animate thing'], 'e2_representations': ['organic entity'], 'relation': 'subclass-of'}\n",
      "{'sentences': [], 'e1_representations': ['information'], 'e2_representations': ['conceptual entity'], 'relation': 'subclass-of'}\n",
      "{'sentences': [], 'e1_representations': ['conceptual entity'], 'e2_representations': ['intangible entity'], 'relation': 'subclass-of'}\n",
      "{'sentences': [], 'e1_representations': ['VIIA'], 'e2_representations': ['chemical element'], 'relation': 'subclass-of'}\n",
      "{'sentences': [], 'e1_representations': ['PGAP'], 'e2_representations': ['phosphorylated intermediate'], 'relation': 'subclass-of'}\n",
      "{'sentences': [], 'e1_representations': ['3-prime carbon'], 'e2_representations': ['carbon atom'], 'relation': 'subclass-of'}\n",
      "{'sentences': [], 'e1_representations': ['3 prime end'], 'e2_representations': ['nucleic acid region'], 'relation': 'subclass-of'}\n",
      "{'sentences': [], 'e1_representations': ['3-prime region'], 'e2_representations': ['nucleic acid region'], 'relation': 'subclass-of'}\n",
      "{'sentences': [], 'e1_representations': ['5-prime carbon'], 'e2_representations': ['carbon atom'], 'relation': 'subclass-of'}\n",
      "{'sentences': [], 'e1_representations': ['5 prime end'], 'e2_representations': ['nucleic acid region'], 'relation': 'subclass-of'}\n",
      "{'sentences': [], 'e1_representations': ['5-prime region'], 'e2_representations': ['nucleic acid region'], 'relation': 'subclass-of'}\n",
      "{'sentences': [], 'e1_representations': ['A antigen'], 'e2_representations': ['blood carbohydrate'], 'relation': 'subclass-of'}\n",
      "{'sentences': [], 'e1_representations': ['A band'], 'e2_representations': ['biological region'], 'relation': 'subclass-of'}\n",
      "{'sentences': [], 'e1_representations': ['A-Site'], 'e2_representations': ['ribosome region'], 'relation': 'subclass-of'}\n"
     ]
    }
   ],
   "source": [
    "for term in list(no_match_not_in_text.keys())[:20]:\n",
    "    print(no_match_not_in_text[term])"
   ]
  },
  {
   "cell_type": "code",
   "execution_count": 73,
   "metadata": {},
   "outputs": [
    {
     "name": "stdout",
     "output_type": "stream",
     "text": [
      "role -> thing\n",
      "['By the end of this section, you will be able to do the following:    Describe the role of cells in organisms   Compare and contrast light microscopy and electron microscopy   Summarize cell theory       A cell is the smallest unit of a living thing.']\n",
      "\n",
      "active transport -> transport work\n",
      "['Recall the active transport work of the sodium-potassium pump in cell membranes.']\n",
      "\n",
      "adaptive immunity -> immune response\n",
      "['By the end of this section, you will be able to do the following:    Explain adaptive immunity   Compare and contrast adaptive and innate immunity   Describe cell-mediated immune response and humoral immune response   Describe immune tolerance       The adaptive, or acquired, immune response takes days or even weeks to become established—much longer than the innate response; however, adaptive immunity is more specific to pathogens and has memory.']\n",
      "\n",
      "alga -> Streptophyta\n",
      "['The Major Divisions of Land Plants   The green algae and land plants are grouped together into a subphylum called the Streptophyta, and thus are called Streptophytes.']\n",
      "\n",
      "allergy -> immune response\n",
      "['Allergies   The immune reaction that results from immediate hypersensitivities in which an antibody-mediated immune response occurs within minutes of exposure to a harmless antigen is called an  allergy .']\n",
      "\n",
      "alter -> action\n",
      "['Often during cellular metabolic reactions, such as nutrient synthesis and breakdown, certain molecules must alter slightly in their conformation to become substrates for the next step in the reaction series.', \"This alteration of the protein's (the enzyme's) structure either increases or decreases its affinity for its substrate, with the effect of increasing or decreasing the rate of the reaction.\", 'For example, earthworms move by waves of muscular contractions of the skeletal muscle of the body wall hydrostatic skeleton, called peristalsis, which alternately shorten and lengthen the body.', \"Neurotransmitter release occurs when an action potential travels down the motor neuron's axon, resulting in altered permeability of the synaptic terminal membrane and an influx of calcium.\"]\n",
      "\n",
      "ammonification -> decomposition\n",
      "['Another source of ammonia is  ammonification , the process by which ammonia is released during the decomposition of nitrogen-containing organic compounds.']\n",
      "\n",
      "amphibian -> ectotherm\n",
      "['In general, cold-blooded animals (ectotherms), such as invertebrates, fish, amphibians, and reptiles, use less of the energy they obtain for respiration and heat than warm-blooded animals (endotherms), such as birds and mammals.']\n",
      "\n",
      "anabolism -> metabolism\n",
      "['Consequently, building (anabolism) and degradation (catabolism) comprise metabolism.']\n",
      "\n",
      "antenna -> sensory organ\n",
      "['The head also has one pair of sensory antennae, as well as sensory organs such as a pair of compound eyes, ocelli (simple eyes), and numerous sensory hairs.']\n",
      "\n",
      "arthropo -> ecdysozoan\n",
      "['Molecular research similar to the discoveries that brought about the distinction of the lophotrochozoan clade has also revealed a dramatic rearrangement of the relationships between mollusks, annelids, arthropods, and nematodes, and as a result, a new ecdysozoan clade was formed.', 'However, molecular evidence has revealed that arthropods are actually more closely related to nematodes, now comprising the ecdysozoan clade, and annelids are more closely related to mollusks, brachiopods, and other phyla in the lophotrochozoan clade.']\n",
      "\n",
      "asexual reproduction -> reproduce\n",
      "['An additional advantage of asexual reproduction is that colonization of new habitats may be easier when an individual does not need to find a mate to reproduce.']\n",
      "\n",
      "attract -> interact\n",
      "['Like hydrogen bonds,  van der Waals interactions  are weak attractions or interactions between molecules.']\n",
      "\n",
      "AUG -> start codon\n",
      "[\"The  reading frame  for translation is set by the AUG start codon near the 5' end of the mRNA.\", 'The initiator tRNA then interacts with the  start codon  AUG (or rarely, GUG).', \"Once at the cap, the initiation complex tracks along the mRNA in the 5' to 3' direction, searching for the AUG start codon.\", \"According to  Kozak's rules , the nucleotides around the AUG indicate whether it is the correct start codon.\", 'The ribosome then scans along the mRNA until it finds a start codon AUG.']\n",
      "\n",
      "autocrine -> hormone\n",
      "['Endocrine signals are carried long distances through the bloodstream by hormones, and autocrine signals are received by the same cell that sent the signal or other nearby cells of the same kind.']\n",
      "\n",
      "autopolyploid -> polyploidy\n",
      "['In some cases, a polyploid individual will have two or more complete sets of chromosomes from its own species in a condition that we call  autopolyploidy  ( Figure 18.15 ).']\n",
      "\n",
      "binary fission -> asexual reproduction\n",
      "['Most undergo some form of  asexual reproduction , such as binary fission, to produce two daughter cells.']\n",
      "\n",
      "biotechnology -> engineering\n",
      "['Genetic engineering, artificial selection, antibiotic production, and cell culture are current topics of study in biotechnology and will be described in later chapters.']\n",
      "\n",
      "bird -> endotherm\n",
      "['However, given that modern birds are endothermic, the dinosaurs that were the immediate ancestors to birds likely were endothermic as well.', 'Like mammals (which are also endothermic and homeothermic and covered with an insulating pelage), birds have several different types of feathers that together keep \"heat\" (infrared energy) within the core of the body, away from the surface where it can be lost by radiation and convection to the environment.', 'Although we have a good understanding of how feathers and flight may have evolved, the question of how endothermy evolved in birds (and other lineages) remains unanswered.', 'In general, cold-blooded animals (ectotherms), such as invertebrates, fish, amphibians, and reptiles, use less of the energy they obtain for respiration and heat than warm-blooded animals (endotherms), such as birds and mammals.']\n",
      "\n",
      "blood -> bodily fluid\n",
      "['-->     Humoral Stimuli   The term \"humoral\" is derived from the term \"humor,\" which refers to bodily fluids such as blood.']\n",
      "\n"
     ]
    }
   ],
   "source": [
    "for term in list(no_match_in_text.keys())[:20]:\n",
    "    print(term)\n",
    "    print(no_match_in_text[term][\"textbook_sentences\"])\n",
    "    print()"
   ]
  },
  {
   "cell_type": "code",
   "execution_count": 58,
   "metadata": {},
   "outputs": [
    {
     "name": "stdout",
     "output_type": "stream",
     "text": [
      "['chemical', 'chemicals']\n",
      "['substance', 'substances']\n",
      "\n",
      "['activation energy']\n",
      "['energy']\n",
      "\n",
      "['allele', 'alleles']\n",
      "['gene', 'genes']\n",
      "\n",
      "['atom', 'atoms']\n",
      "['chemical']\n",
      "\n",
      "['bird', 'birds']\n",
      "['vertebrate', 'vertebrates']\n",
      "\n",
      "['blood']\n",
      "['connective tissue', 'connective tissues']\n",
      "\n",
      "['bone', 'bones']\n",
      "['connective tissue', 'connective tissues']\n",
      "\n",
      "['cancer', 'cancers']\n",
      "['disease', 'diseases']\n",
      "\n",
      "['compound', 'compounds']\n",
      "['chemical', 'chemicals']\n",
      "\n",
      "['concentration gradient', 'concentration gradients']\n",
      "['gradient', 'gradients']\n",
      "\n",
      "['connective tissue', 'connective tissues']\n",
      "['tissue', 'tissues']\n",
      "\n",
      "['ectoderm']\n",
      "['germ layer', 'germ layers']\n",
      "\n",
      "['endoskeleton', 'endoskeletons']\n",
      "['skeleton', 'skeletons']\n",
      "\n",
      "['glycoprotein', 'glycoproteins']\n",
      "['protein', 'proteins']\n",
      "\n",
      "['molecule', 'molecules']\n",
      "['chemical', 'chemicals']\n",
      "\n",
      "['monomer', 'monomers']\n",
      "['molecule', 'molecules']\n",
      "\n",
      "['nucleus']\n",
      "['organelle', 'organelles']\n",
      "\n",
      "['outer membrane', 'outer membranes']\n",
      "['membrane', 'membranes']\n",
      "\n",
      "['plant', 'plants']\n",
      "['eukaryote', 'eukaryotes']\n",
      "\n",
      "['potential energy']\n",
      "['energy']\n",
      "\n"
     ]
    }
   ],
   "source": [
    "for term in list(high_matches.keys())[:20]:\n",
    "    print(high_matches[term][\"e1_representations\"])\n",
    "    print(high_matches[term][\"e2_representations\"])\n",
    "    print()"
   ]
  },
  {
   "cell_type": "code",
   "execution_count": null,
   "metadata": {},
   "outputs": [],
   "source": []
  }
 ],
 "metadata": {
  "kernelspec": {
   "display_name": "tokn",
   "language": "python",
   "name": "tokn"
  },
  "language_info": {
   "codemirror_mode": {
    "name": "ipython",
    "version": 3
   },
   "file_extension": ".py",
   "mimetype": "text/x-python",
   "name": "python",
   "nbconvert_exporter": "python",
   "pygments_lexer": "ipython3",
   "version": "3.7.4"
  },
  "toc-autonumbering": false
 },
 "nbformat": 4,
 "nbformat_minor": 4
}
