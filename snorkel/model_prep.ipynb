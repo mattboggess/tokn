{
 "cells": [
  {
   "cell_type": "code",
   "execution_count": 158,
   "metadata": {},
   "outputs": [],
   "source": [
    "import pickle\n",
    "import numpy as np\n",
    "import re\n",
    "import pandas as pd\n",
    "import matplotlib.pyplot as plt\n",
    "import seaborn as sns\n",
    "pd.set_option('display.max_colwidth', -1)\n",
    "np.random.seed(10)\n",
    "\n",
    "with open(f\"data/label/train_labelled.pkl\", 'rb') as fid:\n",
    "    train = pickle.load(fid)\n",
    "with open(f\"data/label/dev_labelled.pkl\", 'rb') as fid:\n",
    "    dev = pickle.load(fid)\n",
    "with open(f\"data/label/test_labelled.pkl\", 'rb') as fid:\n",
    "    test = pickle.load(fid)"
   ]
  },
  {
   "cell_type": "code",
   "execution_count": 153,
   "metadata": {},
   "outputs": [
    {
     "data": {
      "text/plain": [
       "(4982, 25)"
      ]
     },
     "execution_count": 153,
     "metadata": {},
     "output_type": "execute_result"
    }
   ],
   "source": [
    "dev.shape"
   ]
  },
  {
   "cell_type": "markdown",
   "metadata": {},
   "source": [
    "# Data Label Distributions \n",
    "\n",
    "Majority vote distributions across all sentence, term pair instance for the different classes. For all three:\n",
    "\n",
    "- non-labelled data is about 15-20%\n",
    "- hypernyms and hyponyms are relatively equal at about .6-.8%\n",
    "- negatives are about 80%"
   ]
  },
  {
   "cell_type": "code",
   "execution_count": 155,
   "metadata": {},
   "outputs": [
    {
     "data": {
      "text/html": [
       "<div>\n",
       "<style scoped>\n",
       "    .dataframe tbody tr th:only-of-type {\n",
       "        vertical-align: middle;\n",
       "    }\n",
       "\n",
       "    .dataframe tbody tr th {\n",
       "        vertical-align: top;\n",
       "    }\n",
       "\n",
       "    .dataframe thead th {\n",
       "        text-align: right;\n",
       "    }\n",
       "</style>\n",
       "<table border=\"1\" class=\"dataframe\">\n",
       "  <thead>\n",
       "    <tr style=\"text-align: right;\">\n",
       "      <th></th>\n",
       "      <th>majority_vote</th>\n",
       "      <th>count</th>\n",
       "      <th>prop</th>\n",
       "    </tr>\n",
       "  </thead>\n",
       "  <tbody>\n",
       "    <tr>\n",
       "      <th>0</th>\n",
       "      <td>-1</td>\n",
       "      <td>50378</td>\n",
       "      <td>0.189593</td>\n",
       "    </tr>\n",
       "    <tr>\n",
       "      <th>1</th>\n",
       "      <td>0</td>\n",
       "      <td>211475</td>\n",
       "      <td>0.795866</td>\n",
       "    </tr>\n",
       "    <tr>\n",
       "      <th>2</th>\n",
       "      <td>1</td>\n",
       "      <td>1807</td>\n",
       "      <td>0.006800</td>\n",
       "    </tr>\n",
       "    <tr>\n",
       "      <th>3</th>\n",
       "      <td>2</td>\n",
       "      <td>2057</td>\n",
       "      <td>0.007741</td>\n",
       "    </tr>\n",
       "  </tbody>\n",
       "</table>\n",
       "</div>"
      ],
      "text/plain": [
       "   majority_vote   count      prop\n",
       "0 -1              50378   0.189593\n",
       "1  0              211475  0.795866\n",
       "2  1              1807    0.006800\n",
       "3  2              2057    0.007741"
      ]
     },
     "execution_count": 155,
     "metadata": {},
     "output_type": "execute_result"
    }
   ],
   "source": [
    "train \\\n",
    "    .groupby('majority_vote') \\\n",
    "    .majority_vote \\\n",
    "    .agg(count='count') \\\n",
    "    .reset_index() \\\n",
    "    .assign(prop=lambda df: df['count'] / df['count'].sum())"
   ]
  },
  {
   "cell_type": "code",
   "execution_count": 156,
   "metadata": {},
   "outputs": [
    {
     "data": {
      "text/html": [
       "<div>\n",
       "<style scoped>\n",
       "    .dataframe tbody tr th:only-of-type {\n",
       "        vertical-align: middle;\n",
       "    }\n",
       "\n",
       "    .dataframe tbody tr th {\n",
       "        vertical-align: top;\n",
       "    }\n",
       "\n",
       "    .dataframe thead th {\n",
       "        text-align: right;\n",
       "    }\n",
       "</style>\n",
       "<table border=\"1\" class=\"dataframe\">\n",
       "  <thead>\n",
       "    <tr style=\"text-align: right;\">\n",
       "      <th></th>\n",
       "      <th>majority_vote</th>\n",
       "      <th>count</th>\n",
       "      <th>prop</th>\n",
       "    </tr>\n",
       "  </thead>\n",
       "  <tbody>\n",
       "    <tr>\n",
       "      <th>0</th>\n",
       "      <td>-1</td>\n",
       "      <td>814</td>\n",
       "      <td>0.163388</td>\n",
       "    </tr>\n",
       "    <tr>\n",
       "      <th>1</th>\n",
       "      <td>0</td>\n",
       "      <td>4070</td>\n",
       "      <td>0.816941</td>\n",
       "    </tr>\n",
       "    <tr>\n",
       "      <th>2</th>\n",
       "      <td>1</td>\n",
       "      <td>53</td>\n",
       "      <td>0.010638</td>\n",
       "    </tr>\n",
       "    <tr>\n",
       "      <th>3</th>\n",
       "      <td>2</td>\n",
       "      <td>45</td>\n",
       "      <td>0.009033</td>\n",
       "    </tr>\n",
       "  </tbody>\n",
       "</table>\n",
       "</div>"
      ],
      "text/plain": [
       "   majority_vote  count      prop\n",
       "0 -1              814    0.163388\n",
       "1  0              4070   0.816941\n",
       "2  1              53     0.010638\n",
       "3  2              45     0.009033"
      ]
     },
     "execution_count": 156,
     "metadata": {},
     "output_type": "execute_result"
    }
   ],
   "source": [
    "dev \\\n",
    "    .groupby('majority_vote') \\\n",
    "    .majority_vote \\\n",
    "    .agg(count='count') \\\n",
    "    .reset_index() \\\n",
    "    .assign(prop=lambda df: df['count'] / df['count'].sum())"
   ]
  },
  {
   "cell_type": "code",
   "execution_count": 157,
   "metadata": {},
   "outputs": [
    {
     "data": {
      "text/html": [
       "<div>\n",
       "<style scoped>\n",
       "    .dataframe tbody tr th:only-of-type {\n",
       "        vertical-align: middle;\n",
       "    }\n",
       "\n",
       "    .dataframe tbody tr th {\n",
       "        vertical-align: top;\n",
       "    }\n",
       "\n",
       "    .dataframe thead th {\n",
       "        text-align: right;\n",
       "    }\n",
       "</style>\n",
       "<table border=\"1\" class=\"dataframe\">\n",
       "  <thead>\n",
       "    <tr style=\"text-align: right;\">\n",
       "      <th></th>\n",
       "      <th>majority_vote</th>\n",
       "      <th>count</th>\n",
       "      <th>prop</th>\n",
       "    </tr>\n",
       "  </thead>\n",
       "  <tbody>\n",
       "    <tr>\n",
       "      <th>0</th>\n",
       "      <td>-1</td>\n",
       "      <td>553</td>\n",
       "      <td>0.245451</td>\n",
       "    </tr>\n",
       "    <tr>\n",
       "      <th>1</th>\n",
       "      <td>0</td>\n",
       "      <td>1649</td>\n",
       "      <td>0.731913</td>\n",
       "    </tr>\n",
       "    <tr>\n",
       "      <th>2</th>\n",
       "      <td>1</td>\n",
       "      <td>26</td>\n",
       "      <td>0.011540</td>\n",
       "    </tr>\n",
       "    <tr>\n",
       "      <th>3</th>\n",
       "      <td>2</td>\n",
       "      <td>25</td>\n",
       "      <td>0.011096</td>\n",
       "    </tr>\n",
       "  </tbody>\n",
       "</table>\n",
       "</div>"
      ],
      "text/plain": [
       "   majority_vote  count      prop\n",
       "0 -1              553    0.245451\n",
       "1  0              1649   0.731913\n",
       "2  1              26     0.011540\n",
       "3  2              25     0.011096"
      ]
     },
     "execution_count": 157,
     "metadata": {},
     "output_type": "execute_result"
    }
   ],
   "source": [
    "test \\\n",
    "    .groupby('majority_vote') \\\n",
    "    .majority_vote \\\n",
    "    .agg(count='count') \\\n",
    "    .reset_index() \\\n",
    "    .assign(prop=lambda df: df['count'] / df['count'].sum())"
   ]
  },
  {
   "cell_type": "markdown",
   "metadata": {},
   "source": [
    "# Exclude Points without labels \n",
    "\n",
    "We can't use labels where we don't have any coverage by our labeling functions. Here we see that now the distribution of term pairs is overwhelmingly negative with only about 8-10% positive term pairs."
   ]
  },
  {
   "cell_type": "code",
   "execution_count": 130,
   "metadata": {},
   "outputs": [],
   "source": [
    "# filter out data points without any labels\n",
    "train = train[train.majority_vote >= 0]\n",
    "dev = dev[dev.majority_vote >= 0]\n",
    "test = test[test.majority_vote >= 0]"
   ]
  },
  {
   "cell_type": "code",
   "execution_count": 109,
   "metadata": {},
   "outputs": [
    {
     "data": {
      "text/html": [
       "<div>\n",
       "<style scoped>\n",
       "    .dataframe tbody tr th:only-of-type {\n",
       "        vertical-align: middle;\n",
       "    }\n",
       "\n",
       "    .dataframe tbody tr th {\n",
       "        vertical-align: top;\n",
       "    }\n",
       "\n",
       "    .dataframe thead th {\n",
       "        text-align: right;\n",
       "    }\n",
       "</style>\n",
       "<table border=\"1\" class=\"dataframe\">\n",
       "  <thead>\n",
       "    <tr style=\"text-align: right;\">\n",
       "      <th></th>\n",
       "      <th>majority_vote</th>\n",
       "      <th>count</th>\n",
       "      <th>prop</th>\n",
       "    </tr>\n",
       "  </thead>\n",
       "  <tbody>\n",
       "    <tr>\n",
       "      <th>0</th>\n",
       "      <td>0</td>\n",
       "      <td>211475</td>\n",
       "      <td>0.982056</td>\n",
       "    </tr>\n",
       "    <tr>\n",
       "      <th>1</th>\n",
       "      <td>1</td>\n",
       "      <td>1807</td>\n",
       "      <td>0.008391</td>\n",
       "    </tr>\n",
       "    <tr>\n",
       "      <th>2</th>\n",
       "      <td>2</td>\n",
       "      <td>2057</td>\n",
       "      <td>0.009552</td>\n",
       "    </tr>\n",
       "  </tbody>\n",
       "</table>\n",
       "</div>"
      ],
      "text/plain": [
       "   majority_vote   count      prop\n",
       "0  0              211475  0.982056\n",
       "1  1              1807    0.008391\n",
       "2  2              2057    0.009552"
      ]
     },
     "execution_count": 109,
     "metadata": {},
     "output_type": "execute_result"
    }
   ],
   "source": [
    "train \\\n",
    "    .groupby('majority_vote') \\\n",
    "    .majority_vote \\\n",
    "    .agg(count='count') \\\n",
    "    .reset_index() \\\n",
    "    .assign(prop=lambda df: df['count'] / df['count'].sum())"
   ]
  },
  {
   "cell_type": "code",
   "execution_count": 110,
   "metadata": {},
   "outputs": [
    {
     "data": {
      "text/html": [
       "<div>\n",
       "<style scoped>\n",
       "    .dataframe tbody tr th:only-of-type {\n",
       "        vertical-align: middle;\n",
       "    }\n",
       "\n",
       "    .dataframe tbody tr th {\n",
       "        vertical-align: top;\n",
       "    }\n",
       "\n",
       "    .dataframe thead th {\n",
       "        text-align: right;\n",
       "    }\n",
       "</style>\n",
       "<table border=\"1\" class=\"dataframe\">\n",
       "  <thead>\n",
       "    <tr style=\"text-align: right;\">\n",
       "      <th></th>\n",
       "      <th>majority_vote</th>\n",
       "      <th>count</th>\n",
       "      <th>prop</th>\n",
       "    </tr>\n",
       "  </thead>\n",
       "  <tbody>\n",
       "    <tr>\n",
       "      <th>0</th>\n",
       "      <td>0</td>\n",
       "      <td>4070</td>\n",
       "      <td>0.976488</td>\n",
       "    </tr>\n",
       "    <tr>\n",
       "      <th>1</th>\n",
       "      <td>1</td>\n",
       "      <td>53</td>\n",
       "      <td>0.012716</td>\n",
       "    </tr>\n",
       "    <tr>\n",
       "      <th>2</th>\n",
       "      <td>2</td>\n",
       "      <td>45</td>\n",
       "      <td>0.010797</td>\n",
       "    </tr>\n",
       "  </tbody>\n",
       "</table>\n",
       "</div>"
      ],
      "text/plain": [
       "   majority_vote  count      prop\n",
       "0  0              4070   0.976488\n",
       "1  1              53     0.012716\n",
       "2  2              45     0.010797"
      ]
     },
     "execution_count": 110,
     "metadata": {},
     "output_type": "execute_result"
    }
   ],
   "source": [
    "dev \\\n",
    "    .groupby('majority_vote') \\\n",
    "    .majority_vote \\\n",
    "    .agg(count='count') \\\n",
    "    .reset_index() \\\n",
    "    .assign(prop=lambda df: df['count'] / df['count'].sum())"
   ]
  },
  {
   "cell_type": "code",
   "execution_count": 111,
   "metadata": {},
   "outputs": [
    {
     "data": {
      "text/html": [
       "<div>\n",
       "<style scoped>\n",
       "    .dataframe tbody tr th:only-of-type {\n",
       "        vertical-align: middle;\n",
       "    }\n",
       "\n",
       "    .dataframe tbody tr th {\n",
       "        vertical-align: top;\n",
       "    }\n",
       "\n",
       "    .dataframe thead th {\n",
       "        text-align: right;\n",
       "    }\n",
       "</style>\n",
       "<table border=\"1\" class=\"dataframe\">\n",
       "  <thead>\n",
       "    <tr style=\"text-align: right;\">\n",
       "      <th></th>\n",
       "      <th>majority_vote</th>\n",
       "      <th>count</th>\n",
       "      <th>prop</th>\n",
       "    </tr>\n",
       "  </thead>\n",
       "  <tbody>\n",
       "    <tr>\n",
       "      <th>0</th>\n",
       "      <td>0</td>\n",
       "      <td>1649</td>\n",
       "      <td>0.970000</td>\n",
       "    </tr>\n",
       "    <tr>\n",
       "      <th>1</th>\n",
       "      <td>1</td>\n",
       "      <td>26</td>\n",
       "      <td>0.015294</td>\n",
       "    </tr>\n",
       "    <tr>\n",
       "      <th>2</th>\n",
       "      <td>2</td>\n",
       "      <td>25</td>\n",
       "      <td>0.014706</td>\n",
       "    </tr>\n",
       "  </tbody>\n",
       "</table>\n",
       "</div>"
      ],
      "text/plain": [
       "   majority_vote  count      prop\n",
       "0  0              1649   0.970000\n",
       "1  1              26     0.015294\n",
       "2  2              25     0.014706"
      ]
     },
     "execution_count": 111,
     "metadata": {},
     "output_type": "execute_result"
    }
   ],
   "source": [
    "test \\\n",
    "    .groupby('majority_vote') \\\n",
    "    .majority_vote \\\n",
    "    .agg(count='count') \\\n",
    "    .reset_index() \\\n",
    "    .assign(prop=lambda df: df['count'] / df['count'].sum())"
   ]
  },
  {
   "cell_type": "markdown",
   "metadata": {},
   "source": [
    "# Unique Term Pair Distributions\n",
    "\n",
    "The above distributions over count term pairs that show up more frequently. Here we first look at unique term pair label distributions. We see that the number of unique term pairs is about 40% less than overall term pairs and the relative proportions are still quite similar."
   ]
  },
  {
   "cell_type": "code",
   "execution_count": 112,
   "metadata": {},
   "outputs": [
    {
     "data": {
      "text/html": [
       "<div>\n",
       "<style scoped>\n",
       "    .dataframe tbody tr th:only-of-type {\n",
       "        vertical-align: middle;\n",
       "    }\n",
       "\n",
       "    .dataframe tbody tr th {\n",
       "        vertical-align: top;\n",
       "    }\n",
       "\n",
       "    .dataframe thead th {\n",
       "        text-align: right;\n",
       "    }\n",
       "</style>\n",
       "<table border=\"1\" class=\"dataframe\">\n",
       "  <thead>\n",
       "    <tr style=\"text-align: right;\">\n",
       "      <th></th>\n",
       "      <th>majority_vote</th>\n",
       "      <th>nunique</th>\n",
       "      <th>prop</th>\n",
       "    </tr>\n",
       "  </thead>\n",
       "  <tbody>\n",
       "    <tr>\n",
       "      <th>0</th>\n",
       "      <td>0</td>\n",
       "      <td>114142</td>\n",
       "      <td>0.980121</td>\n",
       "    </tr>\n",
       "    <tr>\n",
       "      <th>1</th>\n",
       "      <td>1</td>\n",
       "      <td>1148</td>\n",
       "      <td>0.009858</td>\n",
       "    </tr>\n",
       "    <tr>\n",
       "      <th>2</th>\n",
       "      <td>2</td>\n",
       "      <td>1167</td>\n",
       "      <td>0.010021</td>\n",
       "    </tr>\n",
       "  </tbody>\n",
       "</table>\n",
       "</div>"
      ],
      "text/plain": [
       "   majority_vote  nunique      prop\n",
       "0  0              114142   0.980121\n",
       "1  1              1148     0.009858\n",
       "2  2              1167     0.010021"
      ]
     },
     "execution_count": 112,
     "metadata": {},
     "output_type": "execute_result"
    }
   ],
   "source": [
    "train \\\n",
    "    .groupby('majority_vote') \\\n",
    "    .term_pair \\\n",
    "    .agg(nunique='nunique') \\\n",
    "    .reset_index() \\\n",
    "    .assign(prop=lambda df: df['nunique'] / df['nunique'].sum())"
   ]
  },
  {
   "cell_type": "code",
   "execution_count": 113,
   "metadata": {},
   "outputs": [
    {
     "data": {
      "text/html": [
       "<div>\n",
       "<style scoped>\n",
       "    .dataframe tbody tr th:only-of-type {\n",
       "        vertical-align: middle;\n",
       "    }\n",
       "\n",
       "    .dataframe tbody tr th {\n",
       "        vertical-align: top;\n",
       "    }\n",
       "\n",
       "    .dataframe thead th {\n",
       "        text-align: right;\n",
       "    }\n",
       "</style>\n",
       "<table border=\"1\" class=\"dataframe\">\n",
       "  <thead>\n",
       "    <tr style=\"text-align: right;\">\n",
       "      <th></th>\n",
       "      <th>majority_vote</th>\n",
       "      <th>nunique</th>\n",
       "      <th>prop</th>\n",
       "    </tr>\n",
       "  </thead>\n",
       "  <tbody>\n",
       "    <tr>\n",
       "      <th>0</th>\n",
       "      <td>0</td>\n",
       "      <td>3093</td>\n",
       "      <td>0.974480</td>\n",
       "    </tr>\n",
       "    <tr>\n",
       "      <th>1</th>\n",
       "      <td>1</td>\n",
       "      <td>43</td>\n",
       "      <td>0.013548</td>\n",
       "    </tr>\n",
       "    <tr>\n",
       "      <th>2</th>\n",
       "      <td>2</td>\n",
       "      <td>38</td>\n",
       "      <td>0.011972</td>\n",
       "    </tr>\n",
       "  </tbody>\n",
       "</table>\n",
       "</div>"
      ],
      "text/plain": [
       "   majority_vote  nunique      prop\n",
       "0  0              3093     0.974480\n",
       "1  1              43       0.013548\n",
       "2  2              38       0.011972"
      ]
     },
     "execution_count": 113,
     "metadata": {},
     "output_type": "execute_result"
    }
   ],
   "source": [
    "dev \\\n",
    "    .groupby('majority_vote') \\\n",
    "    .term_pair \\\n",
    "    .agg(nunique='nunique') \\\n",
    "    .reset_index() \\\n",
    "    .assign(prop=lambda df: df['nunique'] / df['nunique'].sum())"
   ]
  },
  {
   "cell_type": "code",
   "execution_count": 114,
   "metadata": {},
   "outputs": [
    {
     "data": {
      "text/html": [
       "<div>\n",
       "<style scoped>\n",
       "    .dataframe tbody tr th:only-of-type {\n",
       "        vertical-align: middle;\n",
       "    }\n",
       "\n",
       "    .dataframe tbody tr th {\n",
       "        vertical-align: top;\n",
       "    }\n",
       "\n",
       "    .dataframe thead th {\n",
       "        text-align: right;\n",
       "    }\n",
       "</style>\n",
       "<table border=\"1\" class=\"dataframe\">\n",
       "  <thead>\n",
       "    <tr style=\"text-align: right;\">\n",
       "      <th></th>\n",
       "      <th>majority_vote</th>\n",
       "      <th>nunique</th>\n",
       "      <th>prop</th>\n",
       "    </tr>\n",
       "  </thead>\n",
       "  <tbody>\n",
       "    <tr>\n",
       "      <th>0</th>\n",
       "      <td>0</td>\n",
       "      <td>1337</td>\n",
       "      <td>0.971657</td>\n",
       "    </tr>\n",
       "    <tr>\n",
       "      <th>1</th>\n",
       "      <td>1</td>\n",
       "      <td>19</td>\n",
       "      <td>0.013808</td>\n",
       "    </tr>\n",
       "    <tr>\n",
       "      <th>2</th>\n",
       "      <td>2</td>\n",
       "      <td>20</td>\n",
       "      <td>0.014535</td>\n",
       "    </tr>\n",
       "  </tbody>\n",
       "</table>\n",
       "</div>"
      ],
      "text/plain": [
       "   majority_vote  nunique      prop\n",
       "0  0              1337     0.971657\n",
       "1  1              19       0.013808\n",
       "2  2              20       0.014535"
      ]
     },
     "execution_count": 114,
     "metadata": {},
     "output_type": "execute_result"
    }
   ],
   "source": [
    "test \\\n",
    "    .groupby('majority_vote') \\\n",
    "    .term_pair \\\n",
    "    .agg(nunique='nunique') \\\n",
    "    .reset_index() \\\n",
    "    .assign(prop=lambda df: df['nunique'] / df['nunique'].sum())"
   ]
  },
  {
   "cell_type": "markdown",
   "metadata": {},
   "source": [
    "We can look at distributions of term pair counts to get a sense of this. Most terms have 1 or two occurrences. There are more outliers for no-relation however. Some of these with more occurrences may be problematic and want to be screened (i.e. group and species)."
   ]
  },
  {
   "cell_type": "code",
   "execution_count": 79,
   "metadata": {},
   "outputs": [
    {
     "data": {
      "text/plain": [
       "<matplotlib.axes._subplots.AxesSubplot at 0x1aae867e50>"
      ]
     },
     "execution_count": 79,
     "metadata": {},
     "output_type": "execute_result"
    },
    {
     "data": {
      "image/png": "[encoded data removed]",
      "text/plain": [
       "<Figure size 432x288 with 1 Axes>"
      ]
     },
     "metadata": {
      "needs_background": "light"
     },
     "output_type": "display_data"
    }
   ],
   "source": [
    "tp_train = \\\n",
    "    train \\\n",
    "    .groupby(['majority_vote', 'term_pair']) \\\n",
    "    .term_pair \\\n",
    "    .agg(count='count') \\\n",
    "    .reset_index()\n",
    "sns.boxplot(data = tp_train, x = 'majority_vote', y = 'count')"
   ]
  },
  {
   "cell_type": "code",
   "execution_count": 80,
   "metadata": {},
   "outputs": [
    {
     "data": {
      "text/html": [
       "<div>\n",
       "<style scoped>\n",
       "    .dataframe tbody tr th:only-of-type {\n",
       "        vertical-align: middle;\n",
       "    }\n",
       "\n",
       "    .dataframe tbody tr th {\n",
       "        vertical-align: top;\n",
       "    }\n",
       "\n",
       "    .dataframe thead th {\n",
       "        text-align: right;\n",
       "    }\n",
       "</style>\n",
       "<table border=\"1\" class=\"dataframe\">\n",
       "  <thead>\n",
       "    <tr style=\"text-align: right;\">\n",
       "      <th></th>\n",
       "      <th>majority_vote</th>\n",
       "      <th>term_pair</th>\n",
       "      <th>count</th>\n",
       "    </tr>\n",
       "  </thead>\n",
       "  <tbody>\n",
       "    <tr>\n",
       "      <th>131314</th>\n",
       "      <td>2</td>\n",
       "      <td>(group, specie)</td>\n",
       "      <td>20</td>\n",
       "    </tr>\n",
       "    <tr>\n",
       "      <th>131594</th>\n",
       "      <td>2</td>\n",
       "      <td>(permeability, membrane)</td>\n",
       "      <td>19</td>\n",
       "    </tr>\n",
       "    <tr>\n",
       "      <th>130663</th>\n",
       "      <td>1</td>\n",
       "      <td>(specie, group)</td>\n",
       "      <td>19</td>\n",
       "    </tr>\n",
       "    <tr>\n",
       "      <th>130645</th>\n",
       "      <td>1</td>\n",
       "      <td>(signal transduction, signal)</td>\n",
       "      <td>17</td>\n",
       "    </tr>\n",
       "    <tr>\n",
       "      <th>131263</th>\n",
       "      <td>2</td>\n",
       "      <td>(gene, allele)</td>\n",
       "      <td>16</td>\n",
       "    </tr>\n",
       "    <tr>\n",
       "      <th>130883</th>\n",
       "      <td>2</td>\n",
       "      <td>(artery, arteriole)</td>\n",
       "      <td>16</td>\n",
       "    </tr>\n",
       "    <tr>\n",
       "      <th>131784</th>\n",
       "      <td>2</td>\n",
       "      <td>(signal, response)</td>\n",
       "      <td>16</td>\n",
       "    </tr>\n",
       "    <tr>\n",
       "      <th>131160</th>\n",
       "      <td>2</td>\n",
       "      <td>(energy, entropy)</td>\n",
       "      <td>14</td>\n",
       "    </tr>\n",
       "    <tr>\n",
       "      <th>131737</th>\n",
       "      <td>2</td>\n",
       "      <td>(rna, mRNA)</td>\n",
       "      <td>13</td>\n",
       "    </tr>\n",
       "    <tr>\n",
       "      <th>131782</th>\n",
       "      <td>2</td>\n",
       "      <td>(signal, release)</td>\n",
       "      <td>13</td>\n",
       "    </tr>\n",
       "  </tbody>\n",
       "</table>\n",
       "</div>"
      ],
      "text/plain": [
       "        majority_vote                      term_pair  count\n",
       "131314  2              (group, specie)                20   \n",
       "131594  2              (permeability, membrane)       19   \n",
       "130663  1              (specie, group)                19   \n",
       "130645  1              (signal transduction, signal)  17   \n",
       "131263  2              (gene, allele)                 16   \n",
       "130883  2              (artery, arteriole)            16   \n",
       "131784  2              (signal, response)             16   \n",
       "131160  2              (energy, entropy)              14   \n",
       "131737  2              (rna, mRNA)                    13   \n",
       "131782  2              (signal, release)              13   "
      ]
     },
     "execution_count": 80,
     "metadata": {},
     "output_type": "execute_result"
    }
   ],
   "source": [
    "tp_train[tp_train.majority_vote > 0].sort_values('count', ascending=False).head(10)"
   ]
  },
  {
   "cell_type": "code",
   "execution_count": 103,
   "metadata": {},
   "outputs": [
    {
     "data": {
      "text/plain": [
       "'α-helix'"
      ]
     },
     "execution_count": 103,
     "metadata": {},
     "output_type": "execute_result"
    }
   ],
   "source": [
    "import re\n",
    "re.sub('<.+?>', '', '<em data-effect=\"italics\">α</em>-helix')"
   ]
  },
  {
   "cell_type": "markdown",
   "metadata": {},
   "source": [
    "# Sentence Distributions\n",
    "\n",
    "The other piece of our input data is sentences. Our data has many term pairs for each sentence so first we can look at how many sentences are in each split."
   ]
  },
  {
   "cell_type": "code",
   "execution_count": 81,
   "metadata": {},
   "outputs": [
    {
     "data": {
      "text/plain": [
       "30711"
      ]
     },
     "execution_count": 81,
     "metadata": {},
     "output_type": "execute_result"
    }
   ],
   "source": [
    "len(train.groupby('text'))"
   ]
  },
  {
   "cell_type": "code",
   "execution_count": 82,
   "metadata": {},
   "outputs": [
    {
     "data": {
      "text/plain": [
       "2193"
      ]
     },
     "execution_count": 82,
     "metadata": {},
     "output_type": "execute_result"
    }
   ],
   "source": [
    "len(dev.groupby('text'))"
   ]
  },
  {
   "cell_type": "code",
   "execution_count": 83,
   "metadata": {},
   "outputs": [
    {
     "data": {
      "text/plain": [
       "835"
      ]
     },
     "execution_count": 83,
     "metadata": {},
     "output_type": "execute_result"
    }
   ],
   "source": [
    "len(test.groupby('text'))"
   ]
  },
  {
   "cell_type": "markdown",
   "metadata": {},
   "source": [
    "Next we can see how many of these sentences have a positive label in them. At the sentence level closer to 10% of sentences have a taxonomic relation in them."
   ]
  },
  {
   "cell_type": "code",
   "execution_count": 84,
   "metadata": {},
   "outputs": [
    {
     "data": {
      "text/html": [
       "<div>\n",
       "<style scoped>\n",
       "    .dataframe tbody tr th:only-of-type {\n",
       "        vertical-align: middle;\n",
       "    }\n",
       "\n",
       "    .dataframe tbody tr th {\n",
       "        vertical-align: top;\n",
       "    }\n",
       "\n",
       "    .dataframe thead th {\n",
       "        text-align: right;\n",
       "    }\n",
       "</style>\n",
       "<table border=\"1\" class=\"dataframe\">\n",
       "  <thead>\n",
       "    <tr style=\"text-align: right;\">\n",
       "      <th></th>\n",
       "      <th>hyponym</th>\n",
       "      <th>hypernym</th>\n",
       "      <th>count</th>\n",
       "      <th>prop</th>\n",
       "    </tr>\n",
       "  </thead>\n",
       "  <tbody>\n",
       "    <tr>\n",
       "      <th>0</th>\n",
       "      <td>False</td>\n",
       "      <td>False</td>\n",
       "      <td>27669</td>\n",
       "      <td>0.900948</td>\n",
       "    </tr>\n",
       "    <tr>\n",
       "      <th>1</th>\n",
       "      <td>False</td>\n",
       "      <td>True</td>\n",
       "      <td>1468</td>\n",
       "      <td>0.047800</td>\n",
       "    </tr>\n",
       "    <tr>\n",
       "      <th>2</th>\n",
       "      <td>True</td>\n",
       "      <td>False</td>\n",
       "      <td>1397</td>\n",
       "      <td>0.045489</td>\n",
       "    </tr>\n",
       "    <tr>\n",
       "      <th>3</th>\n",
       "      <td>True</td>\n",
       "      <td>True</td>\n",
       "      <td>177</td>\n",
       "      <td>0.005763</td>\n",
       "    </tr>\n",
       "  </tbody>\n",
       "</table>\n",
       "</div>"
      ],
      "text/plain": [
       "   hyponym  hypernym  count      prop\n",
       "0  False    False     27669  0.900948\n",
       "1  False    True      1468   0.047800\n",
       "2  True     False     1397   0.045489\n",
       "3  True     True      177    0.005763"
      ]
     },
     "execution_count": 84,
     "metadata": {},
     "output_type": "execute_result"
    }
   ],
   "source": [
    "train \\\n",
    "    .groupby('text') \\\n",
    "    .majority_vote \\\n",
    "    .agg(hyponym=lambda x: any(x == 1), hypernym=lambda x: any(x == 2)) \\\n",
    "    .reset_index() \\\n",
    "    .groupby(['hyponym', 'hypernym']) \\\n",
    "    .text \\\n",
    "    .agg(count='count') \\\n",
    "    .reset_index() \\\n",
    "    .assign(prop=lambda df: df['count'] / df['count'].sum())"
   ]
  },
  {
   "cell_type": "code",
   "execution_count": 85,
   "metadata": {},
   "outputs": [
    {
     "data": {
      "text/html": [
       "<div>\n",
       "<style scoped>\n",
       "    .dataframe tbody tr th:only-of-type {\n",
       "        vertical-align: middle;\n",
       "    }\n",
       "\n",
       "    .dataframe tbody tr th {\n",
       "        vertical-align: top;\n",
       "    }\n",
       "\n",
       "    .dataframe thead th {\n",
       "        text-align: right;\n",
       "    }\n",
       "</style>\n",
       "<table border=\"1\" class=\"dataframe\">\n",
       "  <thead>\n",
       "    <tr style=\"text-align: right;\">\n",
       "      <th></th>\n",
       "      <th>hyponym</th>\n",
       "      <th>hypernym</th>\n",
       "      <th>count</th>\n",
       "      <th>prop</th>\n",
       "    </tr>\n",
       "  </thead>\n",
       "  <tbody>\n",
       "    <tr>\n",
       "      <th>0</th>\n",
       "      <td>False</td>\n",
       "      <td>False</td>\n",
       "      <td>1923</td>\n",
       "      <td>0.876881</td>\n",
       "    </tr>\n",
       "    <tr>\n",
       "      <th>1</th>\n",
       "      <td>False</td>\n",
       "      <td>True</td>\n",
       "      <td>111</td>\n",
       "      <td>0.050616</td>\n",
       "    </tr>\n",
       "    <tr>\n",
       "      <th>2</th>\n",
       "      <td>True</td>\n",
       "      <td>False</td>\n",
       "      <td>140</td>\n",
       "      <td>0.063839</td>\n",
       "    </tr>\n",
       "    <tr>\n",
       "      <th>3</th>\n",
       "      <td>True</td>\n",
       "      <td>True</td>\n",
       "      <td>19</td>\n",
       "      <td>0.008664</td>\n",
       "    </tr>\n",
       "  </tbody>\n",
       "</table>\n",
       "</div>"
      ],
      "text/plain": [
       "   hyponym  hypernym  count      prop\n",
       "0  False    False     1923   0.876881\n",
       "1  False    True      111    0.050616\n",
       "2  True     False     140    0.063839\n",
       "3  True     True      19     0.008664"
      ]
     },
     "execution_count": 85,
     "metadata": {},
     "output_type": "execute_result"
    }
   ],
   "source": [
    "dev \\\n",
    "    .groupby('text') \\\n",
    "    .majority_vote \\\n",
    "    .agg(hyponym=lambda x: any(x == 1), hypernym=lambda x: any(x == 2)) \\\n",
    "    .reset_index() \\\n",
    "    .groupby(['hyponym', 'hypernym']) \\\n",
    "    .text \\\n",
    "    .agg(count='count') \\\n",
    "    .reset_index() \\\n",
    "    .assign(prop=lambda df: df['count'] / df['count'].sum())"
   ]
  },
  {
   "cell_type": "code",
   "execution_count": 86,
   "metadata": {},
   "outputs": [
    {
     "data": {
      "text/html": [
       "<div>\n",
       "<style scoped>\n",
       "    .dataframe tbody tr th:only-of-type {\n",
       "        vertical-align: middle;\n",
       "    }\n",
       "\n",
       "    .dataframe tbody tr th {\n",
       "        vertical-align: top;\n",
       "    }\n",
       "\n",
       "    .dataframe thead th {\n",
       "        text-align: right;\n",
       "    }\n",
       "</style>\n",
       "<table border=\"1\" class=\"dataframe\">\n",
       "  <thead>\n",
       "    <tr style=\"text-align: right;\">\n",
       "      <th></th>\n",
       "      <th>hyponym</th>\n",
       "      <th>hypernym</th>\n",
       "      <th>count</th>\n",
       "      <th>prop</th>\n",
       "    </tr>\n",
       "  </thead>\n",
       "  <tbody>\n",
       "    <tr>\n",
       "      <th>0</th>\n",
       "      <td>False</td>\n",
       "      <td>False</td>\n",
       "      <td>769</td>\n",
       "      <td>0.920958</td>\n",
       "    </tr>\n",
       "    <tr>\n",
       "      <th>1</th>\n",
       "      <td>False</td>\n",
       "      <td>True</td>\n",
       "      <td>29</td>\n",
       "      <td>0.034731</td>\n",
       "    </tr>\n",
       "    <tr>\n",
       "      <th>2</th>\n",
       "      <td>True</td>\n",
       "      <td>False</td>\n",
       "      <td>34</td>\n",
       "      <td>0.040719</td>\n",
       "    </tr>\n",
       "    <tr>\n",
       "      <th>3</th>\n",
       "      <td>True</td>\n",
       "      <td>True</td>\n",
       "      <td>3</td>\n",
       "      <td>0.003593</td>\n",
       "    </tr>\n",
       "  </tbody>\n",
       "</table>\n",
       "</div>"
      ],
      "text/plain": [
       "   hyponym  hypernym  count      prop\n",
       "0  False    False     769    0.920958\n",
       "1  False    True      29     0.034731\n",
       "2  True     False     34     0.040719\n",
       "3  True     True      3      0.003593"
      ]
     },
     "execution_count": 86,
     "metadata": {},
     "output_type": "execute_result"
    }
   ],
   "source": [
    "test \\\n",
    "    .groupby('text') \\\n",
    "    .majority_vote \\\n",
    "    .agg(hyponym=lambda x: any(x == 1), hypernym=lambda x: any(x == 2)) \\\n",
    "    .reset_index() \\\n",
    "    .groupby(['hyponym', 'hypernym']) \\\n",
    "    .text \\\n",
    "    .agg(count='count') \\\n",
    "    .reset_index() \\\n",
    "    .assign(prop=lambda df: df['count'] / df['count'].sum())"
   ]
  },
  {
   "cell_type": "markdown",
   "metadata": {},
   "source": [
    "Finally we can look at the distribution of total term pair counts within individual sentences."
   ]
  },
  {
   "cell_type": "code",
   "execution_count": 115,
   "metadata": {},
   "outputs": [
    {
     "data": {
      "text/plain": [
       "<matplotlib.axes._subplots.AxesSubplot at 0x1ab2066510>"
      ]
     },
     "execution_count": 115,
     "metadata": {},
     "output_type": "execute_result"
    },
    {
     "data": {
      "image/png": "[encoded data removed]",
      "text/plain": [
       "<Figure size 432x288 with 1 Axes>"
      ]
     },
     "metadata": {
      "needs_background": "light"
     },
     "output_type": "display_data"
    }
   ],
   "source": [
    "tmp = \\\n",
    "    train \\\n",
    "    .groupby('text') \\\n",
    "    .term_pair \\\n",
    "    .agg(count='count') \\\n",
    "    .reset_index() \\\n",
    "    .sort_values('count', ascending=False)\n",
    "sns.distplot(tmp['count'], norm_hist=False, kde=False)"
   ]
  },
  {
   "cell_type": "code",
   "execution_count": 116,
   "metadata": {},
   "outputs": [
    {
     "data": {
      "text/html": [
       "<div>\n",
       "<style scoped>\n",
       "    .dataframe tbody tr th:only-of-type {\n",
       "        vertical-align: middle;\n",
       "    }\n",
       "\n",
       "    .dataframe tbody tr th {\n",
       "        vertical-align: top;\n",
       "    }\n",
       "\n",
       "    .dataframe thead th {\n",
       "        text-align: right;\n",
       "    }\n",
       "</style>\n",
       "<table border=\"1\" class=\"dataframe\">\n",
       "  <thead>\n",
       "    <tr style=\"text-align: right;\">\n",
       "      <th></th>\n",
       "      <th>text</th>\n",
       "      <th>count</th>\n",
       "    </tr>\n",
       "  </thead>\n",
       "  <tbody>\n",
       "    <tr>\n",
       "      <th>28365</th>\n",
       "      <td>This phylum is further classified into five subphyla: Trilobita (trilobites, all extinct), Chelicerata (horseshoe crabs, spiders, scorpions, ticks, mites, and daddy longlegs or harvestmen), Myriapoda (millipedes, centipedes, and their relatives), Crustacea (crabs, lobsters, crayfish, isopods, barnacles, and some zooplankton), and Hexapoda (insects and their six-legged relatives).</td>\n",
       "      <td>88</td>\n",
       "    </tr>\n",
       "    <tr>\n",
       "      <th>15932</th>\n",
       "      <td>Most researchers agree that adult humans must obtain eight essential amino acids from their food: isoleucine, leucine, lysine, methionine, phenylalanine, threonine, tryptophan, and valine.</td>\n",
       "      <td>88</td>\n",
       "    </tr>\n",
       "    <tr>\n",
       "      <th>5305</th>\n",
       "      <td>Cells use the energy released by ATP hydrolysis to fuel endergonic reactions (such as the biosynthesis of complex molecules), for active transport, for movement, and even for the production of light (bioluminescence).</td>\n",
       "      <td>86</td>\n",
       "    </tr>\n",
       "    <tr>\n",
       "      <th>13606</th>\n",
       "      <td>Inhibition: Glycogen synthase, which catalyzes the joining of glucose molecules to synthesize the energy-storing molecule glycogen, is inactivated when a phosphate group is added to it by protein kinase A. Thus the epinephrine signal prevents glucose from being stored in the form of glycogen (Figure 7.15, step 1).</td>\n",
       "      <td>81</td>\n",
       "    </tr>\n",
       "    <tr>\n",
       "      <th>22483</th>\n",
       "      <td>The ectoderm contributes to the nervous system, including the eyes and ears; and to the epidermal layer of the skin and structures derived from skin, such as hair, feathers, nails or claws, sweat glands, oil glands, and even teeth and other tissues of the mouth.</td>\n",
       "      <td>79</td>\n",
       "    </tr>\n",
       "    <tr>\n",
       "      <th>2599</th>\n",
       "      <td>Animals can be characterized by how they acquire nutrients: saprobes and detritivores, or decomposers, depend on dead organic matter, filter feeders strain the aquatic environment for small food items, herbivores eat plants, and carnivores eat other animals.</td>\n",
       "      <td>79</td>\n",
       "    </tr>\n",
       "    <tr>\n",
       "      <th>23453</th>\n",
       "      <td>The initial discovery of irisin and its functions revealed that it induces brown fat&amp;#8211;like changes in white fat, including expression of the gene that codes for uncoupling protein (UCP1), which enables brown fat cells to metabolize lipids without producing ATP.</td>\n",
       "      <td>78</td>\n",
       "    </tr>\n",
       "    <tr>\n",
       "      <th>5648</th>\n",
       "      <td>Closest to the lens (and thus to light input) is a layer of ganglion cells; a central layer contains three neuronal types, bipolar cells, horizontal cells, and amacrine cells; and at the &amp;#x201C;rear&amp;#x201D; of the retina lie the photoreceptors (rods and cones).</td>\n",
       "      <td>78</td>\n",
       "    </tr>\n",
       "    <tr>\n",
       "      <th>7758</th>\n",
       "      <td>Excretory systems control water and salt balance and the excretion of nitrogenous waste products through three mechanisms: filtration of body fluids to form urine, active secretion of substances into the urine, and active reabsorption of substances from the urine.</td>\n",
       "      <td>77</td>\n",
       "    </tr>\n",
       "    <tr>\n",
       "      <th>6785</th>\n",
       "      <td>During the day, when the stomata close to reduce water loss, the accumulated malate is shipped from the vacuole to the chloroplasts, where its decarboxylation supplies the CO2 for the Calvin cycle and the light reactions supply the necessary ATP and NADPH.</td>\n",
       "      <td>77</td>\n",
       "    </tr>\n",
       "    <tr>\n",
       "      <th>23231</th>\n",
       "      <td>The hair cells do not fire action potentials, but the changes in their membrane potential alter the rate at which the hair cells release neurotransmitter onto the sensory neurons whose axons make up the auditory nerve and transmit action potentials to the brain.</td>\n",
       "      <td>77</td>\n",
       "    </tr>\n",
       "    <tr>\n",
       "      <th>19232</th>\n",
       "      <td>Sensory receptor cells have receptor proteins that respond to specific stimuli from the external or internal environment by directly or indirectly opening or closing ion channels, causing the generation of action potentials or neurotransmitter release in sensory neurons.</td>\n",
       "      <td>77</td>\n",
       "    </tr>\n",
       "    <tr>\n",
       "      <th>22870</th>\n",
       "      <td>The first chemical reaction of alcohol fermentation is the following (CO 2  does not participate in the second reaction):                pyruvic acid      +            H                +                 -&gt;            CO                2                 +      acetaldehyde      +      NADH      +            H                +                 -&gt;      ethanol      +            NAD                +                          pyruvic acid      +            H                +                 -&gt;            CO                2                 +      acetaldehyde      +      NADH      +            H                +                 -&gt;      ethanol      +            NAD                +                      The first reaction is catalyzed by pyruvate decarboxylase, a cytoplasmic enzyme, with a coenzyme of thiamine pyrophosphate (TPP, derived from vitamin B 1  and also called thiamine).</td>\n",
       "      <td>76</td>\n",
       "    </tr>\n",
       "    <tr>\n",
       "      <th>25460</th>\n",
       "      <td>The six most common elements associated with organic molecules—carbon, nitrogen, hydrogen, oxygen, phosphorus, and sulfur—take a variety of chemical forms and may exist for long periods in the atmosphere, on land, in water, or beneath the Earth's surface.</td>\n",
       "      <td>75</td>\n",
       "    </tr>\n",
       "    <tr>\n",
       "      <th>12754</th>\n",
       "      <td>In reptiles the yolk sac surrounds the yolk and provides nutrients to the embryo, the chorion lines the eggshell and participates in gas exchange, the amnion surrounds the embryo and encloses it in an aqueous environment, and the allantois stores metabolic wastes.</td>\n",
       "      <td>74</td>\n",
       "    </tr>\n",
       "    <tr>\n",
       "      <th>7513</th>\n",
       "      <td>Even if water is abundant, the sucrose molecule will only very rarely bind the H atom and the    OH group of water at the appropriate locations to break the covalent bond between glucose and fructose unless there is an input of energy to initiate the reaction.</td>\n",
       "      <td>73</td>\n",
       "    </tr>\n",
       "    <tr>\n",
       "      <th>4066</th>\n",
       "      <td>Because signal transduction cascades that determine sequences of developmental processes are in their early stages, the first trimester is the period when the embryo is most sensitive to damage from radiation, drugs, chemicals, and pathogens that can cause birth defects.</td>\n",
       "      <td>73</td>\n",
       "    </tr>\n",
       "    <tr>\n",
       "      <th>7781</th>\n",
       "      <td>Experiments in which newborn and adult rats were neutered (to remove the influence of sex steroids naturally produced by their gonads) and artificially treated with hormones led to the following conclusions:</td>\n",
       "      <td>72</td>\n",
       "    </tr>\n",
       "    <tr>\n",
       "      <th>3273</th>\n",
       "      <td>As the circulation carries chylomicrons through muscle, adipose tissue, and liver, lipoprotein lipases attached to the endothelial cells of capillaries break down the chylomicrons&amp;#0039; triglycerides so that the component fatty acids, monoglycerides, and glycerol can be taken up by the cells.</td>\n",
       "      <td>72</td>\n",
       "    </tr>\n",
       "    <tr>\n",
       "      <th>16167</th>\n",
       "      <td>Need for Osmoregulation   Biological systems constantly interact and exchange water and nutrients with the environment by way of consumption of food and water and through excretion in the form of sweat, urine, and feces.</td>\n",
       "      <td>70</td>\n",
       "    </tr>\n",
       "    <tr>\n",
       "      <th>6022</th>\n",
       "      <td>Create a graph or table to predict the results of an experiment in which researchers follow the fates of two proteins after they are made on ribosomes in the rough ER: a secretory protein destined to be secreted by the cell and a peroxidase destined for the peroxisome.</td>\n",
       "      <td>69</td>\n",
       "    </tr>\n",
       "    <tr>\n",
       "      <th>30969</th>\n",
       "      <td>When the calcium pumps in the sarcoplasmic reticulum membranes remove the Ca2+ ions from the sarcoplasm, the conformation of the tropomyosin reverts and again blocks the binding of myosin heads to actin, and the muscle fiber returns to its resting condition.</td>\n",
       "      <td>69</td>\n",
       "    </tr>\n",
       "    <tr>\n",
       "      <th>17292</th>\n",
       "      <td>Our description of the release of neurotransmitter from the presynaptic membrane may seem simple, but it involves hundreds of proteins that are responsible for various aspects of the process: vesicle formation, transport of neurotransmitter into vesicles, anchoring of vesicles to cytoskeletal elements, docking of the vesicles with the presynaptic membrane, fusion of the vesicular and cell membranes, and endocytosis of the vesicle membrane for recycling.</td>\n",
       "      <td>67</td>\n",
       "    </tr>\n",
       "    <tr>\n",
       "      <th>11511</th>\n",
       "      <td>Important micronutrients include iron, manganese, boron, molybdenum, copper, zinc, chlorine, nickel, cobalt, silicon, and sodium.</td>\n",
       "      <td>66</td>\n",
       "    </tr>\n",
       "    <tr>\n",
       "      <th>9950</th>\n",
       "      <td>Green plants are autotrophs and can synthesize all the molecules they need from simple starting materials: CO2, H2O, phosphate, sulfate, ammonium ions (NH4+), and small quantities of other mineral nutrients.</td>\n",
       "      <td>66</td>\n",
       "    </tr>\n",
       "    <tr>\n",
       "      <th>24749</th>\n",
       "      <td>The posterior regions receive somatosensory information (e. g. , touch, pain, temperature); the middle region combines that with autonomic regulatory information and drives (e. g. , hunger, thirst, sex); and the anterior region, which is well developed in higher primates, elephants, and marine mammals, receives information about social interactions.</td>\n",
       "      <td>66</td>\n",
       "    </tr>\n",
       "    <tr>\n",
       "      <th>13038</th>\n",
       "      <td>In the case of the Down syndrome model mice, drugs such as pentylenetetrazole, which blocked the GABA receptors (which function also as Cl    channels), reduced the level of inhibition in the mouse nervous system and increased the ability of the mice to learn and form memories.</td>\n",
       "      <td>66</td>\n",
       "    </tr>\n",
       "    <tr>\n",
       "      <th>25307</th>\n",
       "      <td>The scientists isolated the gene for one of these ion channels, rhodopsin (ChR2), and developed methods to modify the gene so that when it was introduced by viral infection into a specific brain area, it would be expressed only in the neurons of interest.</td>\n",
       "      <td>65</td>\n",
       "    </tr>\n",
       "    <tr>\n",
       "      <th>6970</th>\n",
       "      <td>Each photosystem is serviced by the  light-harvesting complex , which passes energy from sunlight to the reaction center; it consists of multiple antenna proteins that contain a mixture of 300 to 400 chlorophyll  a  and  b  molecules as well as other pigments like carotenoids.</td>\n",
       "      <td>65</td>\n",
       "    </tr>\n",
       "    <tr>\n",
       "      <th>30724</th>\n",
       "      <td>When an action potential arrives at a neuromuscular junction, the neurotransmitter acetylcholine is released from the motor neuron terminals, diffuses across the synaptic cleft, binds to receptors in the postsynaptic membrane, and causes ion channels in the motor end plate to open (see Figure 44.11).</td>\n",
       "      <td>65</td>\n",
       "    </tr>\n",
       "  </tbody>\n",
       "</table>\n",
       "</div>"
      ],
      "text/plain": [
       "                                                                                                                                                                                                                                                                                                                                                                                                                                                                                                                                                                                                                                                                                                                                                                                                                                                                                                                         text  \\\n",
       "28365  This phylum is further classified into five subphyla: Trilobita (trilobites, all extinct), Chelicerata (horseshoe crabs, spiders, scorpions, ticks, mites, and daddy longlegs or harvestmen), Myriapoda (millipedes, centipedes, and their relatives), Crustacea (crabs, lobsters, crayfish, isopods, barnacles, and some zooplankton), and Hexapoda (insects and their six-legged relatives).                                                                                                                                                                                                                                                                                                                                                                                                                                                                                                                           \n",
       "15932  Most researchers agree that adult humans must obtain eight essential amino acids from their food: isoleucine, leucine, lysine, methionine, phenylalanine, threonine, tryptophan, and valine.                                                                                                                                                                                                                                                                                                                                                                                                                                                                                                                                                                                                                                                                                                                             \n",
       "5305   Cells use the energy released by ATP hydrolysis to fuel endergonic reactions (such as the biosynthesis of complex molecules), for active transport, for movement, and even for the production of light (bioluminescence).                                                                                                                                                                                                                                                                                                                                                                                                                                                                                                                                                                                                                                                                                                \n",
       "13606  Inhibition: Glycogen synthase, which catalyzes the joining of glucose molecules to synthesize the energy-storing molecule glycogen, is inactivated when a phosphate group is added to it by protein kinase A. Thus the epinephrine signal prevents glucose from being stored in the form of glycogen (Figure 7.15, step 1).                                                                                                                                                                                                                                                                                                                                                                                                                                                                                                                                                                                              \n",
       "22483  The ectoderm contributes to the nervous system, including the eyes and ears; and to the epidermal layer of the skin and structures derived from skin, such as hair, feathers, nails or claws, sweat glands, oil glands, and even teeth and other tissues of the mouth.                                                                                                                                                                                                                                                                                                                                                                                                                                                                                                                                                                                                                                                   \n",
       "2599   Animals can be characterized by how they acquire nutrients: saprobes and detritivores, or decomposers, depend on dead organic matter, filter feeders strain the aquatic environment for small food items, herbivores eat plants, and carnivores eat other animals.                                                                                                                                                                                                                                                                                                                                                                                                                                                                                                                                                                                                                                                       \n",
       "23453  The initial discovery of irisin and its functions revealed that it induces brown fat&#8211;like changes in white fat, including expression of the gene that codes for uncoupling protein (UCP1), which enables brown fat cells to metabolize lipids without producing ATP.                                                                                                                                                                                                                                                                                                                                                                                                                                                                                                                                                                                                                                               \n",
       "5648   Closest to the lens (and thus to light input) is a layer of ganglion cells; a central layer contains three neuronal types, bipolar cells, horizontal cells, and amacrine cells; and at the &#x201C;rear&#x201D; of the retina lie the photoreceptors (rods and cones).                                                                                                                                                                                                                                                                                                                                                                                                                                                                                                                                                                                                                                                   \n",
       "7758   Excretory systems control water and salt balance and the excretion of nitrogenous waste products through three mechanisms: filtration of body fluids to form urine, active secretion of substances into the urine, and active reabsorption of substances from the urine.                                                                                                                                                                                                                                                                                                                                                                                                                                                                                                                                                                                                                                                 \n",
       "6785   During the day, when the stomata close to reduce water loss, the accumulated malate is shipped from the vacuole to the chloroplasts, where its decarboxylation supplies the CO2 for the Calvin cycle and the light reactions supply the necessary ATP and NADPH.                                                                                                                                                                                                                                                                                                                                                                                                                                                                                                                                                                                                                                                         \n",
       "23231  The hair cells do not fire action potentials, but the changes in their membrane potential alter the rate at which the hair cells release neurotransmitter onto the sensory neurons whose axons make up the auditory nerve and transmit action potentials to the brain.                                                                                                                                                                                                                                                                                                                                                                                                                                                                                                                                                                                                                                                   \n",
       "19232  Sensory receptor cells have receptor proteins that respond to specific stimuli from the external or internal environment by directly or indirectly opening or closing ion channels, causing the generation of action potentials or neurotransmitter release in sensory neurons.                                                                                                                                                                                                                                                                                                                                                                                                                                                                                                                                                                                                                                          \n",
       "22870  The first chemical reaction of alcohol fermentation is the following (CO 2  does not participate in the second reaction):                pyruvic acid      +            H                +                 ->            CO                2                 +      acetaldehyde      +      NADH      +            H                +                 ->      ethanol      +            NAD                +                          pyruvic acid      +            H                +                 ->            CO                2                 +      acetaldehyde      +      NADH      +            H                +                 ->      ethanol      +            NAD                +                      The first reaction is catalyzed by pyruvate decarboxylase, a cytoplasmic enzyme, with a coenzyme of thiamine pyrophosphate (TPP, derived from vitamin B 1  and also called thiamine).   \n",
       "25460  The six most common elements associated with organic molecules—carbon, nitrogen, hydrogen, oxygen, phosphorus, and sulfur—take a variety of chemical forms and may exist for long periods in the atmosphere, on land, in water, or beneath the Earth's surface.                                                                                                                                                                                                                                                                                                                                                                                                                                                                                                                                                                                                                                                          \n",
       "12754  In reptiles the yolk sac surrounds the yolk and provides nutrients to the embryo, the chorion lines the eggshell and participates in gas exchange, the amnion surrounds the embryo and encloses it in an aqueous environment, and the allantois stores metabolic wastes.                                                                                                                                                                                                                                                                                                                                                                                                                                                                                                                                                                                                                                                 \n",
       "7513   Even if water is abundant, the sucrose molecule will only very rarely bind the H atom and the    OH group of water at the appropriate locations to break the covalent bond between glucose and fructose unless there is an input of energy to initiate the reaction.                                                                                                                                                                                                                                                                                                                                                                                                                                                                                                                                                                                                                                                     \n",
       "4066   Because signal transduction cascades that determine sequences of developmental processes are in their early stages, the first trimester is the period when the embryo is most sensitive to damage from radiation, drugs, chemicals, and pathogens that can cause birth defects.                                                                                                                                                                                                                                                                                                                                                                                                                                                                                                                                                                                                                                          \n",
       "7781   Experiments in which newborn and adult rats were neutered (to remove the influence of sex steroids naturally produced by their gonads) and artificially treated with hormones led to the following conclusions:                                                                                                                                                                                                                                                                                                                                                                                                                                                                                                                                                                                                                                                                                                          \n",
       "3273   As the circulation carries chylomicrons through muscle, adipose tissue, and liver, lipoprotein lipases attached to the endothelial cells of capillaries break down the chylomicrons&#0039; triglycerides so that the component fatty acids, monoglycerides, and glycerol can be taken up by the cells.                                                                                                                                                                                                                                                                                                                                                                                                                                                                                                                                                                                                                   \n",
       "16167  Need for Osmoregulation   Biological systems constantly interact and exchange water and nutrients with the environment by way of consumption of food and water and through excretion in the form of sweat, urine, and feces.                                                                                                                                                                                                                                                                                                                                                                                                                                                                                                                                                                                                                                                                                             \n",
       "6022   Create a graph or table to predict the results of an experiment in which researchers follow the fates of two proteins after they are made on ribosomes in the rough ER: a secretory protein destined to be secreted by the cell and a peroxidase destined for the peroxisome.                                                                                                                                                                                                                                                                                                                                                                                                                                                                                                                                                                                                                                            \n",
       "30969  When the calcium pumps in the sarcoplasmic reticulum membranes remove the Ca2+ ions from the sarcoplasm, the conformation of the tropomyosin reverts and again blocks the binding of myosin heads to actin, and the muscle fiber returns to its resting condition.                                                                                                                                                                                                                                                                                                                                                                                                                                                                                                                                                                                                                                                       \n",
       "17292  Our description of the release of neurotransmitter from the presynaptic membrane may seem simple, but it involves hundreds of proteins that are responsible for various aspects of the process: vesicle formation, transport of neurotransmitter into vesicles, anchoring of vesicles to cytoskeletal elements, docking of the vesicles with the presynaptic membrane, fusion of the vesicular and cell membranes, and endocytosis of the vesicle membrane for recycling.                                                                                                                                                                                                                                                                                                                                                                                                                                                \n",
       "11511  Important micronutrients include iron, manganese, boron, molybdenum, copper, zinc, chlorine, nickel, cobalt, silicon, and sodium.                                                                                                                                                                                                                                                                                                                                                                                                                                                                                                                                                                                                                                                                                                                                                                                        \n",
       "9950   Green plants are autotrophs and can synthesize all the molecules they need from simple starting materials: CO2, H2O, phosphate, sulfate, ammonium ions (NH4+), and small quantities of other mineral nutrients.                                                                                                                                                                                                                                                                                                                                                                                                                                                                                                                                                                                                                                                                                                          \n",
       "24749  The posterior regions receive somatosensory information (e. g. , touch, pain, temperature); the middle region combines that with autonomic regulatory information and drives (e. g. , hunger, thirst, sex); and the anterior region, which is well developed in higher primates, elephants, and marine mammals, receives information about social interactions.                                                                                                                                                                                                                                                                                                                                                                                                                                                                                                                                                          \n",
       "13038  In the case of the Down syndrome model mice, drugs such as pentylenetetrazole, which blocked the GABA receptors (which function also as Cl    channels), reduced the level of inhibition in the mouse nervous system and increased the ability of the mice to learn and form memories.                                                                                                                                                                                                                                                                                                                                                                                                                                                                                                                                                                                                                                   \n",
       "25307  The scientists isolated the gene for one of these ion channels, rhodopsin (ChR2), and developed methods to modify the gene so that when it was introduced by viral infection into a specific brain area, it would be expressed only in the neurons of interest.                                                                                                                                                                                                                                                                                                                                                                                                                                                                                                                                                                                                                                                          \n",
       "6970   Each photosystem is serviced by the  light-harvesting complex , which passes energy from sunlight to the reaction center; it consists of multiple antenna proteins that contain a mixture of 300 to 400 chlorophyll  a  and  b  molecules as well as other pigments like carotenoids.                                                                                                                                                                                                                                                                                                                                                                                                                                                                                                                                                                                                                                    \n",
       "30724  When an action potential arrives at a neuromuscular junction, the neurotransmitter acetylcholine is released from the motor neuron terminals, diffuses across the synaptic cleft, binds to receptors in the postsynaptic membrane, and causes ion channels in the motor end plate to open (see Figure 44.11).                                                                                                                                                                                                                                                                                                                                                                                                                                                                                                                                                                                                            \n",
       "\n",
       "       count  \n",
       "28365  88     \n",
       "15932  88     \n",
       "5305   86     \n",
       "13606  81     \n",
       "22483  79     \n",
       "2599   79     \n",
       "23453  78     \n",
       "5648   78     \n",
       "7758   77     \n",
       "6785   77     \n",
       "23231  77     \n",
       "19232  77     \n",
       "22870  76     \n",
       "25460  75     \n",
       "12754  74     \n",
       "7513   73     \n",
       "4066   73     \n",
       "7781   72     \n",
       "3273   72     \n",
       "16167  70     \n",
       "6022   69     \n",
       "30969  69     \n",
       "17292  67     \n",
       "11511  66     \n",
       "9950   66     \n",
       "24749  66     \n",
       "13038  66     \n",
       "25307  65     \n",
       "6970   65     \n",
       "30724  65     "
      ]
     },
     "execution_count": 116,
     "metadata": {},
     "output_type": "execute_result"
    }
   ],
   "source": [
    "tmp.sort_values('count', ascending=False).head(30)"
   ]
  },
  {
   "cell_type": "markdown",
   "metadata": {},
   "source": [
    "# Down Sample Training Data\n",
    "\n",
    "Currently the training data has over 200,000 examples with less than 1 percent positive examples. To make this more tractable and balanced we first sample down to only XX% of the negative sentences and then sample down XX% of negative examples within each sentence."
   ]
  },
  {
   "cell_type": "code",
   "execution_count": 131,
   "metadata": {},
   "outputs": [
    {
     "name": "stdout",
     "output_type": "stream",
     "text": [
      "(215339, 25)\n"
     ]
    },
    {
     "data": {
      "text/plain": [
       "(86835, 25)"
      ]
     },
     "execution_count": 131,
     "metadata": {},
     "output_type": "execute_result"
    }
   ],
   "source": [
    "# sample down negative sentences\n",
    "sent_check = train.groupby('text').agg({'majority_vote': lambda x: sum(x) > 0}).reset_index()\n",
    "neg_exs = sent_check[~sent_check.majority_vote].sample(frac=0.70)\n",
    "print(train.shape)\n",
    "train_reduced = train[~train.text.isin(neg_exs.text)]\n",
    "train_reduced.shape"
   ]
  },
  {
   "cell_type": "code",
   "execution_count": 132,
   "metadata": {},
   "outputs": [
    {
     "name": "stderr",
     "output_type": "stream",
     "text": [
      "/anaconda3/lib/python3.7/site-packages/ipykernel_launcher.py:5: SettingWithCopyWarning: \n",
      "A value is trying to be set on a copy of a slice from a DataFrame.\n",
      "Try using .loc[row_indexer,col_indexer] = value instead\n",
      "\n",
      "See the caveats in the documentation: http://pandas.pydata.org/pandas-docs/stable/user_guide/indexing.html#returning-a-view-versus-a-copy\n",
      "  \"\"\"\n"
     ]
    },
    {
     "data": {
      "text/plain": [
       "(28759, 26)"
      ]
     },
     "execution_count": 132,
     "metadata": {},
     "output_type": "execute_result"
    }
   ],
   "source": [
    "# sample down negative examples within sentences\n",
    "sent_check = train_reduced.groupby(['text', 'term_pair']).agg({'majority_vote': lambda x: sum(x) > 0}).reset_index()\n",
    "neg_exs = sent_check[~sent_check.majority_vote].sample(frac=0.6)\n",
    "neg_exs['part'] = list(zip(neg_exs['text'], neg_exs['term_pair']))\n",
    "train_reduced['part'] = list(zip(train_reduced['text'], train_reduced['term_pair']))\n",
    "train_reduced = train_reduced[~train_reduced.part.isin(neg_exs.part)]\n",
    "train_reduced.shape"
   ]
  },
  {
   "cell_type": "code",
   "execution_count": 120,
   "metadata": {},
   "outputs": [
    {
     "data": {
      "text/html": [
       "<div>\n",
       "<style scoped>\n",
       "    .dataframe tbody tr th:only-of-type {\n",
       "        vertical-align: middle;\n",
       "    }\n",
       "\n",
       "    .dataframe tbody tr th {\n",
       "        vertical-align: top;\n",
       "    }\n",
       "\n",
       "    .dataframe thead th {\n",
       "        text-align: right;\n",
       "    }\n",
       "</style>\n",
       "<table border=\"1\" class=\"dataframe\">\n",
       "  <thead>\n",
       "    <tr style=\"text-align: right;\">\n",
       "      <th></th>\n",
       "      <th>majority_vote</th>\n",
       "      <th>count</th>\n",
       "      <th>prop</th>\n",
       "    </tr>\n",
       "  </thead>\n",
       "  <tbody>\n",
       "    <tr>\n",
       "      <th>0</th>\n",
       "      <td>0</td>\n",
       "      <td>24895</td>\n",
       "      <td>0.865642</td>\n",
       "    </tr>\n",
       "    <tr>\n",
       "      <th>1</th>\n",
       "      <td>1</td>\n",
       "      <td>1807</td>\n",
       "      <td>0.062833</td>\n",
       "    </tr>\n",
       "    <tr>\n",
       "      <th>2</th>\n",
       "      <td>2</td>\n",
       "      <td>2057</td>\n",
       "      <td>0.071525</td>\n",
       "    </tr>\n",
       "  </tbody>\n",
       "</table>\n",
       "</div>"
      ],
      "text/plain": [
       "   majority_vote  count      prop\n",
       "0  0              24895  0.865642\n",
       "1  1              1807   0.062833\n",
       "2  2              2057   0.071525"
      ]
     },
     "execution_count": 120,
     "metadata": {},
     "output_type": "execute_result"
    }
   ],
   "source": [
    "train_reduced \\\n",
    "    .groupby('majority_vote') \\\n",
    "    .majority_vote \\\n",
    "    .agg(count='count') \\\n",
    "    .reset_index() \\\n",
    "    .assign(prop=lambda df: df['count'] / df['count'].sum())"
   ]
  },
  {
   "cell_type": "code",
   "execution_count": 121,
   "metadata": {},
   "outputs": [
    {
     "data": {
      "text/html": [
       "<div>\n",
       "<style scoped>\n",
       "    .dataframe tbody tr th:only-of-type {\n",
       "        vertical-align: middle;\n",
       "    }\n",
       "\n",
       "    .dataframe tbody tr th {\n",
       "        vertical-align: top;\n",
       "    }\n",
       "\n",
       "    .dataframe thead th {\n",
       "        text-align: right;\n",
       "    }\n",
       "</style>\n",
       "<table border=\"1\" class=\"dataframe\">\n",
       "  <thead>\n",
       "    <tr style=\"text-align: right;\">\n",
       "      <th></th>\n",
       "      <th>majority_vote</th>\n",
       "      <th>nunique</th>\n",
       "      <th>prop</th>\n",
       "    </tr>\n",
       "  </thead>\n",
       "  <tbody>\n",
       "    <tr>\n",
       "      <th>0</th>\n",
       "      <td>0</td>\n",
       "      <td>20945</td>\n",
       "      <td>0.900473</td>\n",
       "    </tr>\n",
       "    <tr>\n",
       "      <th>1</th>\n",
       "      <td>1</td>\n",
       "      <td>1148</td>\n",
       "      <td>0.049355</td>\n",
       "    </tr>\n",
       "    <tr>\n",
       "      <th>2</th>\n",
       "      <td>2</td>\n",
       "      <td>1167</td>\n",
       "      <td>0.050172</td>\n",
       "    </tr>\n",
       "  </tbody>\n",
       "</table>\n",
       "</div>"
      ],
      "text/plain": [
       "   majority_vote  nunique      prop\n",
       "0  0              20945    0.900473\n",
       "1  1              1148     0.049355\n",
       "2  2              1167     0.050172"
      ]
     },
     "execution_count": 121,
     "metadata": {},
     "output_type": "execute_result"
    }
   ],
   "source": [
    "train_reduced \\\n",
    "    .groupby('majority_vote') \\\n",
    "    .term_pair \\\n",
    "    .agg(nunique='nunique') \\\n",
    "    .reset_index() \\\n",
    "    .assign(prop=lambda df: df['nunique'] / df['nunique'].sum())"
   ]
  },
  {
   "cell_type": "code",
   "execution_count": 97,
   "metadata": {},
   "outputs": [
    {
     "name": "stdout",
     "output_type": "stream",
     "text": [
      "8803\n"
     ]
    }
   ],
   "source": [
    "print(len(np.unique(train_reduced.text)))"
   ]
  },
  {
   "cell_type": "code",
   "execution_count": 122,
   "metadata": {},
   "outputs": [
    {
     "data": {
      "text/html": [
       "<div>\n",
       "<style scoped>\n",
       "    .dataframe tbody tr th:only-of-type {\n",
       "        vertical-align: middle;\n",
       "    }\n",
       "\n",
       "    .dataframe tbody tr th {\n",
       "        vertical-align: top;\n",
       "    }\n",
       "\n",
       "    .dataframe thead th {\n",
       "        text-align: right;\n",
       "    }\n",
       "</style>\n",
       "<table border=\"1\" class=\"dataframe\">\n",
       "  <thead>\n",
       "    <tr style=\"text-align: right;\">\n",
       "      <th></th>\n",
       "      <th>hyponym</th>\n",
       "      <th>hypernym</th>\n",
       "      <th>count</th>\n",
       "      <th>prop</th>\n",
       "    </tr>\n",
       "  </thead>\n",
       "  <tbody>\n",
       "    <tr>\n",
       "      <th>0</th>\n",
       "      <td>False</td>\n",
       "      <td>False</td>\n",
       "      <td>5951</td>\n",
       "      <td>0.656771</td>\n",
       "    </tr>\n",
       "    <tr>\n",
       "      <th>1</th>\n",
       "      <td>False</td>\n",
       "      <td>True</td>\n",
       "      <td>1495</td>\n",
       "      <td>0.164993</td>\n",
       "    </tr>\n",
       "    <tr>\n",
       "      <th>2</th>\n",
       "      <td>True</td>\n",
       "      <td>False</td>\n",
       "      <td>1449</td>\n",
       "      <td>0.159916</td>\n",
       "    </tr>\n",
       "    <tr>\n",
       "      <th>3</th>\n",
       "      <td>True</td>\n",
       "      <td>True</td>\n",
       "      <td>166</td>\n",
       "      <td>0.018320</td>\n",
       "    </tr>\n",
       "  </tbody>\n",
       "</table>\n",
       "</div>"
      ],
      "text/plain": [
       "   hyponym  hypernym  count      prop\n",
       "0  False    False     5951   0.656771\n",
       "1  False    True      1495   0.164993\n",
       "2  True     False     1449   0.159916\n",
       "3  True     True      166    0.018320"
      ]
     },
     "execution_count": 122,
     "metadata": {},
     "output_type": "execute_result"
    }
   ],
   "source": [
    "train_reduced \\\n",
    "    .groupby('text') \\\n",
    "    .majority_vote \\\n",
    "    .agg(hyponym=lambda x: any(x == 1), hypernym=lambda x: any(x == 2)) \\\n",
    "    .reset_index() \\\n",
    "    .groupby(['hyponym', 'hypernym']) \\\n",
    "    .text \\\n",
    "    .agg(count='count') \\\n",
    "    .reset_index() \\\n",
    "    .assign(prop=lambda df: df['count'] / df['count'].sum())"
   ]
  },
  {
   "cell_type": "markdown",
   "metadata": {},
   "source": [
    "# Fix for probablistic labels"
   ]
  },
  {
   "cell_type": "code",
   "execution_count": 161,
   "metadata": {},
   "outputs": [
    {
     "data": {
      "text/plain": [
       "(218587, 26)"
      ]
     },
     "execution_count": 161,
     "metadata": {},
     "output_type": "execute_result"
    }
   ],
   "source": [
    "label_fns = [\n",
    "    'isa_pattern', \n",
    "    'suchas_pattern',\n",
    "    'including_pattern',\n",
    "    'called_pattern',\n",
    "    'especially_pattern',\n",
    "    'appo_pattern', \n",
    "    'other_pattern', \n",
    "    'knownas_pattern', \n",
    "    'term_pos', \n",
    "    'term_modifier',\n",
    "    'term_subset',\n",
    "    'kb_bio101_ds_pos',\n",
    "    'kb_bio101_ds_neg',\n",
    "]\n",
    "\n",
    "def covered(x):\n",
    "    return max([x[l] for l in label_fns]) == -1\n",
    "    \n",
    "def fix_neg(x):\n",
    "    if max([x[l] for l in label_fns]) == 0:\n",
    "        return (.95, .025, .025)\n",
    "    else:\n",
    "        return x['label_model_labels']\n",
    "train['not_covered'] = train.apply(covered, axis=1)\n",
    "train = train[~train.not_covered]\n",
    "train['label_model_labels'] = train.apply(fix_neg, axis=1)\n",
    "train.shape"
   ]
  },
  {
   "cell_type": "code",
   "execution_count": 162,
   "metadata": {
    "collapsed": true,
    "jupyter": {
     "outputs_hidden": true
    }
   },
   "outputs": [
    {
     "data": {
      "text/html": [
       "<div>\n",
       "<style scoped>\n",
       "    .dataframe tbody tr th:only-of-type {\n",
       "        vertical-align: middle;\n",
       "    }\n",
       "\n",
       "    .dataframe tbody tr th {\n",
       "        vertical-align: top;\n",
       "    }\n",
       "\n",
       "    .dataframe thead th {\n",
       "        text-align: right;\n",
       "    }\n",
       "</style>\n",
       "<table border=\"1\" class=\"dataframe\">\n",
       "  <thead>\n",
       "    <tr style=\"text-align: right;\">\n",
       "      <th></th>\n",
       "      <th>label_model_labels</th>\n",
       "      <th>lm_vote</th>\n",
       "    </tr>\n",
       "  </thead>\n",
       "  <tbody>\n",
       "    <tr>\n",
       "      <th>0</th>\n",
       "      <td>(0.95, 0.025, 0.025)</td>\n",
       "      <td>0</td>\n",
       "    </tr>\n",
       "    <tr>\n",
       "      <th>3</th>\n",
       "      <td>(0.95, 0.025, 0.025)</td>\n",
       "      <td>0</td>\n",
       "    </tr>\n",
       "    <tr>\n",
       "      <th>4</th>\n",
       "      <td>(0.95, 0.025, 0.025)</td>\n",
       "      <td>0</td>\n",
       "    </tr>\n",
       "    <tr>\n",
       "      <th>5</th>\n",
       "      <td>(0.95, 0.025, 0.025)</td>\n",
       "      <td>0</td>\n",
       "    </tr>\n",
       "    <tr>\n",
       "      <th>10</th>\n",
       "      <td>(0.95, 0.025, 0.025)</td>\n",
       "      <td>0</td>\n",
       "    </tr>\n",
       "    <tr>\n",
       "      <th>...</th>\n",
       "      <td>...</td>\n",
       "      <td>...</td>\n",
       "    </tr>\n",
       "    <tr>\n",
       "      <th>265706</th>\n",
       "      <td>(0.95, 0.025, 0.025)</td>\n",
       "      <td>0</td>\n",
       "    </tr>\n",
       "    <tr>\n",
       "      <th>265707</th>\n",
       "      <td>(0.95, 0.025, 0.025)</td>\n",
       "      <td>0</td>\n",
       "    </tr>\n",
       "    <tr>\n",
       "      <th>265711</th>\n",
       "      <td>(0.95, 0.025, 0.025)</td>\n",
       "      <td>0</td>\n",
       "    </tr>\n",
       "    <tr>\n",
       "      <th>265715</th>\n",
       "      <td>(0.95, 0.025, 0.025)</td>\n",
       "      <td>0</td>\n",
       "    </tr>\n",
       "    <tr>\n",
       "      <th>265716</th>\n",
       "      <td>(0.95, 0.025, 0.025)</td>\n",
       "      <td>0</td>\n",
       "    </tr>\n",
       "  </tbody>\n",
       "</table>\n",
       "<p>218587 rows × 2 columns</p>\n",
       "</div>"
      ],
      "text/plain": [
       "          label_model_labels  lm_vote\n",
       "0       (0.95, 0.025, 0.025)  0      \n",
       "3       (0.95, 0.025, 0.025)  0      \n",
       "4       (0.95, 0.025, 0.025)  0      \n",
       "5       (0.95, 0.025, 0.025)  0      \n",
       "10      (0.95, 0.025, 0.025)  0      \n",
       "...                      ... ..      \n",
       "265706  (0.95, 0.025, 0.025)  0      \n",
       "265707  (0.95, 0.025, 0.025)  0      \n",
       "265711  (0.95, 0.025, 0.025)  0      \n",
       "265715  (0.95, 0.025, 0.025)  0      \n",
       "265716  (0.95, 0.025, 0.025)  0      \n",
       "\n",
       "[218587 rows x 2 columns]"
      ]
     },
     "execution_count": 162,
     "metadata": {},
     "output_type": "execute_result"
    }
   ],
   "source": [
    "import numpy as np\n",
    "train['lm_vote'] = train.label_model_labels.apply(np.argmax)"
   ]
  },
  {
   "cell_type": "code",
   "execution_count": 163,
   "metadata": {},
   "outputs": [
    {
     "name": "stdout",
     "output_type": "stream",
     "text": [
      "(218587, 27)\n"
     ]
    },
    {
     "data": {
      "text/plain": [
       "(124021, 27)"
      ]
     },
     "execution_count": 163,
     "metadata": {},
     "output_type": "execute_result"
    }
   ],
   "source": [
    "# sample down negative sentences\n",
    "sent_check = train.groupby('text').agg({'lm_vote': lambda x: sum(x) > 0}).reset_index()\n",
    "neg_exs = sent_check[~sent_check.lm_vote].sample(frac=0.60)\n",
    "print(train.shape)\n",
    "train_reduced = train[~train.text.isin(neg_exs.text)]\n",
    "train_reduced.shape"
   ]
  },
  {
   "cell_type": "code",
   "execution_count": 164,
   "metadata": {},
   "outputs": [
    {
     "name": "stderr",
     "output_type": "stream",
     "text": [
      "/anaconda3/lib/python3.7/site-packages/ipykernel_launcher.py:5: SettingWithCopyWarning: \n",
      "A value is trying to be set on a copy of a slice from a DataFrame.\n",
      "Try using .loc[row_indexer,col_indexer] = value instead\n",
      "\n",
      "See the caveats in the documentation: http://pandas.pydata.org/pandas-docs/stable/user_guide/indexing.html#returning-a-view-versus-a-copy\n",
      "  \"\"\"\n"
     ]
    },
    {
     "data": {
      "text/plain": [
       "(53879, 28)"
      ]
     },
     "execution_count": 164,
     "metadata": {},
     "output_type": "execute_result"
    }
   ],
   "source": [
    "# sample down negative examples within sentences\n",
    "sent_check = train_reduced.groupby(['text', 'term_pair']).agg({'lm_vote': lambda x: sum(x) > 0}).reset_index()\n",
    "neg_exs = sent_check[~sent_check.lm_vote].sample(frac=0.6)\n",
    "neg_exs['part'] = list(zip(neg_exs['text'], neg_exs['term_pair']))\n",
    "train_reduced['part'] = list(zip(train_reduced['text'], train_reduced['term_pair']))\n",
    "train_reduced = train_reduced[~train_reduced.part.isin(neg_exs.part)]\n",
    "train_reduced.shape"
   ]
  },
  {
   "cell_type": "markdown",
   "metadata": {},
   "source": [
    "# Create a small debugging set"
   ]
  },
  {
   "cell_type": "code",
   "execution_count": 165,
   "metadata": {},
   "outputs": [
    {
     "data": {
      "text/plain": [
       "(42, 27)"
      ]
     },
     "execution_count": 165,
     "metadata": {},
     "output_type": "execute_result"
    }
   ],
   "source": [
    "# create a debugging set with 10 sentences with a taxonomy relation and 10 without\n",
    "sent_check = train.groupby('text').agg({'majority_vote': lambda x: sum(x) > 0}).reset_index()\n",
    "pos_exs = sent_check[sent_check.majority_vote].sample(5)\n",
    "neg_exs = sent_check[~sent_check.majority_vote].sample(5)\n",
    "debug = pd.concat(\n",
    "    [train[train.text.isin(pos_exs.text)], \n",
    "     train[train.text.isin(neg_exs.text)]], \n",
    "    axis=0)\n",
    "debug.shape"
   ]
  },
  {
   "cell_type": "markdown",
   "metadata": {},
   "source": [
    "# Add gold labels to dev set"
   ]
  },
  {
   "cell_type": "code",
   "execution_count": 144,
   "metadata": {},
   "outputs": [
    {
     "data": {
      "text/plain": [
       "71"
      ]
     },
     "execution_count": 144,
     "metadata": {},
     "output_type": "execute_result"
    }
   ],
   "source": [
    "from ast import literal_eval\n",
    "gold_df = pd.read_csv('manual_eval.csv')\n",
    "gold_df = gold_df[['text', 'term_pair', 'gold_label']]\n",
    "gold_df.gold_label = gold_df.gold_label.astype(int)\n",
    "gold_df.term_pair = gold_df.term_pair.apply(literal_eval)\n",
    "dev_new = dev.merge(gold_df, how='left', on=['text', 'term_pair'])\n",
    "dev_new['gold_label'] = dev_new.gold_label.fillna(0).astype(int)\n",
    "sum(dev_new.gold_label > 0)"
   ]
  },
  {
   "cell_type": "markdown",
   "metadata": {},
   "source": [
    "# Write out data"
   ]
  },
  {
   "cell_type": "code",
   "execution_count": 166,
   "metadata": {},
   "outputs": [],
   "source": [
    "train.to_pickle('data/model_data/train_full.pkl')\n",
    "train_reduced.to_pickle('data/model_data/train.pkl')\n",
    "debug.to_pickle('data/model_data/debug.pkl')\n",
    "dev_new.to_pickle('data/model_data/dev.pkl')\n",
    "test.to_pickle('data/model_data/test.pkl')"
   ]
  },
  {
   "cell_type": "code",
   "execution_count": 147,
   "metadata": {},
   "outputs": [
    {
     "name": "stdout",
     "output_type": "stream",
     "text": [
      "(4168, 26)\n"
     ]
    }
   ],
   "source": [
    "print(dev_new.shape)"
   ]
  },
  {
   "cell_type": "code",
   "execution_count": null,
   "metadata": {},
   "outputs": [],
   "source": []
  }
 ],
 "metadata": {
  "kernelspec": {
   "display_name": "tokn",
   "language": "python",
   "name": "tokn"
  },
  "language_info": {
   "codemirror_mode": {
    "name": "ipython",
    "version": 3
   },
   "file_extension": ".py",
   "mimetype": "text/x-python",
   "name": "python",
   "nbconvert_exporter": "python",
   "pygments_lexer": "ipython3",
   "version": "3.7.4"
  }
 },
 "nbformat": 4,
 "nbformat_minor": 4
}
