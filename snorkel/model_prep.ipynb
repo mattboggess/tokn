{
 "cells": [
  {
   "cell_type": "code",
   "execution_count": 69,
   "metadata": {},
   "outputs": [],
   "source": [
    "import pickle\n",
    "import numpy as np\n",
    "import re\n",
    "import pandas as pd\n",
    "import matplotlib.pyplot as plt\n",
    "import seaborn as sns\n",
    "pd.set_option('display.max_colwidth', -1)\n",
    "np.random.seed(10)\n",
    "\n",
    "with open(f\"data/label/train_labelled.pkl\", 'rb') as fid:\n",
    "    train = pickle.load(fid)\n",
    "with open(f\"data/label/dev_labelled.pkl\", 'rb') as fid:\n",
    "    dev = pickle.load(fid)\n",
    "with open(f\"data/label/test_labelled.pkl\", 'rb') as fid:\n",
    "    test = pickle.load(fid)"
   ]
  },
  {
   "cell_type": "code",
   "execution_count": 70,
   "metadata": {},
   "outputs": [],
   "source": [
    "# filter out invalid taggings\n",
    "train = train[train.term_part_of_speech != 0]\n",
    "dev = dev[dev.term_part_of_speech != 0]\n",
    "test = test[test.term_part_of_speech != 0]\n",
    "train = train[train.term_dep_role != 0]\n",
    "dev = dev[dev.term_dep_role != 0]\n",
    "test = test[test.term_dep_role != 0]"
   ]
  },
  {
   "cell_type": "markdown",
   "metadata": {},
   "source": [
    "# Add in Gold Labels for Evaluation Sets\n",
    "\n",
    "TODO: Make this cleaner/less error prone."
   ]
  },
  {
   "cell_type": "code",
   "execution_count": 71,
   "metadata": {},
   "outputs": [],
   "source": [
    "from ast import literal_eval\n",
    "\n",
    "# merge round 1 of manual eval\n",
    "gold_df = pd.read_csv('dev_manual_eval.csv')\n",
    "gold_df = gold_df[['text', 'term_pair', 'gold_label']]\n",
    "gold_df.gold_label = gold_df.gold_label.astype(int)\n",
    "gold_df.term_pair = gold_df.term_pair.apply(literal_eval)\n",
    "dev = dev.merge(gold_df, how='left', on=['text', 'term_pair'])\n",
    "dev['gold_label'] = dev.gold_label.fillna(0).astype(int)\n",
    "\n",
    "# update gold labels with round 2\n",
    "#gold_df = pd.read_csv('manual_eval2.csv')\n",
    "#gold_df = gold_df[['text', 'term_pair', 'gold_label']]\n",
    "#gold_df.gold_label = gold_df.gold_label.astype(int)\n",
    "#gold_df.term_pair = gold_df.term_pair.apply(literal_eval)\n",
    "#gold_lookup = {(x.text, x.term_pair): x.gold_label for _, x in gold_df.iterrows()}\n",
    "#def gold_replace(x):\n",
    "#    if (x.text, x.term_pair) in gold_lookup:\n",
    "#        return gold_lookup[x.text, x.term_pair]\n",
    "#    else:\n",
    "#        return x.gold_label\n",
    "#dev.gold_label = dev.apply(gold_replace, axis=1)\n",
    "\n",
    "test['gold_label'] = test.majority_vote.replace(-1, 0)"
   ]
  },
  {
   "cell_type": "markdown",
   "metadata": {},
   "source": [
    "# Standardize Label Columns"
   ]
  },
  {
   "cell_type": "markdown",
   "metadata": {},
   "source": [
    "## Hard Labels"
   ]
  },
  {
   "cell_type": "code",
   "execution_count": 72,
   "metadata": {},
   "outputs": [],
   "source": [
    "# Option 1 use majority vote across label functions\n",
    "train['hard_label'] = train.majority_vote \n",
    "# Option 2 use most likely class from label model \n",
    "#train['no_vote'] = train.label_model_labels.apply(lambda x: min(x) == max(x))\n",
    "#train['lm_vote'] = train.label_model_labels.apply(np.argmax)\n",
    "#train.loc[train.no_vote, 'lm_vote'] = -1\n",
    "#train['hard_label'] = train['lm_vote']\n",
    "\n",
    "# use hand labelled gold labels for dev and test\n",
    "dev['hard_label'] = dev.gold_label\n",
    "test['hard_label'] = test.gold_label"
   ]
  },
  {
   "cell_type": "markdown",
   "metadata": {},
   "source": [
    "## Soft Labels"
   ]
  },
  {
   "cell_type": "code",
   "execution_count": 73,
   "metadata": {},
   "outputs": [],
   "source": [
    "#label_fns = [\n",
    "#    'isa_pattern', \n",
    "#    'suchas_pattern',\n",
    "#    'including_pattern',\n",
    "#    'called_pattern',\n",
    "#    'especially_pattern',\n",
    "#    'appo_pattern', \n",
    "#    'other_pattern', \n",
    "#    'knownas_pattern', \n",
    "#    'term_pos', \n",
    "#    'term_modifier',\n",
    "#    'term_subset',\n",
    "#    'kb_bio101_ds_pos',\n",
    "#    'kb_bio101_ds_neg',\n",
    "#]\n",
    "#\n",
    "#    \n",
    "#def fix_neg(x):\n",
    "#    if max([x[l] for l in label_fns]) == 0:\n",
    "#        return (.95, .025, .025)\n",
    "#    else:\n",
    "#        return x['label_model_labels']\n",
    "#train['label_model_labels'] = train.apply(fix_neg, axis=1)"
   ]
  },
  {
   "cell_type": "code",
   "execution_count": 74,
   "metadata": {},
   "outputs": [],
   "source": [
    "train['soft_label'] = train.label_model_labels\n",
    "dev['soft_label'] = dev.label_model_labels\n",
    "test['soft_label'] = test.label_model_labels"
   ]
  },
  {
   "cell_type": "markdown",
   "metadata": {},
   "source": [
    "## Add Class Labels"
   ]
  },
  {
   "cell_type": "markdown",
   "metadata": {},
   "source": [
    "# Data Label Distributions \n",
    "\n",
    "Majority vote distributions across all sentence, term pair instance for the different classes. For all three:\n",
    "\n",
    "- non-labelled data is about 15-20%\n",
    "- hypernyms and hyponyms are relatively equal at about .6-.8%\n",
    "- negatives are about 80%"
   ]
  },
  {
   "cell_type": "code",
   "execution_count": 75,
   "metadata": {},
   "outputs": [
    {
     "data": {
      "text/html": [
       "<div>\n",
       "<style scoped>\n",
       "    .dataframe tbody tr th:only-of-type {\n",
       "        vertical-align: middle;\n",
       "    }\n",
       "\n",
       "    .dataframe tbody tr th {\n",
       "        vertical-align: top;\n",
       "    }\n",
       "\n",
       "    .dataframe thead th {\n",
       "        text-align: right;\n",
       "    }\n",
       "</style>\n",
       "<table border=\"1\" class=\"dataframe\">\n",
       "  <thead>\n",
       "    <tr style=\"text-align: right;\">\n",
       "      <th></th>\n",
       "      <th>hard_label</th>\n",
       "      <th>count</th>\n",
       "      <th>prop</th>\n",
       "    </tr>\n",
       "  </thead>\n",
       "  <tbody>\n",
       "    <tr>\n",
       "      <th>0</th>\n",
       "      <td>-1</td>\n",
       "      <td>39711</td>\n",
       "      <td>0.232867</td>\n",
       "    </tr>\n",
       "    <tr>\n",
       "      <th>1</th>\n",
       "      <td>0</td>\n",
       "      <td>127276</td>\n",
       "      <td>0.746351</td>\n",
       "    </tr>\n",
       "    <tr>\n",
       "      <th>2</th>\n",
       "      <td>1</td>\n",
       "      <td>1667</td>\n",
       "      <td>0.009775</td>\n",
       "    </tr>\n",
       "    <tr>\n",
       "      <th>3</th>\n",
       "      <td>2</td>\n",
       "      <td>1877</td>\n",
       "      <td>0.011007</td>\n",
       "    </tr>\n",
       "  </tbody>\n",
       "</table>\n",
       "</div>"
      ],
      "text/plain": [
       "   hard_label   count      prop\n",
       "0 -1           39711   0.232867\n",
       "1  0           127276  0.746351\n",
       "2  1           1667    0.009775\n",
       "3  2           1877    0.011007"
      ]
     },
     "execution_count": 75,
     "metadata": {},
     "output_type": "execute_result"
    }
   ],
   "source": [
    "train \\\n",
    "    .groupby('hard_label') \\\n",
    "    .majority_vote \\\n",
    "    .agg(count='count') \\\n",
    "    .reset_index() \\\n",
    "    .assign(prop=lambda df: df['count'] / df['count'].sum())"
   ]
  },
  {
   "cell_type": "code",
   "execution_count": 76,
   "metadata": {},
   "outputs": [
    {
     "data": {
      "text/html": [
       "<div>\n",
       "<style scoped>\n",
       "    .dataframe tbody tr th:only-of-type {\n",
       "        vertical-align: middle;\n",
       "    }\n",
       "\n",
       "    .dataframe tbody tr th {\n",
       "        vertical-align: top;\n",
       "    }\n",
       "\n",
       "    .dataframe thead th {\n",
       "        text-align: right;\n",
       "    }\n",
       "</style>\n",
       "<table border=\"1\" class=\"dataframe\">\n",
       "  <thead>\n",
       "    <tr style=\"text-align: right;\">\n",
       "      <th></th>\n",
       "      <th>hard_label</th>\n",
       "      <th>count</th>\n",
       "      <th>prop</th>\n",
       "    </tr>\n",
       "  </thead>\n",
       "  <tbody>\n",
       "    <tr>\n",
       "      <th>0</th>\n",
       "      <td>0</td>\n",
       "      <td>4223</td>\n",
       "      <td>0.966804</td>\n",
       "    </tr>\n",
       "    <tr>\n",
       "      <th>1</th>\n",
       "      <td>1</td>\n",
       "      <td>84</td>\n",
       "      <td>0.019231</td>\n",
       "    </tr>\n",
       "    <tr>\n",
       "      <th>2</th>\n",
       "      <td>2</td>\n",
       "      <td>61</td>\n",
       "      <td>0.013965</td>\n",
       "    </tr>\n",
       "  </tbody>\n",
       "</table>\n",
       "</div>"
      ],
      "text/plain": [
       "   hard_label  count      prop\n",
       "0  0           4223   0.966804\n",
       "1  1           84     0.019231\n",
       "2  2           61     0.013965"
      ]
     },
     "execution_count": 76,
     "metadata": {},
     "output_type": "execute_result"
    }
   ],
   "source": [
    "dev \\\n",
    "    .groupby('hard_label') \\\n",
    "    .majority_vote \\\n",
    "    .agg(count='count') \\\n",
    "    .reset_index() \\\n",
    "    .assign(prop=lambda df: df['count'] / df['count'].sum())"
   ]
  },
  {
   "cell_type": "code",
   "execution_count": 77,
   "metadata": {},
   "outputs": [
    {
     "data": {
      "text/html": [
       "<div>\n",
       "<style scoped>\n",
       "    .dataframe tbody tr th:only-of-type {\n",
       "        vertical-align: middle;\n",
       "    }\n",
       "\n",
       "    .dataframe tbody tr th {\n",
       "        vertical-align: top;\n",
       "    }\n",
       "\n",
       "    .dataframe thead th {\n",
       "        text-align: right;\n",
       "    }\n",
       "</style>\n",
       "<table border=\"1\" class=\"dataframe\">\n",
       "  <thead>\n",
       "    <tr style=\"text-align: right;\">\n",
       "      <th></th>\n",
       "      <th>hard_label</th>\n",
       "      <th>count</th>\n",
       "      <th>prop</th>\n",
       "    </tr>\n",
       "  </thead>\n",
       "  <tbody>\n",
       "    <tr>\n",
       "      <th>0</th>\n",
       "      <td>0</td>\n",
       "      <td>1931</td>\n",
       "      <td>0.974268</td>\n",
       "    </tr>\n",
       "    <tr>\n",
       "      <th>1</th>\n",
       "      <td>1</td>\n",
       "      <td>28</td>\n",
       "      <td>0.014127</td>\n",
       "    </tr>\n",
       "    <tr>\n",
       "      <th>2</th>\n",
       "      <td>2</td>\n",
       "      <td>23</td>\n",
       "      <td>0.011604</td>\n",
       "    </tr>\n",
       "  </tbody>\n",
       "</table>\n",
       "</div>"
      ],
      "text/plain": [
       "   hard_label  count      prop\n",
       "0  0           1931   0.974268\n",
       "1  1           28     0.014127\n",
       "2  2           23     0.011604"
      ]
     },
     "execution_count": 77,
     "metadata": {},
     "output_type": "execute_result"
    }
   ],
   "source": [
    "test \\\n",
    "    .groupby('hard_label') \\\n",
    "    .majority_vote \\\n",
    "    .agg(count='count') \\\n",
    "    .reset_index() \\\n",
    "    .assign(prop=lambda df: df['count'] / df['count'].sum())"
   ]
  },
  {
   "cell_type": "markdown",
   "metadata": {},
   "source": [
    "# Exclude Points without labels "
   ]
  },
  {
   "cell_type": "code",
   "execution_count": 78,
   "metadata": {},
   "outputs": [],
   "source": [
    "# filter out data points without any labels\n",
    "train = train[train.hard_label >= 0]"
   ]
  },
  {
   "cell_type": "code",
   "execution_count": 79,
   "metadata": {},
   "outputs": [
    {
     "data": {
      "text/html": [
       "<div>\n",
       "<style scoped>\n",
       "    .dataframe tbody tr th:only-of-type {\n",
       "        vertical-align: middle;\n",
       "    }\n",
       "\n",
       "    .dataframe tbody tr th {\n",
       "        vertical-align: top;\n",
       "    }\n",
       "\n",
       "    .dataframe thead th {\n",
       "        text-align: right;\n",
       "    }\n",
       "</style>\n",
       "<table border=\"1\" class=\"dataframe\">\n",
       "  <thead>\n",
       "    <tr style=\"text-align: right;\">\n",
       "      <th></th>\n",
       "      <th>hard_label</th>\n",
       "      <th>count</th>\n",
       "      <th>prop</th>\n",
       "    </tr>\n",
       "  </thead>\n",
       "  <tbody>\n",
       "    <tr>\n",
       "      <th>0</th>\n",
       "      <td>0</td>\n",
       "      <td>127276</td>\n",
       "      <td>0.972909</td>\n",
       "    </tr>\n",
       "    <tr>\n",
       "      <th>1</th>\n",
       "      <td>1</td>\n",
       "      <td>1667</td>\n",
       "      <td>0.012743</td>\n",
       "    </tr>\n",
       "    <tr>\n",
       "      <th>2</th>\n",
       "      <td>2</td>\n",
       "      <td>1877</td>\n",
       "      <td>0.014348</td>\n",
       "    </tr>\n",
       "  </tbody>\n",
       "</table>\n",
       "</div>"
      ],
      "text/plain": [
       "   hard_label   count      prop\n",
       "0  0           127276  0.972909\n",
       "1  1           1667    0.012743\n",
       "2  2           1877    0.014348"
      ]
     },
     "execution_count": 79,
     "metadata": {},
     "output_type": "execute_result"
    }
   ],
   "source": [
    "train \\\n",
    "    .groupby('hard_label') \\\n",
    "    .majority_vote \\\n",
    "    .agg(count='count') \\\n",
    "    .reset_index() \\\n",
    "    .assign(prop=lambda df: df['count'] / df['count'].sum())"
   ]
  },
  {
   "cell_type": "markdown",
   "metadata": {},
   "source": [
    "# Unique Term Pair Distributions\n",
    "\n",
    "The above distributions over count term pairs that show up more frequently. Here we first look at unique term pair label distributions. We see that the number of unique term pairs is about 40% less than overall term pairs and the relative proportions are still quite similar."
   ]
  },
  {
   "cell_type": "code",
   "execution_count": 80,
   "metadata": {},
   "outputs": [
    {
     "data": {
      "text/html": [
       "<div>\n",
       "<style scoped>\n",
       "    .dataframe tbody tr th:only-of-type {\n",
       "        vertical-align: middle;\n",
       "    }\n",
       "\n",
       "    .dataframe tbody tr th {\n",
       "        vertical-align: top;\n",
       "    }\n",
       "\n",
       "    .dataframe thead th {\n",
       "        text-align: right;\n",
       "    }\n",
       "</style>\n",
       "<table border=\"1\" class=\"dataframe\">\n",
       "  <thead>\n",
       "    <tr style=\"text-align: right;\">\n",
       "      <th></th>\n",
       "      <th>hard_label</th>\n",
       "      <th>nunique</th>\n",
       "      <th>prop</th>\n",
       "    </tr>\n",
       "  </thead>\n",
       "  <tbody>\n",
       "    <tr>\n",
       "      <th>0</th>\n",
       "      <td>0</td>\n",
       "      <td>76589</td>\n",
       "      <td>0.971547</td>\n",
       "    </tr>\n",
       "    <tr>\n",
       "      <th>1</th>\n",
       "      <td>1</td>\n",
       "      <td>1135</td>\n",
       "      <td>0.014398</td>\n",
       "    </tr>\n",
       "    <tr>\n",
       "      <th>2</th>\n",
       "      <td>2</td>\n",
       "      <td>1108</td>\n",
       "      <td>0.014055</td>\n",
       "    </tr>\n",
       "  </tbody>\n",
       "</table>\n",
       "</div>"
      ],
      "text/plain": [
       "   hard_label  nunique      prop\n",
       "0  0           76589    0.971547\n",
       "1  1           1135     0.014398\n",
       "2  2           1108     0.014055"
      ]
     },
     "execution_count": 80,
     "metadata": {},
     "output_type": "execute_result"
    }
   ],
   "source": [
    "train \\\n",
    "    .groupby('hard_label') \\\n",
    "    .term_pair \\\n",
    "    .agg(nunique='nunique') \\\n",
    "    .reset_index() \\\n",
    "    .assign(prop=lambda df: df['nunique'] / df['nunique'].sum())"
   ]
  },
  {
   "cell_type": "code",
   "execution_count": 81,
   "metadata": {},
   "outputs": [
    {
     "data": {
      "text/html": [
       "<div>\n",
       "<style scoped>\n",
       "    .dataframe tbody tr th:only-of-type {\n",
       "        vertical-align: middle;\n",
       "    }\n",
       "\n",
       "    .dataframe tbody tr th {\n",
       "        vertical-align: top;\n",
       "    }\n",
       "\n",
       "    .dataframe thead th {\n",
       "        text-align: right;\n",
       "    }\n",
       "</style>\n",
       "<table border=\"1\" class=\"dataframe\">\n",
       "  <thead>\n",
       "    <tr style=\"text-align: right;\">\n",
       "      <th></th>\n",
       "      <th>hard_label</th>\n",
       "      <th>nunique</th>\n",
       "      <th>prop</th>\n",
       "    </tr>\n",
       "  </thead>\n",
       "  <tbody>\n",
       "    <tr>\n",
       "      <th>0</th>\n",
       "      <td>0</td>\n",
       "      <td>3294</td>\n",
       "      <td>0.964286</td>\n",
       "    </tr>\n",
       "    <tr>\n",
       "      <th>1</th>\n",
       "      <td>1</td>\n",
       "      <td>69</td>\n",
       "      <td>0.020199</td>\n",
       "    </tr>\n",
       "    <tr>\n",
       "      <th>2</th>\n",
       "      <td>2</td>\n",
       "      <td>53</td>\n",
       "      <td>0.015515</td>\n",
       "    </tr>\n",
       "  </tbody>\n",
       "</table>\n",
       "</div>"
      ],
      "text/plain": [
       "   hard_label  nunique      prop\n",
       "0  0           3294     0.964286\n",
       "1  1           69       0.020199\n",
       "2  2           53       0.015515"
      ]
     },
     "execution_count": 81,
     "metadata": {},
     "output_type": "execute_result"
    }
   ],
   "source": [
    "dev \\\n",
    "    .groupby('hard_label') \\\n",
    "    .term_pair \\\n",
    "    .agg(nunique='nunique') \\\n",
    "    .reset_index() \\\n",
    "    .assign(prop=lambda df: df['nunique'] / df['nunique'].sum())"
   ]
  },
  {
   "cell_type": "code",
   "execution_count": 82,
   "metadata": {},
   "outputs": [
    {
     "data": {
      "text/html": [
       "<div>\n",
       "<style scoped>\n",
       "    .dataframe tbody tr th:only-of-type {\n",
       "        vertical-align: middle;\n",
       "    }\n",
       "\n",
       "    .dataframe tbody tr th {\n",
       "        vertical-align: top;\n",
       "    }\n",
       "\n",
       "    .dataframe thead th {\n",
       "        text-align: right;\n",
       "    }\n",
       "</style>\n",
       "<table border=\"1\" class=\"dataframe\">\n",
       "  <thead>\n",
       "    <tr style=\"text-align: right;\">\n",
       "      <th></th>\n",
       "      <th>hard_label</th>\n",
       "      <th>nunique</th>\n",
       "      <th>prop</th>\n",
       "    </tr>\n",
       "  </thead>\n",
       "  <tbody>\n",
       "    <tr>\n",
       "      <th>0</th>\n",
       "      <td>0</td>\n",
       "      <td>1641</td>\n",
       "      <td>0.975624</td>\n",
       "    </tr>\n",
       "    <tr>\n",
       "      <th>1</th>\n",
       "      <td>1</td>\n",
       "      <td>21</td>\n",
       "      <td>0.012485</td>\n",
       "    </tr>\n",
       "    <tr>\n",
       "      <th>2</th>\n",
       "      <td>2</td>\n",
       "      <td>20</td>\n",
       "      <td>0.011891</td>\n",
       "    </tr>\n",
       "  </tbody>\n",
       "</table>\n",
       "</div>"
      ],
      "text/plain": [
       "   hard_label  nunique      prop\n",
       "0  0           1641     0.975624\n",
       "1  1           21       0.012485\n",
       "2  2           20       0.011891"
      ]
     },
     "execution_count": 82,
     "metadata": {},
     "output_type": "execute_result"
    }
   ],
   "source": [
    "test \\\n",
    "    .groupby('hard_label') \\\n",
    "    .term_pair \\\n",
    "    .agg(nunique='nunique') \\\n",
    "    .reset_index() \\\n",
    "    .assign(prop=lambda df: df['nunique'] / df['nunique'].sum())"
   ]
  },
  {
   "cell_type": "markdown",
   "metadata": {},
   "source": [
    "We can look at distributions of term pair counts to get a sense of this. Most terms have 1 or two occurrences. There are more outliers for no-relation however. Some of these with more occurrences may be problematic and want to be screened (i.e. group and species)."
   ]
  },
  {
   "cell_type": "code",
   "execution_count": 83,
   "metadata": {},
   "outputs": [
    {
     "data": {
      "text/plain": [
       "<matplotlib.axes._subplots.AxesSubplot at 0x1a2afffd90>"
      ]
     },
     "execution_count": 83,
     "metadata": {},
     "output_type": "execute_result"
    },
    {
     "data": {
      "image/png": "[encoded data removed]",
      "text/plain": [
       "<Figure size 432x288 with 1 Axes>"
      ]
     },
     "metadata": {
      "needs_background": "light"
     },
     "output_type": "display_data"
    }
   ],
   "source": [
    "tp_train = \\\n",
    "    train \\\n",
    "    .groupby(['hard_label', 'term_pair']) \\\n",
    "    .term_pair \\\n",
    "    .agg(count='count') \\\n",
    "    .reset_index()\n",
    "sns.boxplot(data = tp_train, x = 'hard_label', y = 'count')"
   ]
  },
  {
   "cell_type": "code",
   "execution_count": 84,
   "metadata": {},
   "outputs": [
    {
     "data": {
      "text/html": [
       "<div>\n",
       "<style scoped>\n",
       "    .dataframe tbody tr th:only-of-type {\n",
       "        vertical-align: middle;\n",
       "    }\n",
       "\n",
       "    .dataframe tbody tr th {\n",
       "        vertical-align: top;\n",
       "    }\n",
       "\n",
       "    .dataframe thead th {\n",
       "        text-align: right;\n",
       "    }\n",
       "</style>\n",
       "<table border=\"1\" class=\"dataframe\">\n",
       "  <thead>\n",
       "    <tr style=\"text-align: right;\">\n",
       "      <th></th>\n",
       "      <th>hard_label</th>\n",
       "      <th>term_pair</th>\n",
       "      <th>count</th>\n",
       "    </tr>\n",
       "  </thead>\n",
       "  <tbody>\n",
       "    <tr>\n",
       "      <th>78428</th>\n",
       "      <td>2</td>\n",
       "      <td>(o2, co2)</td>\n",
       "      <td>25</td>\n",
       "    </tr>\n",
       "    <tr>\n",
       "      <th>78470</th>\n",
       "      <td>2</td>\n",
       "      <td>(permeability, membrane)</td>\n",
       "      <td>18</td>\n",
       "    </tr>\n",
       "    <tr>\n",
       "      <th>77777</th>\n",
       "      <td>2</td>\n",
       "      <td>(artery, arteriole)</td>\n",
       "      <td>15</td>\n",
       "    </tr>\n",
       "    <tr>\n",
       "      <th>78103</th>\n",
       "      <td>2</td>\n",
       "      <td>(fat, oil)</td>\n",
       "      <td>14</td>\n",
       "    </tr>\n",
       "    <tr>\n",
       "      <th>78176</th>\n",
       "      <td>2</td>\n",
       "      <td>(gene, allele)</td>\n",
       "      <td>13</td>\n",
       "    </tr>\n",
       "    <tr>\n",
       "      <th>76786</th>\n",
       "      <td>1</td>\n",
       "      <td>(co2, o2)</td>\n",
       "      <td>13</td>\n",
       "    </tr>\n",
       "    <tr>\n",
       "      <th>76748</th>\n",
       "      <td>1</td>\n",
       "      <td>(cell membrane, membrane)</td>\n",
       "      <td>12</td>\n",
       "    </tr>\n",
       "    <tr>\n",
       "      <th>78325</th>\n",
       "      <td>2</td>\n",
       "      <td>(macromolecule, protein)</td>\n",
       "      <td>12</td>\n",
       "    </tr>\n",
       "    <tr>\n",
       "      <th>78544</th>\n",
       "      <td>2</td>\n",
       "      <td>(protein, glycoprotein)</td>\n",
       "      <td>11</td>\n",
       "    </tr>\n",
       "    <tr>\n",
       "      <th>78550</th>\n",
       "      <td>2</td>\n",
       "      <td>(protein, receptor)</td>\n",
       "      <td>11</td>\n",
       "    </tr>\n",
       "  </tbody>\n",
       "</table>\n",
       "</div>"
      ],
      "text/plain": [
       "       hard_label                  term_pair  count\n",
       "78428  2           (o2, co2)                  25   \n",
       "78470  2           (permeability, membrane)   18   \n",
       "77777  2           (artery, arteriole)        15   \n",
       "78103  2           (fat, oil)                 14   \n",
       "78176  2           (gene, allele)             13   \n",
       "76786  1           (co2, o2)                  13   \n",
       "76748  1           (cell membrane, membrane)  12   \n",
       "78325  2           (macromolecule, protein)   12   \n",
       "78544  2           (protein, glycoprotein)    11   \n",
       "78550  2           (protein, receptor)        11   "
      ]
     },
     "execution_count": 84,
     "metadata": {},
     "output_type": "execute_result"
    }
   ],
   "source": [
    "tp_train[tp_train.hard_label > 0].sort_values('count', ascending=False).head(10)"
   ]
  },
  {
   "cell_type": "markdown",
   "metadata": {},
   "source": [
    "# Sentence Distributions\n",
    "\n",
    "The other piece of our input data is sentences. Our data has many term pairs for each sentence so first we can look at how many sentences are in each split."
   ]
  },
  {
   "cell_type": "code",
   "execution_count": 85,
   "metadata": {},
   "outputs": [
    {
     "data": {
      "text/plain": [
       "28268"
      ]
     },
     "execution_count": 85,
     "metadata": {},
     "output_type": "execute_result"
    }
   ],
   "source": [
    "len(train.groupby('text'))"
   ]
  },
  {
   "cell_type": "code",
   "execution_count": 86,
   "metadata": {},
   "outputs": [
    {
     "data": {
      "text/plain": [
       "753"
      ]
     },
     "execution_count": 86,
     "metadata": {},
     "output_type": "execute_result"
    }
   ],
   "source": [
    "len(dev.groupby('text'))"
   ]
  },
  {
   "cell_type": "code",
   "execution_count": 87,
   "metadata": {},
   "outputs": [
    {
     "data": {
      "text/plain": [
       "357"
      ]
     },
     "execution_count": 87,
     "metadata": {},
     "output_type": "execute_result"
    }
   ],
   "source": [
    "len(test.groupby('text'))"
   ]
  },
  {
   "cell_type": "markdown",
   "metadata": {},
   "source": [
    "Next we can see how many of these sentences have a positive label in them. "
   ]
  },
  {
   "cell_type": "code",
   "execution_count": 88,
   "metadata": {},
   "outputs": [
    {
     "data": {
      "text/html": [
       "<div>\n",
       "<style scoped>\n",
       "    .dataframe tbody tr th:only-of-type {\n",
       "        vertical-align: middle;\n",
       "    }\n",
       "\n",
       "    .dataframe tbody tr th {\n",
       "        vertical-align: top;\n",
       "    }\n",
       "\n",
       "    .dataframe thead th {\n",
       "        text-align: right;\n",
       "    }\n",
       "</style>\n",
       "<table border=\"1\" class=\"dataframe\">\n",
       "  <thead>\n",
       "    <tr style=\"text-align: right;\">\n",
       "      <th></th>\n",
       "      <th>hyponym</th>\n",
       "      <th>hypernym</th>\n",
       "      <th>count</th>\n",
       "      <th>prop</th>\n",
       "    </tr>\n",
       "  </thead>\n",
       "  <tbody>\n",
       "    <tr>\n",
       "      <th>0</th>\n",
       "      <td>False</td>\n",
       "      <td>False</td>\n",
       "      <td>25394</td>\n",
       "      <td>0.898330</td>\n",
       "    </tr>\n",
       "    <tr>\n",
       "      <th>1</th>\n",
       "      <td>False</td>\n",
       "      <td>True</td>\n",
       "      <td>1361</td>\n",
       "      <td>0.048146</td>\n",
       "    </tr>\n",
       "    <tr>\n",
       "      <th>2</th>\n",
       "      <td>True</td>\n",
       "      <td>False</td>\n",
       "      <td>1372</td>\n",
       "      <td>0.048535</td>\n",
       "    </tr>\n",
       "    <tr>\n",
       "      <th>3</th>\n",
       "      <td>True</td>\n",
       "      <td>True</td>\n",
       "      <td>141</td>\n",
       "      <td>0.004988</td>\n",
       "    </tr>\n",
       "  </tbody>\n",
       "</table>\n",
       "</div>"
      ],
      "text/plain": [
       "   hyponym  hypernym  count      prop\n",
       "0  False    False     25394  0.898330\n",
       "1  False    True      1361   0.048146\n",
       "2  True     False     1372   0.048535\n",
       "3  True     True      141    0.004988"
      ]
     },
     "execution_count": 88,
     "metadata": {},
     "output_type": "execute_result"
    }
   ],
   "source": [
    "train \\\n",
    "    .groupby('text') \\\n",
    "    .hard_label \\\n",
    "    .agg(hyponym=lambda x: any(x == 1), hypernym=lambda x: any(x == 2)) \\\n",
    "    .reset_index() \\\n",
    "    .groupby(['hyponym', 'hypernym']) \\\n",
    "    .text \\\n",
    "    .agg(count='count') \\\n",
    "    .reset_index() \\\n",
    "    .assign(prop=lambda df: df['count'] / df['count'].sum())"
   ]
  },
  {
   "cell_type": "code",
   "execution_count": 89,
   "metadata": {},
   "outputs": [
    {
     "data": {
      "text/html": [
       "<div>\n",
       "<style scoped>\n",
       "    .dataframe tbody tr th:only-of-type {\n",
       "        vertical-align: middle;\n",
       "    }\n",
       "\n",
       "    .dataframe tbody tr th {\n",
       "        vertical-align: top;\n",
       "    }\n",
       "\n",
       "    .dataframe thead th {\n",
       "        text-align: right;\n",
       "    }\n",
       "</style>\n",
       "<table border=\"1\" class=\"dataframe\">\n",
       "  <thead>\n",
       "    <tr style=\"text-align: right;\">\n",
       "      <th></th>\n",
       "      <th>hyponym</th>\n",
       "      <th>hypernym</th>\n",
       "      <th>count</th>\n",
       "      <th>prop</th>\n",
       "    </tr>\n",
       "  </thead>\n",
       "  <tbody>\n",
       "    <tr>\n",
       "      <th>0</th>\n",
       "      <td>False</td>\n",
       "      <td>False</td>\n",
       "      <td>643</td>\n",
       "      <td>0.853918</td>\n",
       "    </tr>\n",
       "    <tr>\n",
       "      <th>1</th>\n",
       "      <td>False</td>\n",
       "      <td>True</td>\n",
       "      <td>42</td>\n",
       "      <td>0.055777</td>\n",
       "    </tr>\n",
       "    <tr>\n",
       "      <th>2</th>\n",
       "      <td>True</td>\n",
       "      <td>False</td>\n",
       "      <td>62</td>\n",
       "      <td>0.082337</td>\n",
       "    </tr>\n",
       "    <tr>\n",
       "      <th>3</th>\n",
       "      <td>True</td>\n",
       "      <td>True</td>\n",
       "      <td>6</td>\n",
       "      <td>0.007968</td>\n",
       "    </tr>\n",
       "  </tbody>\n",
       "</table>\n",
       "</div>"
      ],
      "text/plain": [
       "   hyponym  hypernym  count      prop\n",
       "0  False    False     643    0.853918\n",
       "1  False    True      42     0.055777\n",
       "2  True     False     62     0.082337\n",
       "3  True     True      6      0.007968"
      ]
     },
     "execution_count": 89,
     "metadata": {},
     "output_type": "execute_result"
    }
   ],
   "source": [
    "dev \\\n",
    "    .groupby('text') \\\n",
    "    .hard_label \\\n",
    "    .agg(hyponym=lambda x: any(x == 1), hypernym=lambda x: any(x == 2)) \\\n",
    "    .reset_index() \\\n",
    "    .groupby(['hyponym', 'hypernym']) \\\n",
    "    .text \\\n",
    "    .agg(count='count') \\\n",
    "    .reset_index() \\\n",
    "    .assign(prop=lambda df: df['count'] / df['count'].sum())"
   ]
  },
  {
   "cell_type": "code",
   "execution_count": 90,
   "metadata": {},
   "outputs": [
    {
     "data": {
      "text/html": [
       "<div>\n",
       "<style scoped>\n",
       "    .dataframe tbody tr th:only-of-type {\n",
       "        vertical-align: middle;\n",
       "    }\n",
       "\n",
       "    .dataframe tbody tr th {\n",
       "        vertical-align: top;\n",
       "    }\n",
       "\n",
       "    .dataframe thead th {\n",
       "        text-align: right;\n",
       "    }\n",
       "</style>\n",
       "<table border=\"1\" class=\"dataframe\">\n",
       "  <thead>\n",
       "    <tr style=\"text-align: right;\">\n",
       "      <th></th>\n",
       "      <th>hyponym</th>\n",
       "      <th>hypernym</th>\n",
       "      <th>count</th>\n",
       "      <th>prop</th>\n",
       "    </tr>\n",
       "  </thead>\n",
       "  <tbody>\n",
       "    <tr>\n",
       "      <th>0</th>\n",
       "      <td>False</td>\n",
       "      <td>False</td>\n",
       "      <td>317</td>\n",
       "      <td>0.887955</td>\n",
       "    </tr>\n",
       "    <tr>\n",
       "      <th>1</th>\n",
       "      <td>False</td>\n",
       "      <td>True</td>\n",
       "      <td>16</td>\n",
       "      <td>0.044818</td>\n",
       "    </tr>\n",
       "    <tr>\n",
       "      <th>2</th>\n",
       "      <td>True</td>\n",
       "      <td>False</td>\n",
       "      <td>23</td>\n",
       "      <td>0.064426</td>\n",
       "    </tr>\n",
       "    <tr>\n",
       "      <th>3</th>\n",
       "      <td>True</td>\n",
       "      <td>True</td>\n",
       "      <td>1</td>\n",
       "      <td>0.002801</td>\n",
       "    </tr>\n",
       "  </tbody>\n",
       "</table>\n",
       "</div>"
      ],
      "text/plain": [
       "   hyponym  hypernym  count      prop\n",
       "0  False    False     317    0.887955\n",
       "1  False    True      16     0.044818\n",
       "2  True     False     23     0.064426\n",
       "3  True     True      1      0.002801"
      ]
     },
     "execution_count": 90,
     "metadata": {},
     "output_type": "execute_result"
    }
   ],
   "source": [
    "test \\\n",
    "    .groupby('text') \\\n",
    "    .hard_label \\\n",
    "    .agg(hyponym=lambda x: any(x == 1), hypernym=lambda x: any(x == 2)) \\\n",
    "    .reset_index() \\\n",
    "    .groupby(['hyponym', 'hypernym']) \\\n",
    "    .text \\\n",
    "    .agg(count='count') \\\n",
    "    .reset_index() \\\n",
    "    .assign(prop=lambda df: df['count'] / df['count'].sum())"
   ]
  },
  {
   "cell_type": "markdown",
   "metadata": {},
   "source": [
    "Finally we can look at the distribution of total term pair counts within individual sentences."
   ]
  },
  {
   "cell_type": "code",
   "execution_count": 91,
   "metadata": {},
   "outputs": [
    {
     "data": {
      "text/plain": [
       "<matplotlib.axes._subplots.AxesSubplot at 0x1a3aaf0c50>"
      ]
     },
     "execution_count": 91,
     "metadata": {},
     "output_type": "execute_result"
    },
    {
     "data": {
      "image/png": "[encoded data removed]",
      "text/plain": [
       "<Figure size 432x288 with 1 Axes>"
      ]
     },
     "metadata": {
      "needs_background": "light"
     },
     "output_type": "display_data"
    }
   ],
   "source": [
    "tmp = \\\n",
    "    train \\\n",
    "    .groupby('text') \\\n",
    "    .term_pair \\\n",
    "    .agg(count='count') \\\n",
    "    .reset_index() \\\n",
    "    .sort_values('count', ascending=False)\n",
    "sns.distplot(tmp['count'], norm_hist=False, kde=False)"
   ]
  },
  {
   "cell_type": "markdown",
   "metadata": {},
   "source": [
    "# Down Sample Training Data\n",
    "\n",
    "Currently the training data has over 100,000 examples with only about 1 percent positive examples. To make this more tractable and balanced we sample down both negatives sentences without a taxonomic relationship and then sample down negative examples within sentences "
   ]
  },
  {
   "cell_type": "code",
   "execution_count": 92,
   "metadata": {},
   "outputs": [
    {
     "name": "stdout",
     "output_type": "stream",
     "text": [
      "(130820, 30)\n"
     ]
    },
    {
     "data": {
      "text/plain": [
       "(75665, 30)"
      ]
     },
     "execution_count": 92,
     "metadata": {},
     "output_type": "execute_result"
    }
   ],
   "source": [
    "# sample down negative sentences\n",
    "sent_check = train.groupby('text').agg({'majority_vote': lambda x: sum(x) > 0}).reset_index()\n",
    "neg_exs = sent_check[~sent_check.majority_vote].sample(frac=0.50)\n",
    "print(train.shape)\n",
    "train_reduced = train[~train.text.isin(neg_exs.text)]\n",
    "train_reduced.shape"
   ]
  },
  {
   "cell_type": "code",
   "execution_count": 93,
   "metadata": {},
   "outputs": [
    {
     "name": "stderr",
     "output_type": "stream",
     "text": [
      "/anaconda3/lib/python3.7/site-packages/ipykernel_launcher.py:5: SettingWithCopyWarning: \n",
      "A value is trying to be set on a copy of a slice from a DataFrame.\n",
      "Try using .loc[row_indexer,col_indexer] = value instead\n",
      "\n",
      "See the caveats in the documentation: http://pandas.pydata.org/pandas-docs/stable/user_guide/indexing.html#returning-a-view-versus-a-copy\n",
      "  \"\"\"\n"
     ]
    },
    {
     "data": {
      "text/plain": [
       "(32388, 31)"
      ]
     },
     "execution_count": 93,
     "metadata": {},
     "output_type": "execute_result"
    }
   ],
   "source": [
    "# sample down negative examples within sentences\n",
    "sent_check = train_reduced.groupby(['text', 'term_pair']).agg({'majority_vote': lambda x: sum(x) > 0}).reset_index()\n",
    "neg_exs = sent_check[~sent_check.majority_vote].sample(frac=0.6)\n",
    "neg_exs['part'] = list(zip(neg_exs['text'], neg_exs['term_pair']))\n",
    "train_reduced['part'] = list(zip(train_reduced['text'], train_reduced['term_pair']))\n",
    "train_reduced = train_reduced[~train_reduced.part.isin(neg_exs.part)]\n",
    "train_reduced.shape"
   ]
  },
  {
   "cell_type": "code",
   "execution_count": 94,
   "metadata": {},
   "outputs": [
    {
     "data": {
      "text/html": [
       "<div>\n",
       "<style scoped>\n",
       "    .dataframe tbody tr th:only-of-type {\n",
       "        vertical-align: middle;\n",
       "    }\n",
       "\n",
       "    .dataframe tbody tr th {\n",
       "        vertical-align: top;\n",
       "    }\n",
       "\n",
       "    .dataframe thead th {\n",
       "        text-align: right;\n",
       "    }\n",
       "</style>\n",
       "<table border=\"1\" class=\"dataframe\">\n",
       "  <thead>\n",
       "    <tr style=\"text-align: right;\">\n",
       "      <th></th>\n",
       "      <th>hard_label</th>\n",
       "      <th>count</th>\n",
       "      <th>prop</th>\n",
       "    </tr>\n",
       "  </thead>\n",
       "  <tbody>\n",
       "    <tr>\n",
       "      <th>0</th>\n",
       "      <td>0</td>\n",
       "      <td>28844</td>\n",
       "      <td>0.890577</td>\n",
       "    </tr>\n",
       "    <tr>\n",
       "      <th>1</th>\n",
       "      <td>1</td>\n",
       "      <td>1667</td>\n",
       "      <td>0.051470</td>\n",
       "    </tr>\n",
       "    <tr>\n",
       "      <th>2</th>\n",
       "      <td>2</td>\n",
       "      <td>1877</td>\n",
       "      <td>0.057954</td>\n",
       "    </tr>\n",
       "  </tbody>\n",
       "</table>\n",
       "</div>"
      ],
      "text/plain": [
       "   hard_label  count      prop\n",
       "0  0           28844  0.890577\n",
       "1  1           1667   0.051470\n",
       "2  2           1877   0.057954"
      ]
     },
     "execution_count": 94,
     "metadata": {},
     "output_type": "execute_result"
    }
   ],
   "source": [
    "train_reduced \\\n",
    "    .groupby('hard_label') \\\n",
    "    .majority_vote \\\n",
    "    .agg(count='count') \\\n",
    "    .reset_index() \\\n",
    "    .assign(prop=lambda df: df['count'] / df['count'].sum())"
   ]
  },
  {
   "cell_type": "code",
   "execution_count": 95,
   "metadata": {},
   "outputs": [
    {
     "data": {
      "text/html": [
       "<div>\n",
       "<style scoped>\n",
       "    .dataframe tbody tr th:only-of-type {\n",
       "        vertical-align: middle;\n",
       "    }\n",
       "\n",
       "    .dataframe tbody tr th {\n",
       "        vertical-align: top;\n",
       "    }\n",
       "\n",
       "    .dataframe thead th {\n",
       "        text-align: right;\n",
       "    }\n",
       "</style>\n",
       "<table border=\"1\" class=\"dataframe\">\n",
       "  <thead>\n",
       "    <tr style=\"text-align: right;\">\n",
       "      <th></th>\n",
       "      <th>hard_label</th>\n",
       "      <th>nunique</th>\n",
       "      <th>prop</th>\n",
       "    </tr>\n",
       "  </thead>\n",
       "  <tbody>\n",
       "    <tr>\n",
       "      <th>0</th>\n",
       "      <td>0</td>\n",
       "      <td>23641</td>\n",
       "      <td>0.913344</td>\n",
       "    </tr>\n",
       "    <tr>\n",
       "      <th>1</th>\n",
       "      <td>1</td>\n",
       "      <td>1135</td>\n",
       "      <td>0.043849</td>\n",
       "    </tr>\n",
       "    <tr>\n",
       "      <th>2</th>\n",
       "      <td>2</td>\n",
       "      <td>1108</td>\n",
       "      <td>0.042806</td>\n",
       "    </tr>\n",
       "  </tbody>\n",
       "</table>\n",
       "</div>"
      ],
      "text/plain": [
       "   hard_label  nunique      prop\n",
       "0  0           23641    0.913344\n",
       "1  1           1135     0.043849\n",
       "2  2           1108     0.042806"
      ]
     },
     "execution_count": 95,
     "metadata": {},
     "output_type": "execute_result"
    }
   ],
   "source": [
    "train_reduced \\\n",
    "    .groupby('hard_label') \\\n",
    "    .term_pair \\\n",
    "    .agg(nunique='nunique') \\\n",
    "    .reset_index() \\\n",
    "    .assign(prop=lambda df: df['nunique'] / df['nunique'].sum())"
   ]
  },
  {
   "cell_type": "code",
   "execution_count": 96,
   "metadata": {},
   "outputs": [
    {
     "name": "stdout",
     "output_type": "stream",
     "text": [
      "11740\n"
     ]
    }
   ],
   "source": [
    "print(len(np.unique(train_reduced.text)))"
   ]
  },
  {
   "cell_type": "code",
   "execution_count": 97,
   "metadata": {},
   "outputs": [
    {
     "data": {
      "text/html": [
       "<div>\n",
       "<style scoped>\n",
       "    .dataframe tbody tr th:only-of-type {\n",
       "        vertical-align: middle;\n",
       "    }\n",
       "\n",
       "    .dataframe tbody tr th {\n",
       "        vertical-align: top;\n",
       "    }\n",
       "\n",
       "    .dataframe thead th {\n",
       "        text-align: right;\n",
       "    }\n",
       "</style>\n",
       "<table border=\"1\" class=\"dataframe\">\n",
       "  <thead>\n",
       "    <tr style=\"text-align: right;\">\n",
       "      <th></th>\n",
       "      <th>hyponym</th>\n",
       "      <th>hypernym</th>\n",
       "      <th>count</th>\n",
       "      <th>prop</th>\n",
       "    </tr>\n",
       "  </thead>\n",
       "  <tbody>\n",
       "    <tr>\n",
       "      <th>0</th>\n",
       "      <td>False</td>\n",
       "      <td>False</td>\n",
       "      <td>8866</td>\n",
       "      <td>0.755196</td>\n",
       "    </tr>\n",
       "    <tr>\n",
       "      <th>1</th>\n",
       "      <td>False</td>\n",
       "      <td>True</td>\n",
       "      <td>1361</td>\n",
       "      <td>0.115928</td>\n",
       "    </tr>\n",
       "    <tr>\n",
       "      <th>2</th>\n",
       "      <td>True</td>\n",
       "      <td>False</td>\n",
       "      <td>1372</td>\n",
       "      <td>0.116865</td>\n",
       "    </tr>\n",
       "    <tr>\n",
       "      <th>3</th>\n",
       "      <td>True</td>\n",
       "      <td>True</td>\n",
       "      <td>141</td>\n",
       "      <td>0.012010</td>\n",
       "    </tr>\n",
       "  </tbody>\n",
       "</table>\n",
       "</div>"
      ],
      "text/plain": [
       "   hyponym  hypernym  count      prop\n",
       "0  False    False     8866   0.755196\n",
       "1  False    True      1361   0.115928\n",
       "2  True     False     1372   0.116865\n",
       "3  True     True      141    0.012010"
      ]
     },
     "execution_count": 97,
     "metadata": {},
     "output_type": "execute_result"
    }
   ],
   "source": [
    "train_reduced \\\n",
    "    .groupby('text') \\\n",
    "    .hard_label \\\n",
    "    .agg(hyponym=lambda x: any(x == 1), hypernym=lambda x: any(x == 2)) \\\n",
    "    .reset_index() \\\n",
    "    .groupby(['hyponym', 'hypernym']) \\\n",
    "    .text \\\n",
    "    .agg(count='count') \\\n",
    "    .reset_index() \\\n",
    "    .assign(prop=lambda df: df['count'] / df['count'].sum())"
   ]
  },
  {
   "cell_type": "markdown",
   "metadata": {},
   "source": [
    "# Create a small debugging set"
   ]
  },
  {
   "cell_type": "code",
   "execution_count": 98,
   "metadata": {},
   "outputs": [
    {
     "data": {
      "text/plain": [
       "(58, 30)"
      ]
     },
     "execution_count": 98,
     "metadata": {},
     "output_type": "execute_result"
    }
   ],
   "source": [
    "# create a debugging set with 10 sentences with a taxonomy relation and 10 without\n",
    "sent_check = train.groupby('text').agg({'hard_label': lambda x: sum(x) > 0}).reset_index()\n",
    "pos_exs = sent_check[sent_check.hard_label].sample(5)\n",
    "neg_exs = sent_check[~sent_check.hard_label].sample(5)\n",
    "debug = pd.concat(\n",
    "    [train[train.text.isin(pos_exs.text)], \n",
    "     train[train.text.isin(neg_exs.text)]], \n",
    "    axis=0)\n",
    "debug.shape"
   ]
  },
  {
   "cell_type": "markdown",
   "metadata": {},
   "source": [
    "# Write out data"
   ]
  },
  {
   "cell_type": "code",
   "execution_count": 99,
   "metadata": {},
   "outputs": [],
   "source": [
    "train.to_pickle('data/model_data/train_full.pkl')\n",
    "train_reduced.to_pickle('data/model_data/train.pkl')\n",
    "debug.to_pickle('data/model_data/debug.pkl')\n",
    "dev.to_pickle('data/model_data/dev.pkl')\n",
    "test.to_pickle('data/model_data/test.pkl')"
   ]
  },
  {
   "cell_type": "code",
   "execution_count": null,
   "metadata": {},
   "outputs": [],
   "source": []
  }
 ],
 "metadata": {
  "kernelspec": {
   "display_name": "tokn",
   "language": "python",
   "name": "tokn"
  },
  "language_info": {
   "codemirror_mode": {
    "name": "ipython",
    "version": 3
   },
   "file_extension": ".py",
   "mimetype": "text/x-python",
   "name": "python",
   "nbconvert_exporter": "python",
   "pygments_lexer": "ipython3",
   "version": "3.7.4"
  },
  "toc-autonumbering": false
 },
 "nbformat": 4,
 "nbformat_minor": 4
}
